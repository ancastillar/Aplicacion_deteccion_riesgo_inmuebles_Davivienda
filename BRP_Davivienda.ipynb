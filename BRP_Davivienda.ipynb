{
  "nbformat": 4,
  "nbformat_minor": 0,
  "metadata": {
    "colab": {
      "name": "BRP_Davivienda.ipynb",
      "provenance": [],
      "collapsed_sections": [],
      "mount_file_id": "1hbWBpZsN4j3PaUnIV8aYdOLbltVAgvMu",
      "authorship_tag": "ABX9TyO5dcuYCW9KCYO15I1bj2r3",
      "include_colab_link": true
    },
    "kernelspec": {
      "name": "python3",
      "display_name": "Python 3"
    },
    "widgets": {
      "application/vnd.jupyter.widget-state+json": {
        "4e7b2cff246c4a009d80a87322321bf1": {
          "model_module": "@jupyter-widgets/controls",
          "model_name": "HBoxModel",
          "state": {
            "_view_name": "HBoxView",
            "_dom_classes": [],
            "_model_name": "HBoxModel",
            "_view_module": "@jupyter-widgets/controls",
            "_model_module_version": "1.5.0",
            "_view_count": null,
            "_view_module_version": "1.5.0",
            "box_style": "",
            "layout": "IPY_MODEL_19db41e33da743b3a176041d9e680ccd",
            "_model_module": "@jupyter-widgets/controls",
            "children": [
              "IPY_MODEL_6d1aa95de3d84687bf32393390457bbf",
              "IPY_MODEL_7687d36d16e440da9d0cd03618901c56",
              "IPY_MODEL_eb7c8a2741924a4f886a94e37a9f3ca5"
            ]
          }
        },
        "19db41e33da743b3a176041d9e680ccd": {
          "model_module": "@jupyter-widgets/base",
          "model_name": "LayoutModel",
          "state": {
            "_view_name": "LayoutView",
            "grid_template_rows": null,
            "right": null,
            "justify_content": null,
            "_view_module": "@jupyter-widgets/base",
            "overflow": null,
            "_model_module_version": "1.2.0",
            "_view_count": null,
            "flex_flow": null,
            "width": null,
            "min_width": null,
            "border": null,
            "align_items": null,
            "bottom": null,
            "_model_module": "@jupyter-widgets/base",
            "top": null,
            "grid_column": null,
            "overflow_y": null,
            "overflow_x": null,
            "grid_auto_flow": null,
            "grid_area": null,
            "grid_template_columns": null,
            "flex": null,
            "_model_name": "LayoutModel",
            "justify_items": null,
            "grid_row": null,
            "max_height": null,
            "align_content": null,
            "visibility": null,
            "align_self": null,
            "height": null,
            "min_height": null,
            "padding": null,
            "grid_auto_rows": null,
            "grid_gap": null,
            "max_width": null,
            "order": null,
            "_view_module_version": "1.2.0",
            "grid_template_areas": null,
            "object_position": null,
            "object_fit": null,
            "grid_auto_columns": null,
            "margin": null,
            "display": null,
            "left": null
          }
        },
        "6d1aa95de3d84687bf32393390457bbf": {
          "model_module": "@jupyter-widgets/controls",
          "model_name": "HTMLModel",
          "state": {
            "_view_name": "HTMLView",
            "style": "IPY_MODEL_036dece98e914c7282086d5c77d07fdb",
            "_dom_classes": [],
            "description": "",
            "_model_name": "HTMLModel",
            "placeholder": "​",
            "_view_module": "@jupyter-widgets/controls",
            "_model_module_version": "1.5.0",
            "value": "Summarize dataset: 100%",
            "_view_count": null,
            "_view_module_version": "1.5.0",
            "description_tooltip": null,
            "_model_module": "@jupyter-widgets/controls",
            "layout": "IPY_MODEL_73bf31fb5ec94ddfbab8bf99f923a715"
          }
        },
        "7687d36d16e440da9d0cd03618901c56": {
          "model_module": "@jupyter-widgets/controls",
          "model_name": "FloatProgressModel",
          "state": {
            "_view_name": "ProgressView",
            "style": "IPY_MODEL_2d710d534fb74dfeadb84e865c69a4a4",
            "_dom_classes": [],
            "description": "",
            "_model_name": "FloatProgressModel",
            "bar_style": "success",
            "max": 59,
            "_view_module": "@jupyter-widgets/controls",
            "_model_module_version": "1.5.0",
            "value": 59,
            "_view_count": null,
            "_view_module_version": "1.5.0",
            "orientation": "horizontal",
            "min": 0,
            "description_tooltip": null,
            "_model_module": "@jupyter-widgets/controls",
            "layout": "IPY_MODEL_320973d02cfe42229f1edd6a02422935"
          }
        },
        "eb7c8a2741924a4f886a94e37a9f3ca5": {
          "model_module": "@jupyter-widgets/controls",
          "model_name": "HTMLModel",
          "state": {
            "_view_name": "HTMLView",
            "style": "IPY_MODEL_b10025733264439ca20e500a2b9e92d0",
            "_dom_classes": [],
            "description": "",
            "_model_name": "HTMLModel",
            "placeholder": "​",
            "_view_module": "@jupyter-widgets/controls",
            "_model_module_version": "1.5.0",
            "value": " 59/59 [04:11&lt;00:00,  4.27s/it, Completed]",
            "_view_count": null,
            "_view_module_version": "1.5.0",
            "description_tooltip": null,
            "_model_module": "@jupyter-widgets/controls",
            "layout": "IPY_MODEL_9fddf6826ace4cc987256945599f2c66"
          }
        },
        "036dece98e914c7282086d5c77d07fdb": {
          "model_module": "@jupyter-widgets/controls",
          "model_name": "DescriptionStyleModel",
          "state": {
            "_view_name": "StyleView",
            "_model_name": "DescriptionStyleModel",
            "description_width": "",
            "_view_module": "@jupyter-widgets/base",
            "_model_module_version": "1.5.0",
            "_view_count": null,
            "_view_module_version": "1.2.0",
            "_model_module": "@jupyter-widgets/controls"
          }
        },
        "73bf31fb5ec94ddfbab8bf99f923a715": {
          "model_module": "@jupyter-widgets/base",
          "model_name": "LayoutModel",
          "state": {
            "_view_name": "LayoutView",
            "grid_template_rows": null,
            "right": null,
            "justify_content": null,
            "_view_module": "@jupyter-widgets/base",
            "overflow": null,
            "_model_module_version": "1.2.0",
            "_view_count": null,
            "flex_flow": null,
            "width": null,
            "min_width": null,
            "border": null,
            "align_items": null,
            "bottom": null,
            "_model_module": "@jupyter-widgets/base",
            "top": null,
            "grid_column": null,
            "overflow_y": null,
            "overflow_x": null,
            "grid_auto_flow": null,
            "grid_area": null,
            "grid_template_columns": null,
            "flex": null,
            "_model_name": "LayoutModel",
            "justify_items": null,
            "grid_row": null,
            "max_height": null,
            "align_content": null,
            "visibility": null,
            "align_self": null,
            "height": null,
            "min_height": null,
            "padding": null,
            "grid_auto_rows": null,
            "grid_gap": null,
            "max_width": null,
            "order": null,
            "_view_module_version": "1.2.0",
            "grid_template_areas": null,
            "object_position": null,
            "object_fit": null,
            "grid_auto_columns": null,
            "margin": null,
            "display": null,
            "left": null
          }
        },
        "2d710d534fb74dfeadb84e865c69a4a4": {
          "model_module": "@jupyter-widgets/controls",
          "model_name": "ProgressStyleModel",
          "state": {
            "_view_name": "StyleView",
            "_model_name": "ProgressStyleModel",
            "description_width": "",
            "_view_module": "@jupyter-widgets/base",
            "_model_module_version": "1.5.0",
            "_view_count": null,
            "_view_module_version": "1.2.0",
            "bar_color": null,
            "_model_module": "@jupyter-widgets/controls"
          }
        },
        "320973d02cfe42229f1edd6a02422935": {
          "model_module": "@jupyter-widgets/base",
          "model_name": "LayoutModel",
          "state": {
            "_view_name": "LayoutView",
            "grid_template_rows": null,
            "right": null,
            "justify_content": null,
            "_view_module": "@jupyter-widgets/base",
            "overflow": null,
            "_model_module_version": "1.2.0",
            "_view_count": null,
            "flex_flow": null,
            "width": null,
            "min_width": null,
            "border": null,
            "align_items": null,
            "bottom": null,
            "_model_module": "@jupyter-widgets/base",
            "top": null,
            "grid_column": null,
            "overflow_y": null,
            "overflow_x": null,
            "grid_auto_flow": null,
            "grid_area": null,
            "grid_template_columns": null,
            "flex": null,
            "_model_name": "LayoutModel",
            "justify_items": null,
            "grid_row": null,
            "max_height": null,
            "align_content": null,
            "visibility": null,
            "align_self": null,
            "height": null,
            "min_height": null,
            "padding": null,
            "grid_auto_rows": null,
            "grid_gap": null,
            "max_width": null,
            "order": null,
            "_view_module_version": "1.2.0",
            "grid_template_areas": null,
            "object_position": null,
            "object_fit": null,
            "grid_auto_columns": null,
            "margin": null,
            "display": null,
            "left": null
          }
        },
        "b10025733264439ca20e500a2b9e92d0": {
          "model_module": "@jupyter-widgets/controls",
          "model_name": "DescriptionStyleModel",
          "state": {
            "_view_name": "StyleView",
            "_model_name": "DescriptionStyleModel",
            "description_width": "",
            "_view_module": "@jupyter-widgets/base",
            "_model_module_version": "1.5.0",
            "_view_count": null,
            "_view_module_version": "1.2.0",
            "_model_module": "@jupyter-widgets/controls"
          }
        },
        "9fddf6826ace4cc987256945599f2c66": {
          "model_module": "@jupyter-widgets/base",
          "model_name": "LayoutModel",
          "state": {
            "_view_name": "LayoutView",
            "grid_template_rows": null,
            "right": null,
            "justify_content": null,
            "_view_module": "@jupyter-widgets/base",
            "overflow": null,
            "_model_module_version": "1.2.0",
            "_view_count": null,
            "flex_flow": null,
            "width": null,
            "min_width": null,
            "border": null,
            "align_items": null,
            "bottom": null,
            "_model_module": "@jupyter-widgets/base",
            "top": null,
            "grid_column": null,
            "overflow_y": null,
            "overflow_x": null,
            "grid_auto_flow": null,
            "grid_area": null,
            "grid_template_columns": null,
            "flex": null,
            "_model_name": "LayoutModel",
            "justify_items": null,
            "grid_row": null,
            "max_height": null,
            "align_content": null,
            "visibility": null,
            "align_self": null,
            "height": null,
            "min_height": null,
            "padding": null,
            "grid_auto_rows": null,
            "grid_gap": null,
            "max_width": null,
            "order": null,
            "_view_module_version": "1.2.0",
            "grid_template_areas": null,
            "object_position": null,
            "object_fit": null,
            "grid_auto_columns": null,
            "margin": null,
            "display": null,
            "left": null
          }
        },
        "55b55ff114ef4254b1c51a604fc901a5": {
          "model_module": "@jupyter-widgets/controls",
          "model_name": "HBoxModel",
          "state": {
            "_view_name": "HBoxView",
            "_dom_classes": [],
            "_model_name": "HBoxModel",
            "_view_module": "@jupyter-widgets/controls",
            "_model_module_version": "1.5.0",
            "_view_count": null,
            "_view_module_version": "1.5.0",
            "box_style": "",
            "layout": "IPY_MODEL_d8d28b755d8f47d186166f4b0aea380f",
            "_model_module": "@jupyter-widgets/controls",
            "children": [
              "IPY_MODEL_cb23c7eea9264a27ba1468bc04826afb",
              "IPY_MODEL_b596b7b8ecc34216abe6acae6c897d81",
              "IPY_MODEL_9b84210be5774aef98cb98147297169a"
            ]
          }
        },
        "d8d28b755d8f47d186166f4b0aea380f": {
          "model_module": "@jupyter-widgets/base",
          "model_name": "LayoutModel",
          "state": {
            "_view_name": "LayoutView",
            "grid_template_rows": null,
            "right": null,
            "justify_content": null,
            "_view_module": "@jupyter-widgets/base",
            "overflow": null,
            "_model_module_version": "1.2.0",
            "_view_count": null,
            "flex_flow": null,
            "width": null,
            "min_width": null,
            "border": null,
            "align_items": null,
            "bottom": null,
            "_model_module": "@jupyter-widgets/base",
            "top": null,
            "grid_column": null,
            "overflow_y": null,
            "overflow_x": null,
            "grid_auto_flow": null,
            "grid_area": null,
            "grid_template_columns": null,
            "flex": null,
            "_model_name": "LayoutModel",
            "justify_items": null,
            "grid_row": null,
            "max_height": null,
            "align_content": null,
            "visibility": null,
            "align_self": null,
            "height": null,
            "min_height": null,
            "padding": null,
            "grid_auto_rows": null,
            "grid_gap": null,
            "max_width": null,
            "order": null,
            "_view_module_version": "1.2.0",
            "grid_template_areas": null,
            "object_position": null,
            "object_fit": null,
            "grid_auto_columns": null,
            "margin": null,
            "display": null,
            "left": null
          }
        },
        "cb23c7eea9264a27ba1468bc04826afb": {
          "model_module": "@jupyter-widgets/controls",
          "model_name": "HTMLModel",
          "state": {
            "_view_name": "HTMLView",
            "style": "IPY_MODEL_e31791fe77004504ba66dc13d942fe02",
            "_dom_classes": [],
            "description": "",
            "_model_name": "HTMLModel",
            "placeholder": "​",
            "_view_module": "@jupyter-widgets/controls",
            "_model_module_version": "1.5.0",
            "value": "Generate report structure: 100%",
            "_view_count": null,
            "_view_module_version": "1.5.0",
            "description_tooltip": null,
            "_model_module": "@jupyter-widgets/controls",
            "layout": "IPY_MODEL_9e558834591344ed97ad047176d06da2"
          }
        },
        "b596b7b8ecc34216abe6acae6c897d81": {
          "model_module": "@jupyter-widgets/controls",
          "model_name": "FloatProgressModel",
          "state": {
            "_view_name": "ProgressView",
            "style": "IPY_MODEL_5553ea84c4e44b558cb0f313206eaf56",
            "_dom_classes": [],
            "description": "",
            "_model_name": "FloatProgressModel",
            "bar_style": "success",
            "max": 1,
            "_view_module": "@jupyter-widgets/controls",
            "_model_module_version": "1.5.0",
            "value": 1,
            "_view_count": null,
            "_view_module_version": "1.5.0",
            "orientation": "horizontal",
            "min": 0,
            "description_tooltip": null,
            "_model_module": "@jupyter-widgets/controls",
            "layout": "IPY_MODEL_bcbf85d31e2b439a8feb03e99ee9d041"
          }
        },
        "9b84210be5774aef98cb98147297169a": {
          "model_module": "@jupyter-widgets/controls",
          "model_name": "HTMLModel",
          "state": {
            "_view_name": "HTMLView",
            "style": "IPY_MODEL_20726a6762964892aa03c5dacad8912d",
            "_dom_classes": [],
            "description": "",
            "_model_name": "HTMLModel",
            "placeholder": "​",
            "_view_module": "@jupyter-widgets/controls",
            "_model_module_version": "1.5.0",
            "value": " 1/1 [01:09&lt;00:00, 70.00s/it]",
            "_view_count": null,
            "_view_module_version": "1.5.0",
            "description_tooltip": null,
            "_model_module": "@jupyter-widgets/controls",
            "layout": "IPY_MODEL_ff0b09920c9b4cd59043b039823925b6"
          }
        },
        "e31791fe77004504ba66dc13d942fe02": {
          "model_module": "@jupyter-widgets/controls",
          "model_name": "DescriptionStyleModel",
          "state": {
            "_view_name": "StyleView",
            "_model_name": "DescriptionStyleModel",
            "description_width": "",
            "_view_module": "@jupyter-widgets/base",
            "_model_module_version": "1.5.0",
            "_view_count": null,
            "_view_module_version": "1.2.0",
            "_model_module": "@jupyter-widgets/controls"
          }
        },
        "9e558834591344ed97ad047176d06da2": {
          "model_module": "@jupyter-widgets/base",
          "model_name": "LayoutModel",
          "state": {
            "_view_name": "LayoutView",
            "grid_template_rows": null,
            "right": null,
            "justify_content": null,
            "_view_module": "@jupyter-widgets/base",
            "overflow": null,
            "_model_module_version": "1.2.0",
            "_view_count": null,
            "flex_flow": null,
            "width": null,
            "min_width": null,
            "border": null,
            "align_items": null,
            "bottom": null,
            "_model_module": "@jupyter-widgets/base",
            "top": null,
            "grid_column": null,
            "overflow_y": null,
            "overflow_x": null,
            "grid_auto_flow": null,
            "grid_area": null,
            "grid_template_columns": null,
            "flex": null,
            "_model_name": "LayoutModel",
            "justify_items": null,
            "grid_row": null,
            "max_height": null,
            "align_content": null,
            "visibility": null,
            "align_self": null,
            "height": null,
            "min_height": null,
            "padding": null,
            "grid_auto_rows": null,
            "grid_gap": null,
            "max_width": null,
            "order": null,
            "_view_module_version": "1.2.0",
            "grid_template_areas": null,
            "object_position": null,
            "object_fit": null,
            "grid_auto_columns": null,
            "margin": null,
            "display": null,
            "left": null
          }
        },
        "5553ea84c4e44b558cb0f313206eaf56": {
          "model_module": "@jupyter-widgets/controls",
          "model_name": "ProgressStyleModel",
          "state": {
            "_view_name": "StyleView",
            "_model_name": "ProgressStyleModel",
            "description_width": "",
            "_view_module": "@jupyter-widgets/base",
            "_model_module_version": "1.5.0",
            "_view_count": null,
            "_view_module_version": "1.2.0",
            "bar_color": null,
            "_model_module": "@jupyter-widgets/controls"
          }
        },
        "bcbf85d31e2b439a8feb03e99ee9d041": {
          "model_module": "@jupyter-widgets/base",
          "model_name": "LayoutModel",
          "state": {
            "_view_name": "LayoutView",
            "grid_template_rows": null,
            "right": null,
            "justify_content": null,
            "_view_module": "@jupyter-widgets/base",
            "overflow": null,
            "_model_module_version": "1.2.0",
            "_view_count": null,
            "flex_flow": null,
            "width": null,
            "min_width": null,
            "border": null,
            "align_items": null,
            "bottom": null,
            "_model_module": "@jupyter-widgets/base",
            "top": null,
            "grid_column": null,
            "overflow_y": null,
            "overflow_x": null,
            "grid_auto_flow": null,
            "grid_area": null,
            "grid_template_columns": null,
            "flex": null,
            "_model_name": "LayoutModel",
            "justify_items": null,
            "grid_row": null,
            "max_height": null,
            "align_content": null,
            "visibility": null,
            "align_self": null,
            "height": null,
            "min_height": null,
            "padding": null,
            "grid_auto_rows": null,
            "grid_gap": null,
            "max_width": null,
            "order": null,
            "_view_module_version": "1.2.0",
            "grid_template_areas": null,
            "object_position": null,
            "object_fit": null,
            "grid_auto_columns": null,
            "margin": null,
            "display": null,
            "left": null
          }
        },
        "20726a6762964892aa03c5dacad8912d": {
          "model_module": "@jupyter-widgets/controls",
          "model_name": "DescriptionStyleModel",
          "state": {
            "_view_name": "StyleView",
            "_model_name": "DescriptionStyleModel",
            "description_width": "",
            "_view_module": "@jupyter-widgets/base",
            "_model_module_version": "1.5.0",
            "_view_count": null,
            "_view_module_version": "1.2.0",
            "_model_module": "@jupyter-widgets/controls"
          }
        },
        "ff0b09920c9b4cd59043b039823925b6": {
          "model_module": "@jupyter-widgets/base",
          "model_name": "LayoutModel",
          "state": {
            "_view_name": "LayoutView",
            "grid_template_rows": null,
            "right": null,
            "justify_content": null,
            "_view_module": "@jupyter-widgets/base",
            "overflow": null,
            "_model_module_version": "1.2.0",
            "_view_count": null,
            "flex_flow": null,
            "width": null,
            "min_width": null,
            "border": null,
            "align_items": null,
            "bottom": null,
            "_model_module": "@jupyter-widgets/base",
            "top": null,
            "grid_column": null,
            "overflow_y": null,
            "overflow_x": null,
            "grid_auto_flow": null,
            "grid_area": null,
            "grid_template_columns": null,
            "flex": null,
            "_model_name": "LayoutModel",
            "justify_items": null,
            "grid_row": null,
            "max_height": null,
            "align_content": null,
            "visibility": null,
            "align_self": null,
            "height": null,
            "min_height": null,
            "padding": null,
            "grid_auto_rows": null,
            "grid_gap": null,
            "max_width": null,
            "order": null,
            "_view_module_version": "1.2.0",
            "grid_template_areas": null,
            "object_position": null,
            "object_fit": null,
            "grid_auto_columns": null,
            "margin": null,
            "display": null,
            "left": null
          }
        },
        "3000afc7db944ecfab266d94be40ddb0": {
          "model_module": "@jupyter-widgets/controls",
          "model_name": "HBoxModel",
          "state": {
            "_view_name": "HBoxView",
            "_dom_classes": [],
            "_model_name": "HBoxModel",
            "_view_module": "@jupyter-widgets/controls",
            "_model_module_version": "1.5.0",
            "_view_count": null,
            "_view_module_version": "1.5.0",
            "box_style": "",
            "layout": "IPY_MODEL_de9a28548c3447f1b9d02645627601b6",
            "_model_module": "@jupyter-widgets/controls",
            "children": [
              "IPY_MODEL_f8d6d18c16b848eb8b52284e3018b729",
              "IPY_MODEL_2c4e3be05b174728a311545b0d224a4d",
              "IPY_MODEL_6fbcf626db24410eb122183931b71306"
            ]
          }
        },
        "de9a28548c3447f1b9d02645627601b6": {
          "model_module": "@jupyter-widgets/base",
          "model_name": "LayoutModel",
          "state": {
            "_view_name": "LayoutView",
            "grid_template_rows": null,
            "right": null,
            "justify_content": null,
            "_view_module": "@jupyter-widgets/base",
            "overflow": null,
            "_model_module_version": "1.2.0",
            "_view_count": null,
            "flex_flow": null,
            "width": null,
            "min_width": null,
            "border": null,
            "align_items": null,
            "bottom": null,
            "_model_module": "@jupyter-widgets/base",
            "top": null,
            "grid_column": null,
            "overflow_y": null,
            "overflow_x": null,
            "grid_auto_flow": null,
            "grid_area": null,
            "grid_template_columns": null,
            "flex": null,
            "_model_name": "LayoutModel",
            "justify_items": null,
            "grid_row": null,
            "max_height": null,
            "align_content": null,
            "visibility": null,
            "align_self": null,
            "height": null,
            "min_height": null,
            "padding": null,
            "grid_auto_rows": null,
            "grid_gap": null,
            "max_width": null,
            "order": null,
            "_view_module_version": "1.2.0",
            "grid_template_areas": null,
            "object_position": null,
            "object_fit": null,
            "grid_auto_columns": null,
            "margin": null,
            "display": null,
            "left": null
          }
        },
        "f8d6d18c16b848eb8b52284e3018b729": {
          "model_module": "@jupyter-widgets/controls",
          "model_name": "HTMLModel",
          "state": {
            "_view_name": "HTMLView",
            "style": "IPY_MODEL_dfd6a5ed9cd847ff8c39cce7dc25a98c",
            "_dom_classes": [],
            "description": "",
            "_model_name": "HTMLModel",
            "placeholder": "​",
            "_view_module": "@jupyter-widgets/controls",
            "_model_module_version": "1.5.0",
            "value": "Render HTML: 100%",
            "_view_count": null,
            "_view_module_version": "1.5.0",
            "description_tooltip": null,
            "_model_module": "@jupyter-widgets/controls",
            "layout": "IPY_MODEL_af19b3960acd4f9094541c6d7cb69e56"
          }
        },
        "2c4e3be05b174728a311545b0d224a4d": {
          "model_module": "@jupyter-widgets/controls",
          "model_name": "FloatProgressModel",
          "state": {
            "_view_name": "ProgressView",
            "style": "IPY_MODEL_0209528681674853bdfb9ad09d06ef27",
            "_dom_classes": [],
            "description": "",
            "_model_name": "FloatProgressModel",
            "bar_style": "success",
            "max": 1,
            "_view_module": "@jupyter-widgets/controls",
            "_model_module_version": "1.5.0",
            "value": 1,
            "_view_count": null,
            "_view_module_version": "1.5.0",
            "orientation": "horizontal",
            "min": 0,
            "description_tooltip": null,
            "_model_module": "@jupyter-widgets/controls",
            "layout": "IPY_MODEL_ff375924155d4022bf4d9bd54c525a26"
          }
        },
        "6fbcf626db24410eb122183931b71306": {
          "model_module": "@jupyter-widgets/controls",
          "model_name": "HTMLModel",
          "state": {
            "_view_name": "HTMLView",
            "style": "IPY_MODEL_47a14059c13045ebb1bc11fba0a6b7c3",
            "_dom_classes": [],
            "description": "",
            "_model_name": "HTMLModel",
            "placeholder": "​",
            "_view_module": "@jupyter-widgets/controls",
            "_model_module_version": "1.5.0",
            "value": " 1/1 [00:33&lt;00:00, 33.42s/it]",
            "_view_count": null,
            "_view_module_version": "1.5.0",
            "description_tooltip": null,
            "_model_module": "@jupyter-widgets/controls",
            "layout": "IPY_MODEL_daf64b7c787548deabf33e47895334bc"
          }
        },
        "dfd6a5ed9cd847ff8c39cce7dc25a98c": {
          "model_module": "@jupyter-widgets/controls",
          "model_name": "DescriptionStyleModel",
          "state": {
            "_view_name": "StyleView",
            "_model_name": "DescriptionStyleModel",
            "description_width": "",
            "_view_module": "@jupyter-widgets/base",
            "_model_module_version": "1.5.0",
            "_view_count": null,
            "_view_module_version": "1.2.0",
            "_model_module": "@jupyter-widgets/controls"
          }
        },
        "af19b3960acd4f9094541c6d7cb69e56": {
          "model_module": "@jupyter-widgets/base",
          "model_name": "LayoutModel",
          "state": {
            "_view_name": "LayoutView",
            "grid_template_rows": null,
            "right": null,
            "justify_content": null,
            "_view_module": "@jupyter-widgets/base",
            "overflow": null,
            "_model_module_version": "1.2.0",
            "_view_count": null,
            "flex_flow": null,
            "width": null,
            "min_width": null,
            "border": null,
            "align_items": null,
            "bottom": null,
            "_model_module": "@jupyter-widgets/base",
            "top": null,
            "grid_column": null,
            "overflow_y": null,
            "overflow_x": null,
            "grid_auto_flow": null,
            "grid_area": null,
            "grid_template_columns": null,
            "flex": null,
            "_model_name": "LayoutModel",
            "justify_items": null,
            "grid_row": null,
            "max_height": null,
            "align_content": null,
            "visibility": null,
            "align_self": null,
            "height": null,
            "min_height": null,
            "padding": null,
            "grid_auto_rows": null,
            "grid_gap": null,
            "max_width": null,
            "order": null,
            "_view_module_version": "1.2.0",
            "grid_template_areas": null,
            "object_position": null,
            "object_fit": null,
            "grid_auto_columns": null,
            "margin": null,
            "display": null,
            "left": null
          }
        },
        "0209528681674853bdfb9ad09d06ef27": {
          "model_module": "@jupyter-widgets/controls",
          "model_name": "ProgressStyleModel",
          "state": {
            "_view_name": "StyleView",
            "_model_name": "ProgressStyleModel",
            "description_width": "",
            "_view_module": "@jupyter-widgets/base",
            "_model_module_version": "1.5.0",
            "_view_count": null,
            "_view_module_version": "1.2.0",
            "bar_color": null,
            "_model_module": "@jupyter-widgets/controls"
          }
        },
        "ff375924155d4022bf4d9bd54c525a26": {
          "model_module": "@jupyter-widgets/base",
          "model_name": "LayoutModel",
          "state": {
            "_view_name": "LayoutView",
            "grid_template_rows": null,
            "right": null,
            "justify_content": null,
            "_view_module": "@jupyter-widgets/base",
            "overflow": null,
            "_model_module_version": "1.2.0",
            "_view_count": null,
            "flex_flow": null,
            "width": null,
            "min_width": null,
            "border": null,
            "align_items": null,
            "bottom": null,
            "_model_module": "@jupyter-widgets/base",
            "top": null,
            "grid_column": null,
            "overflow_y": null,
            "overflow_x": null,
            "grid_auto_flow": null,
            "grid_area": null,
            "grid_template_columns": null,
            "flex": null,
            "_model_name": "LayoutModel",
            "justify_items": null,
            "grid_row": null,
            "max_height": null,
            "align_content": null,
            "visibility": null,
            "align_self": null,
            "height": null,
            "min_height": null,
            "padding": null,
            "grid_auto_rows": null,
            "grid_gap": null,
            "max_width": null,
            "order": null,
            "_view_module_version": "1.2.0",
            "grid_template_areas": null,
            "object_position": null,
            "object_fit": null,
            "grid_auto_columns": null,
            "margin": null,
            "display": null,
            "left": null
          }
        },
        "47a14059c13045ebb1bc11fba0a6b7c3": {
          "model_module": "@jupyter-widgets/controls",
          "model_name": "DescriptionStyleModel",
          "state": {
            "_view_name": "StyleView",
            "_model_name": "DescriptionStyleModel",
            "description_width": "",
            "_view_module": "@jupyter-widgets/base",
            "_model_module_version": "1.5.0",
            "_view_count": null,
            "_view_module_version": "1.2.0",
            "_model_module": "@jupyter-widgets/controls"
          }
        },
        "daf64b7c787548deabf33e47895334bc": {
          "model_module": "@jupyter-widgets/base",
          "model_name": "LayoutModel",
          "state": {
            "_view_name": "LayoutView",
            "grid_template_rows": null,
            "right": null,
            "justify_content": null,
            "_view_module": "@jupyter-widgets/base",
            "overflow": null,
            "_model_module_version": "1.2.0",
            "_view_count": null,
            "flex_flow": null,
            "width": null,
            "min_width": null,
            "border": null,
            "align_items": null,
            "bottom": null,
            "_model_module": "@jupyter-widgets/base",
            "top": null,
            "grid_column": null,
            "overflow_y": null,
            "overflow_x": null,
            "grid_auto_flow": null,
            "grid_area": null,
            "grid_template_columns": null,
            "flex": null,
            "_model_name": "LayoutModel",
            "justify_items": null,
            "grid_row": null,
            "max_height": null,
            "align_content": null,
            "visibility": null,
            "align_self": null,
            "height": null,
            "min_height": null,
            "padding": null,
            "grid_auto_rows": null,
            "grid_gap": null,
            "max_width": null,
            "order": null,
            "_view_module_version": "1.2.0",
            "grid_template_areas": null,
            "object_position": null,
            "object_fit": null,
            "grid_auto_columns": null,
            "margin": null,
            "display": null,
            "left": null
          }
        },
        "2a020a1274fe4df58cbade4cd0aab4ed": {
          "model_module": "@jupyter-widgets/controls",
          "model_name": "HBoxModel",
          "state": {
            "_view_name": "HBoxView",
            "_dom_classes": [],
            "_model_name": "HBoxModel",
            "_view_module": "@jupyter-widgets/controls",
            "_model_module_version": "1.5.0",
            "_view_count": null,
            "_view_module_version": "1.5.0",
            "box_style": "",
            "layout": "IPY_MODEL_e3ce9a83f2cb48188eadf9820cf3aadb",
            "_model_module": "@jupyter-widgets/controls",
            "children": [
              "IPY_MODEL_7c493683512742f99db7ccf34b9f07fd",
              "IPY_MODEL_7b586c54a90c4db0be90bcbf443dc6df",
              "IPY_MODEL_eac84d21e1204feabfc7daeac3259a81"
            ]
          }
        },
        "e3ce9a83f2cb48188eadf9820cf3aadb": {
          "model_module": "@jupyter-widgets/base",
          "model_name": "LayoutModel",
          "state": {
            "_view_name": "LayoutView",
            "grid_template_rows": null,
            "right": null,
            "justify_content": null,
            "_view_module": "@jupyter-widgets/base",
            "overflow": null,
            "_model_module_version": "1.2.0",
            "_view_count": null,
            "flex_flow": null,
            "width": null,
            "min_width": null,
            "border": null,
            "align_items": null,
            "bottom": null,
            "_model_module": "@jupyter-widgets/base",
            "top": null,
            "grid_column": null,
            "overflow_y": null,
            "overflow_x": null,
            "grid_auto_flow": null,
            "grid_area": null,
            "grid_template_columns": null,
            "flex": null,
            "_model_name": "LayoutModel",
            "justify_items": null,
            "grid_row": null,
            "max_height": null,
            "align_content": null,
            "visibility": null,
            "align_self": null,
            "height": null,
            "min_height": null,
            "padding": null,
            "grid_auto_rows": null,
            "grid_gap": null,
            "max_width": null,
            "order": null,
            "_view_module_version": "1.2.0",
            "grid_template_areas": null,
            "object_position": null,
            "object_fit": null,
            "grid_auto_columns": null,
            "margin": null,
            "display": null,
            "left": null
          }
        },
        "7c493683512742f99db7ccf34b9f07fd": {
          "model_module": "@jupyter-widgets/controls",
          "model_name": "HTMLModel",
          "state": {
            "_view_name": "HTMLView",
            "style": "IPY_MODEL_b8cdcf75facd41f28860e5bdf95d6cfa",
            "_dom_classes": [],
            "description": "",
            "_model_name": "HTMLModel",
            "placeholder": "​",
            "_view_module": "@jupyter-widgets/controls",
            "_model_module_version": "1.5.0",
            "value": "Export report to file: 100%",
            "_view_count": null,
            "_view_module_version": "1.5.0",
            "description_tooltip": null,
            "_model_module": "@jupyter-widgets/controls",
            "layout": "IPY_MODEL_9e5ac4a512e34bd9a71a99dd83b561e5"
          }
        },
        "7b586c54a90c4db0be90bcbf443dc6df": {
          "model_module": "@jupyter-widgets/controls",
          "model_name": "FloatProgressModel",
          "state": {
            "_view_name": "ProgressView",
            "style": "IPY_MODEL_237b8850540b4c51b7ccefb85a52e80a",
            "_dom_classes": [],
            "description": "",
            "_model_name": "FloatProgressModel",
            "bar_style": "success",
            "max": 1,
            "_view_module": "@jupyter-widgets/controls",
            "_model_module_version": "1.5.0",
            "value": 1,
            "_view_count": null,
            "_view_module_version": "1.5.0",
            "orientation": "horizontal",
            "min": 0,
            "description_tooltip": null,
            "_model_module": "@jupyter-widgets/controls",
            "layout": "IPY_MODEL_cd85b6bc2394404c90fea3762e7d3e1c"
          }
        },
        "eac84d21e1204feabfc7daeac3259a81": {
          "model_module": "@jupyter-widgets/controls",
          "model_name": "HTMLModel",
          "state": {
            "_view_name": "HTMLView",
            "style": "IPY_MODEL_34c35ff3ef7d43f8b0311d26ddc1cb7e",
            "_dom_classes": [],
            "description": "",
            "_model_name": "HTMLModel",
            "placeholder": "​",
            "_view_module": "@jupyter-widgets/controls",
            "_model_module_version": "1.5.0",
            "value": " 1/1 [00:04&lt;00:00,  4.75s/it]",
            "_view_count": null,
            "_view_module_version": "1.5.0",
            "description_tooltip": null,
            "_model_module": "@jupyter-widgets/controls",
            "layout": "IPY_MODEL_6cb8ad59d2f74beabf1a169ab497805e"
          }
        },
        "b8cdcf75facd41f28860e5bdf95d6cfa": {
          "model_module": "@jupyter-widgets/controls",
          "model_name": "DescriptionStyleModel",
          "state": {
            "_view_name": "StyleView",
            "_model_name": "DescriptionStyleModel",
            "description_width": "",
            "_view_module": "@jupyter-widgets/base",
            "_model_module_version": "1.5.0",
            "_view_count": null,
            "_view_module_version": "1.2.0",
            "_model_module": "@jupyter-widgets/controls"
          }
        },
        "9e5ac4a512e34bd9a71a99dd83b561e5": {
          "model_module": "@jupyter-widgets/base",
          "model_name": "LayoutModel",
          "state": {
            "_view_name": "LayoutView",
            "grid_template_rows": null,
            "right": null,
            "justify_content": null,
            "_view_module": "@jupyter-widgets/base",
            "overflow": null,
            "_model_module_version": "1.2.0",
            "_view_count": null,
            "flex_flow": null,
            "width": null,
            "min_width": null,
            "border": null,
            "align_items": null,
            "bottom": null,
            "_model_module": "@jupyter-widgets/base",
            "top": null,
            "grid_column": null,
            "overflow_y": null,
            "overflow_x": null,
            "grid_auto_flow": null,
            "grid_area": null,
            "grid_template_columns": null,
            "flex": null,
            "_model_name": "LayoutModel",
            "justify_items": null,
            "grid_row": null,
            "max_height": null,
            "align_content": null,
            "visibility": null,
            "align_self": null,
            "height": null,
            "min_height": null,
            "padding": null,
            "grid_auto_rows": null,
            "grid_gap": null,
            "max_width": null,
            "order": null,
            "_view_module_version": "1.2.0",
            "grid_template_areas": null,
            "object_position": null,
            "object_fit": null,
            "grid_auto_columns": null,
            "margin": null,
            "display": null,
            "left": null
          }
        },
        "237b8850540b4c51b7ccefb85a52e80a": {
          "model_module": "@jupyter-widgets/controls",
          "model_name": "ProgressStyleModel",
          "state": {
            "_view_name": "StyleView",
            "_model_name": "ProgressStyleModel",
            "description_width": "",
            "_view_module": "@jupyter-widgets/base",
            "_model_module_version": "1.5.0",
            "_view_count": null,
            "_view_module_version": "1.2.0",
            "bar_color": null,
            "_model_module": "@jupyter-widgets/controls"
          }
        },
        "cd85b6bc2394404c90fea3762e7d3e1c": {
          "model_module": "@jupyter-widgets/base",
          "model_name": "LayoutModel",
          "state": {
            "_view_name": "LayoutView",
            "grid_template_rows": null,
            "right": null,
            "justify_content": null,
            "_view_module": "@jupyter-widgets/base",
            "overflow": null,
            "_model_module_version": "1.2.0",
            "_view_count": null,
            "flex_flow": null,
            "width": null,
            "min_width": null,
            "border": null,
            "align_items": null,
            "bottom": null,
            "_model_module": "@jupyter-widgets/base",
            "top": null,
            "grid_column": null,
            "overflow_y": null,
            "overflow_x": null,
            "grid_auto_flow": null,
            "grid_area": null,
            "grid_template_columns": null,
            "flex": null,
            "_model_name": "LayoutModel",
            "justify_items": null,
            "grid_row": null,
            "max_height": null,
            "align_content": null,
            "visibility": null,
            "align_self": null,
            "height": null,
            "min_height": null,
            "padding": null,
            "grid_auto_rows": null,
            "grid_gap": null,
            "max_width": null,
            "order": null,
            "_view_module_version": "1.2.0",
            "grid_template_areas": null,
            "object_position": null,
            "object_fit": null,
            "grid_auto_columns": null,
            "margin": null,
            "display": null,
            "left": null
          }
        },
        "34c35ff3ef7d43f8b0311d26ddc1cb7e": {
          "model_module": "@jupyter-widgets/controls",
          "model_name": "DescriptionStyleModel",
          "state": {
            "_view_name": "StyleView",
            "_model_name": "DescriptionStyleModel",
            "description_width": "",
            "_view_module": "@jupyter-widgets/base",
            "_model_module_version": "1.5.0",
            "_view_count": null,
            "_view_module_version": "1.2.0",
            "_model_module": "@jupyter-widgets/controls"
          }
        },
        "6cb8ad59d2f74beabf1a169ab497805e": {
          "model_module": "@jupyter-widgets/base",
          "model_name": "LayoutModel",
          "state": {
            "_view_name": "LayoutView",
            "grid_template_rows": null,
            "right": null,
            "justify_content": null,
            "_view_module": "@jupyter-widgets/base",
            "overflow": null,
            "_model_module_version": "1.2.0",
            "_view_count": null,
            "flex_flow": null,
            "width": null,
            "min_width": null,
            "border": null,
            "align_items": null,
            "bottom": null,
            "_model_module": "@jupyter-widgets/base",
            "top": null,
            "grid_column": null,
            "overflow_y": null,
            "overflow_x": null,
            "grid_auto_flow": null,
            "grid_area": null,
            "grid_template_columns": null,
            "flex": null,
            "_model_name": "LayoutModel",
            "justify_items": null,
            "grid_row": null,
            "max_height": null,
            "align_content": null,
            "visibility": null,
            "align_self": null,
            "height": null,
            "min_height": null,
            "padding": null,
            "grid_auto_rows": null,
            "grid_gap": null,
            "max_width": null,
            "order": null,
            "_view_module_version": "1.2.0",
            "grid_template_areas": null,
            "object_position": null,
            "object_fit": null,
            "grid_auto_columns": null,
            "margin": null,
            "display": null,
            "left": null
          }
        }
      }
    }
  },
  "cells": [
    {
      "cell_type": "markdown",
      "metadata": {
        "id": "view-in-github",
        "colab_type": "text"
      },
      "source": [
        "<a href=\"https://colab.research.google.com/github/ancastillar/Aplicacion_deteccion_riesgo_inmuebles_Davivienda/blob/main/BRP_Davivienda.ipynb\" target=\"_parent\"><img src=\"https://colab.research.google.com/assets/colab-badge.svg\" alt=\"Open In Colab\"/></a>"
      ]
    },
    {
      "cell_type": "code",
      "metadata": {
        "colab": {
          "base_uri": "https://localhost:8080/"
        },
        "id": "tiJ_srWHv3TT",
        "outputId": "9405bb58-1b2b-4f2f-fe9b-0a6effe9c6d7"
      },
      "source": [
        "!pip install lifelines\r\n",
        "!pip install https://github.com/pandas-profiling/pandas-profiling/archive/master.zip\r\n",
        "!pip install chart_studio"
      ],
      "execution_count": 3,
      "outputs": [
        {
          "output_type": "stream",
          "text": [
            "Collecting lifelines\n",
            "\u001b[?25l  Downloading https://files.pythonhosted.org/packages/80/75/5425e87009b69a5cfd8ad1104ee9b979e22beffd156b2409f4c771eda402/lifelines-0.25.7-py3-none-any.whl (347kB)\n",
            "\r\u001b[K     |█                               | 10kB 15.6MB/s eta 0:00:01\r\u001b[K     |█▉                              | 20kB 20.4MB/s eta 0:00:01\r\u001b[K     |██▉                             | 30kB 19.8MB/s eta 0:00:01\r\u001b[K     |███▊                            | 40kB 12.0MB/s eta 0:00:01\r\u001b[K     |████▊                           | 51kB 8.4MB/s eta 0:00:01\r\u001b[K     |█████▋                          | 61kB 8.9MB/s eta 0:00:01\r\u001b[K     |██████▋                         | 71kB 9.0MB/s eta 0:00:01\r\u001b[K     |███████▌                        | 81kB 8.9MB/s eta 0:00:01\r\u001b[K     |████████▌                       | 92kB 8.9MB/s eta 0:00:01\r\u001b[K     |█████████▍                      | 102kB 9.3MB/s eta 0:00:01\r\u001b[K     |██████████▍                     | 112kB 9.3MB/s eta 0:00:01\r\u001b[K     |███████████▎                    | 122kB 9.3MB/s eta 0:00:01\r\u001b[K     |████████████▎                   | 133kB 9.3MB/s eta 0:00:01\r\u001b[K     |█████████████▏                  | 143kB 9.3MB/s eta 0:00:01\r\u001b[K     |██████████████▏                 | 153kB 9.3MB/s eta 0:00:01\r\u001b[K     |███████████████                 | 163kB 9.3MB/s eta 0:00:01\r\u001b[K     |████████████████                | 174kB 9.3MB/s eta 0:00:01\r\u001b[K     |█████████████████               | 184kB 9.3MB/s eta 0:00:01\r\u001b[K     |██████████████████              | 194kB 9.3MB/s eta 0:00:01\r\u001b[K     |██████████████████▉             | 204kB 9.3MB/s eta 0:00:01\r\u001b[K     |███████████████████▉            | 215kB 9.3MB/s eta 0:00:01\r\u001b[K     |████████████████████▊           | 225kB 9.3MB/s eta 0:00:01\r\u001b[K     |█████████████████████▊          | 235kB 9.3MB/s eta 0:00:01\r\u001b[K     |██████████████████████▋         | 245kB 9.3MB/s eta 0:00:01\r\u001b[K     |███████████████████████▋        | 256kB 9.3MB/s eta 0:00:01\r\u001b[K     |████████████████████████▌       | 266kB 9.3MB/s eta 0:00:01\r\u001b[K     |█████████████████████████▌      | 276kB 9.3MB/s eta 0:00:01\r\u001b[K     |██████████████████████████▍     | 286kB 9.3MB/s eta 0:00:01\r\u001b[K     |███████████████████████████▍    | 296kB 9.3MB/s eta 0:00:01\r\u001b[K     |████████████████████████████▎   | 307kB 9.3MB/s eta 0:00:01\r\u001b[K     |█████████████████████████████▏  | 317kB 9.3MB/s eta 0:00:01\r\u001b[K     |██████████████████████████████▏ | 327kB 9.3MB/s eta 0:00:01\r\u001b[K     |███████████████████████████████ | 337kB 9.3MB/s eta 0:00:01\r\u001b[K     |████████████████████████████████| 348kB 9.3MB/s \n",
            "\u001b[?25hRequirement already satisfied: numpy>=1.14.0 in /usr/local/lib/python3.6/dist-packages (from lifelines) (1.19.4)\n",
            "Requirement already satisfied: patsy>=0.5.0 in /usr/local/lib/python3.6/dist-packages (from lifelines) (0.5.1)\n",
            "Requirement already satisfied: pandas>=0.23.0 in /usr/local/lib/python3.6/dist-packages (from lifelines) (1.1.5)\n",
            "Requirement already satisfied: matplotlib>=3.0 in /usr/local/lib/python3.6/dist-packages (from lifelines) (3.2.2)\n",
            "Requirement already satisfied: autograd>=1.3 in /usr/local/lib/python3.6/dist-packages (from lifelines) (1.3)\n",
            "Collecting autograd-gamma>=0.3\n",
            "  Downloading https://files.pythonhosted.org/packages/85/ae/7f2031ea76140444b2453fa139041e5afd4a09fc5300cfefeb1103291f80/autograd-gamma-0.5.0.tar.gz\n",
            "Requirement already satisfied: scipy>=1.2.0 in /usr/local/lib/python3.6/dist-packages (from lifelines) (1.4.1)\n",
            "Requirement already satisfied: six in /usr/local/lib/python3.6/dist-packages (from patsy>=0.5.0->lifelines) (1.15.0)\n",
            "Requirement already satisfied: python-dateutil>=2.7.3 in /usr/local/lib/python3.6/dist-packages (from pandas>=0.23.0->lifelines) (2.8.1)\n",
            "Requirement already satisfied: pytz>=2017.2 in /usr/local/lib/python3.6/dist-packages (from pandas>=0.23.0->lifelines) (2018.9)\n",
            "Requirement already satisfied: pyparsing!=2.0.4,!=2.1.2,!=2.1.6,>=2.0.1 in /usr/local/lib/python3.6/dist-packages (from matplotlib>=3.0->lifelines) (2.4.7)\n",
            "Requirement already satisfied: cycler>=0.10 in /usr/local/lib/python3.6/dist-packages (from matplotlib>=3.0->lifelines) (0.10.0)\n",
            "Requirement already satisfied: kiwisolver>=1.0.1 in /usr/local/lib/python3.6/dist-packages (from matplotlib>=3.0->lifelines) (1.3.1)\n",
            "Requirement already satisfied: future>=0.15.2 in /usr/local/lib/python3.6/dist-packages (from autograd>=1.3->lifelines) (0.16.0)\n",
            "Building wheels for collected packages: autograd-gamma\n",
            "  Building wheel for autograd-gamma (setup.py) ... \u001b[?25l\u001b[?25hdone\n",
            "  Created wheel for autograd-gamma: filename=autograd_gamma-0.5.0-cp36-none-any.whl size=4035 sha256=3e5bab295c25ba1ecb8bb2c170b0ca7fde531405df33995d09cab4e816b3abf9\n",
            "  Stored in directory: /root/.cache/pip/wheels/dc/68/dc/91321c55fba449755524481854f5be70d41912b8f886f908bb\n",
            "Successfully built autograd-gamma\n",
            "Installing collected packages: autograd-gamma, lifelines\n",
            "Successfully installed autograd-gamma-0.5.0 lifelines-0.25.7\n",
            "Collecting https://github.com/pandas-profiling/pandas-profiling/archive/master.zip\n",
            "\u001b[?25l  Downloading https://github.com/pandas-profiling/pandas-profiling/archive/master.zip\n",
            "\u001b[K     / 51.7MB 738kB/s\n",
            "\u001b[?25hRequirement already satisfied: joblib in /usr/local/lib/python3.6/dist-packages (from pandas-profiling==2.10.0) (1.0.0)\n",
            "Requirement already satisfied: scipy>=1.4.1 in /usr/local/lib/python3.6/dist-packages (from pandas-profiling==2.10.0) (1.4.1)\n",
            "Requirement already satisfied: pandas!=1.0.0,!=1.0.1,!=1.0.2,!=1.1.0,>=0.25.3 in /usr/local/lib/python3.6/dist-packages (from pandas-profiling==2.10.0) (1.1.5)\n",
            "Requirement already satisfied: matplotlib>=3.2.0 in /usr/local/lib/python3.6/dist-packages (from pandas-profiling==2.10.0) (3.2.2)\n",
            "Collecting confuse>=1.0.0\n",
            "  Downloading https://files.pythonhosted.org/packages/6d/55/b4726d81e5d6509fa3441f770f8a9524612627dc1b2a7d6209d1d20083fe/confuse-1.4.0-py2.py3-none-any.whl\n",
            "Requirement already satisfied: jinja2>=2.11.1 in /usr/local/lib/python3.6/dist-packages (from pandas-profiling==2.10.0) (2.11.2)\n",
            "Collecting visions[type_image_path]==0.6.0\n",
            "\u001b[?25l  Downloading https://files.pythonhosted.org/packages/98/30/b1e70bc55962239c4c3c9660e892be2d8247a882135a3035c10ff7f02cde/visions-0.6.0-py3-none-any.whl (75kB)\n",
            "\u001b[K     |████████████████████████████████| 81kB 3.8MB/s \n",
            "\u001b[?25hRequirement already satisfied: numpy>=1.16.0 in /usr/local/lib/python3.6/dist-packages (from pandas-profiling==2.10.0) (1.19.4)\n",
            "Requirement already satisfied: attrs>=19.3.0 in /usr/local/lib/python3.6/dist-packages (from pandas-profiling==2.10.0) (20.3.0)\n",
            "Collecting htmlmin>=0.1.12\n",
            "  Downloading https://files.pythonhosted.org/packages/b3/e7/fcd59e12169de19f0131ff2812077f964c6b960e7c09804d30a7bf2ab461/htmlmin-0.1.12.tar.gz\n",
            "Requirement already satisfied: missingno>=0.4.2 in /usr/local/lib/python3.6/dist-packages (from pandas-profiling==2.10.0) (0.4.2)\n",
            "Collecting phik>=0.9.10\n",
            "\u001b[?25l  Downloading https://files.pythonhosted.org/packages/01/5a/7ef1c04ce62cd72f900c06298dc2385840550d5c653a0dbc19109a5477e6/phik-0.10.0-py3-none-any.whl (599kB)\n",
            "\u001b[K     |████████████████████████████████| 604kB 16.3MB/s \n",
            "\u001b[?25hCollecting tangled-up-in-unicode>=0.0.6\n",
            "\u001b[?25l  Downloading https://files.pythonhosted.org/packages/4a/e2/e588ab9298d4989ce7fdb2b97d18aac878d99dbdc379a4476a09d9271b68/tangled_up_in_unicode-0.0.6-py3-none-any.whl (3.1MB)\n",
            "\u001b[K     |████████████████████████████████| 3.1MB 28.0MB/s \n",
            "\u001b[?25hRequirement already satisfied: requests>=2.23.0 in /usr/local/lib/python3.6/dist-packages (from pandas-profiling==2.10.0) (2.23.0)\n",
            "Collecting tqdm>=4.43.0\n",
            "\u001b[?25l  Downloading https://files.pythonhosted.org/packages/8a/54/115f0c28a61d56674c3a5e05c46d6c3523ad196e1dcd3e2d8b119026df36/tqdm-4.54.1-py2.py3-none-any.whl (69kB)\n",
            "\u001b[K     |████████████████████████████████| 71kB 9.8MB/s \n",
            "\u001b[?25hRequirement already satisfied: ipywidgets>=7.5.1 in /usr/local/lib/python3.6/dist-packages (from pandas-profiling==2.10.0) (7.5.1)\n",
            "Requirement already satisfied: seaborn>=0.10.1 in /usr/local/lib/python3.6/dist-packages (from pandas-profiling==2.10.0) (0.11.0)\n",
            "Requirement already satisfied: pytz>=2017.2 in /usr/local/lib/python3.6/dist-packages (from pandas!=1.0.0,!=1.0.1,!=1.0.2,!=1.1.0,>=0.25.3->pandas-profiling==2.10.0) (2018.9)\n",
            "Requirement already satisfied: python-dateutil>=2.7.3 in /usr/local/lib/python3.6/dist-packages (from pandas!=1.0.0,!=1.0.1,!=1.0.2,!=1.1.0,>=0.25.3->pandas-profiling==2.10.0) (2.8.1)\n",
            "Requirement already satisfied: pyparsing!=2.0.4,!=2.1.2,!=2.1.6,>=2.0.1 in /usr/local/lib/python3.6/dist-packages (from matplotlib>=3.2.0->pandas-profiling==2.10.0) (2.4.7)\n",
            "Requirement already satisfied: kiwisolver>=1.0.1 in /usr/local/lib/python3.6/dist-packages (from matplotlib>=3.2.0->pandas-profiling==2.10.0) (1.3.1)\n",
            "Requirement already satisfied: cycler>=0.10 in /usr/local/lib/python3.6/dist-packages (from matplotlib>=3.2.0->pandas-profiling==2.10.0) (0.10.0)\n",
            "Requirement already satisfied: pyyaml in /usr/local/lib/python3.6/dist-packages (from confuse>=1.0.0->pandas-profiling==2.10.0) (3.13)\n",
            "Requirement already satisfied: MarkupSafe>=0.23 in /usr/local/lib/python3.6/dist-packages (from jinja2>=2.11.1->pandas-profiling==2.10.0) (1.1.1)\n",
            "Requirement already satisfied: networkx>=2.4 in /usr/local/lib/python3.6/dist-packages (from visions[type_image_path]==0.6.0->pandas-profiling==2.10.0) (2.5)\n",
            "Collecting imagehash; extra == \"type_image_path\"\n",
            "\u001b[?25l  Downloading https://files.pythonhosted.org/packages/8e/18/9dbb772b5ef73a3069c66bb5bf29b9fb4dd57af0d5790c781c3f559bcca6/ImageHash-4.2.0-py2.py3-none-any.whl (295kB)\n",
            "\u001b[K     |████████████████████████████████| 296kB 18.8MB/s \n",
            "\u001b[?25hRequirement already satisfied: Pillow; extra == \"type_image_path\" in /usr/local/lib/python3.6/dist-packages (from visions[type_image_path]==0.6.0->pandas-profiling==2.10.0) (7.0.0)\n",
            "Requirement already satisfied: numba>=0.38.1 in /usr/local/lib/python3.6/dist-packages (from phik>=0.9.10->pandas-profiling==2.10.0) (0.48.0)\n",
            "Requirement already satisfied: urllib3!=1.25.0,!=1.25.1,<1.26,>=1.21.1 in /usr/local/lib/python3.6/dist-packages (from requests>=2.23.0->pandas-profiling==2.10.0) (1.24.3)\n",
            "Requirement already satisfied: idna<3,>=2.5 in /usr/local/lib/python3.6/dist-packages (from requests>=2.23.0->pandas-profiling==2.10.0) (2.10)\n",
            "Requirement already satisfied: certifi>=2017.4.17 in /usr/local/lib/python3.6/dist-packages (from requests>=2.23.0->pandas-profiling==2.10.0) (2020.12.5)\n",
            "Requirement already satisfied: chardet<4,>=3.0.2 in /usr/local/lib/python3.6/dist-packages (from requests>=2.23.0->pandas-profiling==2.10.0) (3.0.4)\n",
            "Requirement already satisfied: ipython>=4.0.0; python_version >= \"3.3\" in /usr/local/lib/python3.6/dist-packages (from ipywidgets>=7.5.1->pandas-profiling==2.10.0) (5.5.0)\n",
            "Requirement already satisfied: ipykernel>=4.5.1 in /usr/local/lib/python3.6/dist-packages (from ipywidgets>=7.5.1->pandas-profiling==2.10.0) (4.10.1)\n",
            "Requirement already satisfied: traitlets>=4.3.1 in /usr/local/lib/python3.6/dist-packages (from ipywidgets>=7.5.1->pandas-profiling==2.10.0) (4.3.3)\n",
            "Requirement already satisfied: nbformat>=4.2.0 in /usr/local/lib/python3.6/dist-packages (from ipywidgets>=7.5.1->pandas-profiling==2.10.0) (5.0.8)\n",
            "Requirement already satisfied: widgetsnbextension~=3.5.0 in /usr/local/lib/python3.6/dist-packages (from ipywidgets>=7.5.1->pandas-profiling==2.10.0) (3.5.1)\n",
            "Requirement already satisfied: six>=1.5 in /usr/local/lib/python3.6/dist-packages (from python-dateutil>=2.7.3->pandas!=1.0.0,!=1.0.1,!=1.0.2,!=1.1.0,>=0.25.3->pandas-profiling==2.10.0) (1.15.0)\n",
            "Requirement already satisfied: decorator>=4.3.0 in /usr/local/lib/python3.6/dist-packages (from networkx>=2.4->visions[type_image_path]==0.6.0->pandas-profiling==2.10.0) (4.4.2)\n",
            "Requirement already satisfied: PyWavelets in /usr/local/lib/python3.6/dist-packages (from imagehash; extra == \"type_image_path\"->visions[type_image_path]==0.6.0->pandas-profiling==2.10.0) (1.1.1)\n",
            "Requirement already satisfied: llvmlite<0.32.0,>=0.31.0dev0 in /usr/local/lib/python3.6/dist-packages (from numba>=0.38.1->phik>=0.9.10->pandas-profiling==2.10.0) (0.31.0)\n",
            "Requirement already satisfied: setuptools in /usr/local/lib/python3.6/dist-packages (from numba>=0.38.1->phik>=0.9.10->pandas-profiling==2.10.0) (50.3.2)\n",
            "Requirement already satisfied: simplegeneric>0.8 in /usr/local/lib/python3.6/dist-packages (from ipython>=4.0.0; python_version >= \"3.3\"->ipywidgets>=7.5.1->pandas-profiling==2.10.0) (0.8.1)\n",
            "Requirement already satisfied: pexpect; sys_platform != \"win32\" in /usr/local/lib/python3.6/dist-packages (from ipython>=4.0.0; python_version >= \"3.3\"->ipywidgets>=7.5.1->pandas-profiling==2.10.0) (4.8.0)\n",
            "Requirement already satisfied: pickleshare in /usr/local/lib/python3.6/dist-packages (from ipython>=4.0.0; python_version >= \"3.3\"->ipywidgets>=7.5.1->pandas-profiling==2.10.0) (0.7.5)\n",
            "Requirement already satisfied: prompt-toolkit<2.0.0,>=1.0.4 in /usr/local/lib/python3.6/dist-packages (from ipython>=4.0.0; python_version >= \"3.3\"->ipywidgets>=7.5.1->pandas-profiling==2.10.0) (1.0.18)\n",
            "Requirement already satisfied: pygments in /usr/local/lib/python3.6/dist-packages (from ipython>=4.0.0; python_version >= \"3.3\"->ipywidgets>=7.5.1->pandas-profiling==2.10.0) (2.6.1)\n",
            "Requirement already satisfied: jupyter-client in /usr/local/lib/python3.6/dist-packages (from ipykernel>=4.5.1->ipywidgets>=7.5.1->pandas-profiling==2.10.0) (5.3.5)\n",
            "Requirement already satisfied: tornado>=4.0 in /usr/local/lib/python3.6/dist-packages (from ipykernel>=4.5.1->ipywidgets>=7.5.1->pandas-profiling==2.10.0) (5.1.1)\n",
            "Requirement already satisfied: ipython-genutils in /usr/local/lib/python3.6/dist-packages (from traitlets>=4.3.1->ipywidgets>=7.5.1->pandas-profiling==2.10.0) (0.2.0)\n",
            "Requirement already satisfied: jupyter-core in /usr/local/lib/python3.6/dist-packages (from nbformat>=4.2.0->ipywidgets>=7.5.1->pandas-profiling==2.10.0) (4.7.0)\n",
            "Requirement already satisfied: jsonschema!=2.5.0,>=2.4 in /usr/local/lib/python3.6/dist-packages (from nbformat>=4.2.0->ipywidgets>=7.5.1->pandas-profiling==2.10.0) (2.6.0)\n",
            "Requirement already satisfied: notebook>=4.4.1 in /usr/local/lib/python3.6/dist-packages (from widgetsnbextension~=3.5.0->ipywidgets>=7.5.1->pandas-profiling==2.10.0) (5.3.1)\n",
            "Requirement already satisfied: ptyprocess>=0.5 in /usr/local/lib/python3.6/dist-packages (from pexpect; sys_platform != \"win32\"->ipython>=4.0.0; python_version >= \"3.3\"->ipywidgets>=7.5.1->pandas-profiling==2.10.0) (0.6.0)\n",
            "Requirement already satisfied: wcwidth in /usr/local/lib/python3.6/dist-packages (from prompt-toolkit<2.0.0,>=1.0.4->ipython>=4.0.0; python_version >= \"3.3\"->ipywidgets>=7.5.1->pandas-profiling==2.10.0) (0.2.5)\n",
            "Requirement already satisfied: pyzmq>=13 in /usr/local/lib/python3.6/dist-packages (from jupyter-client->ipykernel>=4.5.1->ipywidgets>=7.5.1->pandas-profiling==2.10.0) (20.0.0)\n",
            "Requirement already satisfied: Send2Trash in /usr/local/lib/python3.6/dist-packages (from notebook>=4.4.1->widgetsnbextension~=3.5.0->ipywidgets>=7.5.1->pandas-profiling==2.10.0) (1.5.0)\n",
            "Requirement already satisfied: terminado>=0.8.1 in /usr/local/lib/python3.6/dist-packages (from notebook>=4.4.1->widgetsnbextension~=3.5.0->ipywidgets>=7.5.1->pandas-profiling==2.10.0) (0.9.1)\n",
            "Requirement already satisfied: nbconvert in /usr/local/lib/python3.6/dist-packages (from notebook>=4.4.1->widgetsnbextension~=3.5.0->ipywidgets>=7.5.1->pandas-profiling==2.10.0) (5.6.1)\n",
            "Requirement already satisfied: defusedxml in /usr/local/lib/python3.6/dist-packages (from nbconvert->notebook>=4.4.1->widgetsnbextension~=3.5.0->ipywidgets>=7.5.1->pandas-profiling==2.10.0) (0.6.0)\n",
            "Requirement already satisfied: pandocfilters>=1.4.1 in /usr/local/lib/python3.6/dist-packages (from nbconvert->notebook>=4.4.1->widgetsnbextension~=3.5.0->ipywidgets>=7.5.1->pandas-profiling==2.10.0) (1.4.3)\n",
            "Requirement already satisfied: entrypoints>=0.2.2 in /usr/local/lib/python3.6/dist-packages (from nbconvert->notebook>=4.4.1->widgetsnbextension~=3.5.0->ipywidgets>=7.5.1->pandas-profiling==2.10.0) (0.3)\n",
            "Requirement already satisfied: testpath in /usr/local/lib/python3.6/dist-packages (from nbconvert->notebook>=4.4.1->widgetsnbextension~=3.5.0->ipywidgets>=7.5.1->pandas-profiling==2.10.0) (0.4.4)\n",
            "Requirement already satisfied: bleach in /usr/local/lib/python3.6/dist-packages (from nbconvert->notebook>=4.4.1->widgetsnbextension~=3.5.0->ipywidgets>=7.5.1->pandas-profiling==2.10.0) (3.2.1)\n",
            "Requirement already satisfied: mistune<2,>=0.8.1 in /usr/local/lib/python3.6/dist-packages (from nbconvert->notebook>=4.4.1->widgetsnbextension~=3.5.0->ipywidgets>=7.5.1->pandas-profiling==2.10.0) (0.8.4)\n",
            "Requirement already satisfied: webencodings in /usr/local/lib/python3.6/dist-packages (from bleach->nbconvert->notebook>=4.4.1->widgetsnbextension~=3.5.0->ipywidgets>=7.5.1->pandas-profiling==2.10.0) (0.5.1)\n",
            "Requirement already satisfied: packaging in /usr/local/lib/python3.6/dist-packages (from bleach->nbconvert->notebook>=4.4.1->widgetsnbextension~=3.5.0->ipywidgets>=7.5.1->pandas-profiling==2.10.0) (20.8)\n",
            "Building wheels for collected packages: pandas-profiling, htmlmin\n",
            "  Building wheel for pandas-profiling (setup.py) ... \u001b[?25l\u001b[?25hdone\n",
            "  Created wheel for pandas-profiling: filename=pandas_profiling-2.10.0-py2.py3-none-any.whl size=232425 sha256=3d30a7faa99274a51cba72d31545d4264861e911453fb020f364570c060bcdee\n",
            "  Stored in directory: /tmp/pip-ephem-wheel-cache-yxawxzdg/wheels/56/c2/dd/8d945b0443c35df7d5f62fa9e9ae105a2d8b286302b92e0109\n",
            "  Building wheel for htmlmin (setup.py) ... \u001b[?25l\u001b[?25hdone\n",
            "  Created wheel for htmlmin: filename=htmlmin-0.1.12-cp36-none-any.whl size=27085 sha256=26fb7b08436e85777c9f81ae306213a92db7bdad802bafcc7ed5fb7bd346f3bd\n",
            "  Stored in directory: /root/.cache/pip/wheels/43/07/ac/7c5a9d708d65247ac1f94066cf1db075540b85716c30255459\n",
            "Successfully built pandas-profiling htmlmin\n",
            "Installing collected packages: confuse, tangled-up-in-unicode, imagehash, visions, htmlmin, phik, tqdm, pandas-profiling\n",
            "  Found existing installation: tqdm 4.41.1\n",
            "    Uninstalling tqdm-4.41.1:\n",
            "      Successfully uninstalled tqdm-4.41.1\n",
            "  Found existing installation: pandas-profiling 1.4.1\n",
            "    Uninstalling pandas-profiling-1.4.1:\n",
            "      Successfully uninstalled pandas-profiling-1.4.1\n",
            "Successfully installed confuse-1.4.0 htmlmin-0.1.12 imagehash-4.2.0 pandas-profiling-2.10.0 phik-0.10.0 tangled-up-in-unicode-0.0.6 tqdm-4.54.1 visions-0.6.0\n",
            "Collecting chart_studio\n",
            "\u001b[?25l  Downloading https://files.pythonhosted.org/packages/ca/ce/330794a6b6ca4b9182c38fc69dd2a9cbff60fd49421cb8648ee5fee352dc/chart_studio-1.1.0-py3-none-any.whl (64kB)\n",
            "\u001b[K     |████████████████████████████████| 71kB 4.5MB/s \n",
            "\u001b[?25hRequirement already satisfied: plotly in /usr/local/lib/python3.6/dist-packages (from chart_studio) (4.4.1)\n",
            "Requirement already satisfied: six in /usr/local/lib/python3.6/dist-packages (from chart_studio) (1.15.0)\n",
            "Requirement already satisfied: requests in /usr/local/lib/python3.6/dist-packages (from chart_studio) (2.23.0)\n",
            "Requirement already satisfied: retrying>=1.3.3 in /usr/local/lib/python3.6/dist-packages (from chart_studio) (1.3.3)\n",
            "Requirement already satisfied: certifi>=2017.4.17 in /usr/local/lib/python3.6/dist-packages (from requests->chart_studio) (2020.12.5)\n",
            "Requirement already satisfied: idna<3,>=2.5 in /usr/local/lib/python3.6/dist-packages (from requests->chart_studio) (2.10)\n",
            "Requirement already satisfied: urllib3!=1.25.0,!=1.25.1,<1.26,>=1.21.1 in /usr/local/lib/python3.6/dist-packages (from requests->chart_studio) (1.24.3)\n",
            "Requirement already satisfied: chardet<4,>=3.0.2 in /usr/local/lib/python3.6/dist-packages (from requests->chart_studio) (3.0.4)\n",
            "Installing collected packages: chart-studio\n",
            "Successfully installed chart-studio-1.1.0\n"
          ],
          "name": "stdout"
        }
      ]
    },
    {
      "cell_type": "code",
      "metadata": {
        "colab": {
          "base_uri": "https://localhost:8080/"
        },
        "id": "lnehHHeJHV9S",
        "outputId": "f7777b7b-035e-4e7b-fd80-cd90e0106acb"
      },
      "source": [
        "!pip install dash_core_components"
      ],
      "execution_count": 4,
      "outputs": [
        {
          "output_type": "stream",
          "text": [
            "Collecting dash_core_components\n",
            "\u001b[?25l  Downloading https://files.pythonhosted.org/packages/0f/ab/5ffeeed41117383d02485f5b9204dcfaa074bfbb3ff2559afac7b904ad5c/dash_core_components-1.14.1.tar.gz (3.5MB)\n",
            "\u001b[K     |████████████████████████████████| 3.5MB 8.6MB/s \n",
            "\u001b[?25hBuilding wheels for collected packages: dash-core-components\n",
            "  Building wheel for dash-core-components (setup.py) ... \u001b[?25l\u001b[?25hdone\n",
            "  Created wheel for dash-core-components: filename=dash_core_components-1.14.1-cp36-none-any.whl size=3525927 sha256=bbff8bb78274cc0ee9f4143568af1ffc2f2eafd40077ca517130cc50654c6f63\n",
            "  Stored in directory: /root/.cache/pip/wheels/e3/20/48/9022e1f2cb2fed4d9925370d0e17cbb3ab1164f3742d9b5e5a\n",
            "Successfully built dash-core-components\n",
            "Installing collected packages: dash-core-components\n",
            "Successfully installed dash-core-components-1.14.1\n"
          ],
          "name": "stdout"
        }
      ]
    },
    {
      "cell_type": "code",
      "metadata": {
        "colab": {
          "base_uri": "https://localhost:8080/"
        },
        "id": "dD1HDD3RHeeC",
        "outputId": "d6825ece-0e7e-4adc-cb5e-12d7bf602771"
      },
      "source": [
        "!pip install dash"
      ],
      "execution_count": 5,
      "outputs": [
        {
          "output_type": "stream",
          "text": [
            "Collecting dash\n",
            "\u001b[?25l  Downloading https://files.pythonhosted.org/packages/dd/17/55244363969638edd1151de0ea4aa10e6a7849b42d7d0994e3082514e19d/dash-1.18.1.tar.gz (74kB)\n",
            "\r\u001b[K     |████▍                           | 10kB 19.3MB/s eta 0:00:01\r\u001b[K     |████████▊                       | 20kB 24.6MB/s eta 0:00:01\r\u001b[K     |█████████████▏                  | 30kB 10.8MB/s eta 0:00:01\r\u001b[K     |█████████████████▌              | 40kB 9.1MB/s eta 0:00:01\r\u001b[K     |█████████████████████▉          | 51kB 7.2MB/s eta 0:00:01\r\u001b[K     |██████████████████████████▎     | 61kB 7.2MB/s eta 0:00:01\r\u001b[K     |██████████████████████████████▋ | 71kB 7.5MB/s eta 0:00:01\r\u001b[K     |████████████████████████████████| 81kB 5.2MB/s \n",
            "\u001b[?25hRequirement already satisfied: Flask>=1.0.4 in /usr/local/lib/python3.6/dist-packages (from dash) (1.1.2)\n",
            "Collecting flask-compress\n",
            "  Downloading https://files.pythonhosted.org/packages/b2/7a/9c4641f975fb9daaf945dc39da6a52fd5693ab3bbc2d53780eab3b5106f4/Flask_Compress-1.8.0-py3-none-any.whl\n",
            "Requirement already satisfied: plotly in /usr/local/lib/python3.6/dist-packages (from dash) (4.4.1)\n",
            "Collecting dash_renderer==1.8.3\n",
            "\u001b[?25l  Downloading https://files.pythonhosted.org/packages/72/fe/59a322edb128ad15205002c7b81e3f5e580f6791c4a100183289e05dbfcb/dash_renderer-1.8.3.tar.gz (1.0MB)\n",
            "\u001b[K     |████████████████████████████████| 1.0MB 6.8MB/s \n",
            "\u001b[?25hRequirement already satisfied: dash-core-components==1.14.1 in /usr/local/lib/python3.6/dist-packages (from dash) (1.14.1)\n",
            "Collecting dash-html-components==1.1.1\n",
            "\u001b[?25l  Downloading https://files.pythonhosted.org/packages/02/ba/bb9427c62feb25bfbaf243894eeeb4e7c67a92b426ed0575a167100e436e/dash_html_components-1.1.1.tar.gz (188kB)\n",
            "\u001b[K     |████████████████████████████████| 194kB 21.8MB/s \n",
            "\u001b[?25hCollecting dash-table==4.11.1\n",
            "\u001b[?25l  Downloading https://files.pythonhosted.org/packages/79/4b/de20584b7dc82dc6e572e8b596d21b1c6e39f13d19e8c9e6f1d67bed67fd/dash_table-4.11.1.tar.gz (1.8MB)\n",
            "\u001b[K     |████████████████████████████████| 1.8MB 22.6MB/s \n",
            "\u001b[?25hRequirement already satisfied: future in /usr/local/lib/python3.6/dist-packages (from dash) (0.16.0)\n",
            "Requirement already satisfied: itsdangerous>=0.24 in /usr/local/lib/python3.6/dist-packages (from Flask>=1.0.4->dash) (1.1.0)\n",
            "Requirement already satisfied: Werkzeug>=0.15 in /usr/local/lib/python3.6/dist-packages (from Flask>=1.0.4->dash) (1.0.1)\n",
            "Requirement already satisfied: Jinja2>=2.10.1 in /usr/local/lib/python3.6/dist-packages (from Flask>=1.0.4->dash) (2.11.2)\n",
            "Requirement already satisfied: click>=5.1 in /usr/local/lib/python3.6/dist-packages (from Flask>=1.0.4->dash) (7.1.2)\n",
            "Collecting brotli\n",
            "\u001b[?25l  Downloading https://files.pythonhosted.org/packages/b4/d3/7c98f05b7b9103e2f3a112ba42f269c798155b3e5404fb80bb8f823aaebe/Brotli-1.0.9-cp36-cp36m-manylinux1_x86_64.whl (357kB)\n",
            "\u001b[K     |████████████████████████████████| 358kB 52.8MB/s \n",
            "\u001b[?25hRequirement already satisfied: six in /usr/local/lib/python3.6/dist-packages (from plotly->dash) (1.15.0)\n",
            "Requirement already satisfied: retrying>=1.3.3 in /usr/local/lib/python3.6/dist-packages (from plotly->dash) (1.3.3)\n",
            "Requirement already satisfied: MarkupSafe>=0.23 in /usr/local/lib/python3.6/dist-packages (from Jinja2>=2.10.1->Flask>=1.0.4->dash) (1.1.1)\n",
            "Building wheels for collected packages: dash, dash-renderer, dash-html-components, dash-table\n",
            "  Building wheel for dash (setup.py) ... \u001b[?25l\u001b[?25hdone\n",
            "  Created wheel for dash: filename=dash-1.18.1-cp36-none-any.whl size=83681 sha256=c8577781476b44205c6549a2973404b6bdb404eb6b047b1d8c5a8f44c837a70f\n",
            "  Stored in directory: /root/.cache/pip/wheels/eb/56/fb/79b2169ce9fcb79753ec57a16abb8f0b7750b4c63d7eb3cea9\n",
            "  Building wheel for dash-renderer (setup.py) ... \u001b[?25l\u001b[?25hdone\n",
            "  Created wheel for dash-renderer: filename=dash_renderer-1.8.3-cp36-none-any.whl size=1013945 sha256=a3f2a3f72635b2257bda873e45a0a66b022f5e3e028ba8c26cac928ee820c7c3\n",
            "  Stored in directory: /root/.cache/pip/wheels/cf/2b/5f/0928a6d1b7ebf280f21a2e925f36d662e6ba83e00b82c6b6bf\n",
            "  Building wheel for dash-html-components (setup.py) ... \u001b[?25l\u001b[?25hdone\n",
            "  Created wheel for dash-html-components: filename=dash_html_components-1.1.1-cp36-none-any.whl size=427894 sha256=37474b80ebcb4d7c408c2c32488d0372b47b108c288532825f4628d16d1c098c\n",
            "  Stored in directory: /root/.cache/pip/wheels/8d/01/46/78e4de185a8a4a2da8ba31da16c52170f036d4cebeeb6e07a2\n",
            "  Building wheel for dash-table (setup.py) ... \u001b[?25l\u001b[?25hdone\n",
            "  Created wheel for dash-table: filename=dash_table-4.11.1-cp36-none-any.whl size=1839869 sha256=0d6b178cbfbf1698baf5c27c6ae8e330f7ed36b0063572903bf8a4c3c177da00\n",
            "  Stored in directory: /root/.cache/pip/wheels/53/a0/0e/1105943524ee7060c5c45a22e45c77777a3d8801f2fe49e445\n",
            "Successfully built dash dash-renderer dash-html-components dash-table\n",
            "Installing collected packages: brotli, flask-compress, dash-renderer, dash-html-components, dash-table, dash\n",
            "Successfully installed brotli-1.0.9 dash-1.18.1 dash-html-components-1.1.1 dash-renderer-1.8.3 dash-table-4.11.1 flask-compress-1.8.0\n"
          ],
          "name": "stdout"
        }
      ]
    },
    {
      "cell_type": "code",
      "metadata": {
        "id": "fvy04Gi-oOXw"
      },
      "source": [
        "import pandas as pd\r\n",
        "from lifelines import KaplanMeierFitter\r\n",
        "import numpy as np\r\n",
        "import matplotlib.pyplot as plt\r\n",
        "import seaborn as sns\r\n",
        "plt.style.use('ggplot')\r\n",
        "from pandas_profiling import ProfileReport\r\n",
        "from datetime import date\r\n",
        "from IPython.display import HTML\r\n",
        "%matplotlib inline\r\n",
        "import matplotlib.pyplot as plt\r\n",
        "import chart_studio.plotly as py\r\n",
        "import plotly.tools as tls   \r\n",
        "from plotly.graph_objs import *\r\n",
        "import dash_core_components as dcc\r\n",
        "from pylab import rcParams\r\n",
        "rcParams['figure.figsize']=10, 5"
      ],
      "execution_count": 6,
      "outputs": []
    },
    {
      "cell_type": "markdown",
      "metadata": {
        "id": "ksPDVFKJwRDN"
      },
      "source": [
        "#EDA"
      ]
    },
    {
      "cell_type": "code",
      "metadata": {
        "id": "vXoPO5iWoSOe"
      },
      "source": [
        "df=pd.read_excel('/content/drive/MyDrive/VRPS_DAVIVIENDA/Copia de Data_Ventas (1).xlsx', sheet_name='Data Ventas Inmuebles')"
      ],
      "execution_count": 7,
      "outputs": []
    },
    {
      "cell_type": "code",
      "metadata": {
        "colab": {
          "base_uri": "https://localhost:8080/"
        },
        "id": "j5W-1d3EC_m1",
        "outputId": "fbfecb21-eb5d-4117-9a61-644b743261a2"
      },
      "source": [
        "df.info()"
      ],
      "execution_count": 3,
      "outputs": [
        {
          "output_type": "stream",
          "text": [
            "<class 'pandas.core.frame.DataFrame'>\n",
            "RangeIndex: 352 entries, 0 to 351\n",
            "Data columns (total 45 columns):\n",
            " #   Column                                              Non-Null Count  Dtype         \n",
            "---  ------                                              --------------  -----         \n",
            " 0   NIBP                                                352 non-null    object        \n",
            " 1   Sucursal                                            352 non-null    object        \n",
            " 2   Año venta                                           352 non-null    int64         \n",
            " 3   Mes venta                                           352 non-null    object        \n",
            " 4   Valor venta                                         352 non-null    int64         \n",
            " 5   VF a 2019(Vr venta)                                 352 non-null    float64       \n",
            " 6   VF a 2020(Vr venta)                                 352 non-null    float64       \n",
            " 7   Banca                                               352 non-null    object        \n",
            " 8   Tipo de Bien Dir                                    352 non-null    object        \n",
            " 9   Tipificación                                        352 non-null    object        \n",
            " 10  TIPO BIEN                                           352 non-null    object        \n",
            " 11  VALOR RECIBIDO                                      352 non-null    int64         \n",
            " 12  VF a 2017(Vr recibido)                              352 non-null    float64       \n",
            " 13  VF a 2018(Vr recibido)                              352 non-null    float64       \n",
            " 14  VF a 2019(Vr recibido)                              352 non-null    float64       \n",
            " 15  VF a 2020(Vr recibido)                              352 non-null    float64       \n",
            " 16  Pérdida/Ganancia                                    352 non-null    float64       \n",
            " 17  Fecha cubo 2                                        352 non-null    datetime64[ns]\n",
            " 18  Fecha cubo 5                                        352 non-null    datetime64[ns]\n",
            " 19  AÑO cubo 2                                          352 non-null    int64         \n",
            " 20  PRIMER AVALÚO                                       352 non-null    float64       \n",
            " 21  VF a 2017(1er avalúo)                               352 non-null    float64       \n",
            " 22  VF a 2018(1er avalúo)                               352 non-null    float64       \n",
            " 23  VF a 2019(1er avalúo)                               352 non-null    float64       \n",
            " 24  VF a 2020(1er avalúo)                               352 non-null    float64       \n",
            " 25  Meses en Contabilidad                               352 non-null    float64       \n",
            " 26  Gastos 2018                                         352 non-null    float64       \n",
            " 27  VF Gastos 2018 (a 2019)                             352 non-null    float64       \n",
            " 28  VF Gastos 2018 (a 2020)                             352 non-null    float64       \n",
            " 29  Gastos 2019                                         352 non-null    float64       \n",
            " 30  VF Gastos 2019 (a 2020)                             352 non-null    float64       \n",
            " 31  Gastos 2020                                         352 non-null    float64       \n",
            " 32  Total Gastos                                        352 non-null    float64       \n",
            " 33  Indicador                                           352 non-null    float64       \n",
            " 34  % recibido sobre avalúo                             352 non-null    float64       \n",
            " 35  Variación VF: Vr recibido vs. Vr venta              352 non-null    float64       \n",
            " 36  Variación VF: Vr 1er avalúo vs. Vr recibido         352 non-null    float64       \n",
            " 37  IPV 2016                                            352 non-null    float64       \n",
            " 38  IPV 2017                                            352 non-null    float64       \n",
            " 39  IPV 2018                                            352 non-null    float64       \n",
            " 40  IPV 2019                                            352 non-null    float64       \n",
            " 41  Porcentaje promedio histórico vr recibido / avalúo  352 non-null    float64       \n",
            " 42  INDICADOR RENDIMIENTO BRP % PROMEDIO                0 non-null      float64       \n",
            " 43  Valor recepción ideal                               0 non-null      float64       \n",
            " 44  Porcentaje sugerido                                 0 non-null      float64       \n",
            "dtypes: datetime64[ns](2), float64(32), int64(4), object(7)\n",
            "memory usage: 123.9+ KB\n"
          ],
          "name": "stdout"
        }
      ]
    },
    {
      "cell_type": "code",
      "metadata": {
        "colab": {
          "base_uri": "https://localhost:8080/",
          "height": 400
        },
        "id": "AyKzq-39pRYk",
        "outputId": "3ff11993-a72e-4706-c765-0d8772fab935"
      },
      "source": [
        "df.head(5)"
      ],
      "execution_count": 4,
      "outputs": [
        {
          "output_type": "execute_result",
          "data": {
            "text/html": [
              "<div>\n",
              "<style scoped>\n",
              "    .dataframe tbody tr th:only-of-type {\n",
              "        vertical-align: middle;\n",
              "    }\n",
              "\n",
              "    .dataframe tbody tr th {\n",
              "        vertical-align: top;\n",
              "    }\n",
              "\n",
              "    .dataframe thead th {\n",
              "        text-align: right;\n",
              "    }\n",
              "</style>\n",
              "<table border=\"1\" class=\"dataframe\">\n",
              "  <thead>\n",
              "    <tr style=\"text-align: right;\">\n",
              "      <th></th>\n",
              "      <th>NIBP</th>\n",
              "      <th>Sucursal</th>\n",
              "      <th>Año venta</th>\n",
              "      <th>Mes venta</th>\n",
              "      <th>Valor venta</th>\n",
              "      <th>VF a 2019(Vr venta)</th>\n",
              "      <th>VF a 2020(Vr venta)</th>\n",
              "      <th>Banca</th>\n",
              "      <th>Tipo de Bien Dir</th>\n",
              "      <th>Tipificación</th>\n",
              "      <th>TIPO BIEN</th>\n",
              "      <th>VALOR RECIBIDO</th>\n",
              "      <th>VF a 2017(Vr recibido)</th>\n",
              "      <th>VF a 2018(Vr recibido)</th>\n",
              "      <th>VF a 2019(Vr recibido)</th>\n",
              "      <th>VF a 2020(Vr recibido)</th>\n",
              "      <th>Pérdida/Ganancia</th>\n",
              "      <th>Fecha cubo 2</th>\n",
              "      <th>Fecha cubo 5</th>\n",
              "      <th>AÑO cubo 2</th>\n",
              "      <th>PRIMER AVALÚO</th>\n",
              "      <th>VF a 2017(1er avalúo)</th>\n",
              "      <th>VF a 2018(1er avalúo)</th>\n",
              "      <th>VF a 2019(1er avalúo)</th>\n",
              "      <th>VF a 2020(1er avalúo)</th>\n",
              "      <th>Meses en Contabilidad</th>\n",
              "      <th>Gastos 2018</th>\n",
              "      <th>VF Gastos 2018 (a 2019)</th>\n",
              "      <th>VF Gastos 2018 (a 2020)</th>\n",
              "      <th>Gastos 2019</th>\n",
              "      <th>VF Gastos 2019 (a 2020)</th>\n",
              "      <th>Gastos 2020</th>\n",
              "      <th>Total Gastos</th>\n",
              "      <th>Indicador</th>\n",
              "      <th>% recibido sobre avalúo</th>\n",
              "      <th>Variación VF: Vr recibido vs. Vr venta</th>\n",
              "      <th>Variación VF: Vr 1er avalúo vs. Vr recibido</th>\n",
              "      <th>IPV 2016</th>\n",
              "      <th>IPV 2017</th>\n",
              "      <th>IPV 2018</th>\n",
              "      <th>IPV 2019</th>\n",
              "      <th>Porcentaje promedio histórico vr recibido / avalúo</th>\n",
              "      <th>INDICADOR RENDIMIENTO BRP % PROMEDIO</th>\n",
              "      <th>Valor recepción ideal</th>\n",
              "      <th>Porcentaje sugerido</th>\n",
              "    </tr>\n",
              "  </thead>\n",
              "  <tbody>\n",
              "    <tr>\n",
              "      <th>0</th>\n",
              "      <td>03-9323</td>\n",
              "      <td>Antioquia</td>\n",
              "      <td>2018</td>\n",
              "      <td>Jun</td>\n",
              "      <td>220000000</td>\n",
              "      <td>246664000.0</td>\n",
              "      <td>2.829483e+08</td>\n",
              "      <td>Personas</td>\n",
              "      <td>Apartamento</td>\n",
              "      <td>Vivienda</td>\n",
              "      <td>Inmuebles</td>\n",
              "      <td>0</td>\n",
              "      <td>2.330160e+08</td>\n",
              "      <td>2.749262e+08</td>\n",
              "      <td>3.264338e+08</td>\n",
              "      <td>3.859105e+08</td>\n",
              "      <td>-1.029622e+08</td>\n",
              "      <td>2017-07-04 02:00:00</td>\n",
              "      <td>2018-06-28 02:00:00</td>\n",
              "      <td>2017</td>\n",
              "      <td>0.000000e+00</td>\n",
              "      <td>2.330160e+08</td>\n",
              "      <td>2.749262e+08</td>\n",
              "      <td>3.264338e+08</td>\n",
              "      <td>3.859105e+08</td>\n",
              "      <td>11.966667</td>\n",
              "      <td>432661.0</td>\n",
              "      <td>485099.5132</td>\n",
              "      <td>556457.651592</td>\n",
              "      <td>0.0</td>\n",
              "      <td>0.0</td>\n",
              "      <td>0.0</td>\n",
              "      <td>556457.651592</td>\n",
              "      <td>0.731755</td>\n",
              "      <td>1.00</td>\n",
              "      <td>-0.266803</td>\n",
              "      <td>0.00</td>\n",
              "      <td>0.0466</td>\n",
              "      <td>0.0511</td>\n",
              "      <td>0.059</td>\n",
              "      <td>0.0306</td>\n",
              "      <td>0.867471</td>\n",
              "      <td>NaN</td>\n",
              "      <td>NaN</td>\n",
              "      <td>NaN</td>\n",
              "    </tr>\n",
              "    <tr>\n",
              "      <th>1</th>\n",
              "      <td>00-9037</td>\n",
              "      <td>Bogotá y Cundinamarca</td>\n",
              "      <td>2018</td>\n",
              "      <td>Abr</td>\n",
              "      <td>70000000</td>\n",
              "      <td>78484000.0</td>\n",
              "      <td>9.002900e+07</td>\n",
              "      <td>Personas</td>\n",
              "      <td>Apartamento</td>\n",
              "      <td>Vivienda</td>\n",
              "      <td>Inmuebles</td>\n",
              "      <td>46924500</td>\n",
              "      <td>5.725528e+07</td>\n",
              "      <td>6.992473e+07</td>\n",
              "      <td>8.757236e+07</td>\n",
              "      <td>1.060998e+08</td>\n",
              "      <td>-1.607079e+07</td>\n",
              "      <td>2016-09-21 02:00:00</td>\n",
              "      <td>2018-04-25 02:00:00</td>\n",
              "      <td>2016</td>\n",
              "      <td>6.703500e+07</td>\n",
              "      <td>8.179326e+07</td>\n",
              "      <td>9.989247e+07</td>\n",
              "      <td>1.251034e+08</td>\n",
              "      <td>1.515711e+08</td>\n",
              "      <td>19.366667</td>\n",
              "      <td>120000.0</td>\n",
              "      <td>134544.0000</td>\n",
              "      <td>154335.422400</td>\n",
              "      <td>0.0</td>\n",
              "      <td>0.0</td>\n",
              "      <td>0.0</td>\n",
              "      <td>154335.422400</td>\n",
              "      <td>0.847077</td>\n",
              "      <td>0.70</td>\n",
              "      <td>-0.151469</td>\n",
              "      <td>-0.30</td>\n",
              "      <td>0.0870</td>\n",
              "      <td>0.0880</td>\n",
              "      <td>0.117</td>\n",
              "      <td>0.0562</td>\n",
              "      <td>0.876253</td>\n",
              "      <td>NaN</td>\n",
              "      <td>NaN</td>\n",
              "      <td>NaN</td>\n",
              "    </tr>\n",
              "    <tr>\n",
              "      <th>2</th>\n",
              "      <td>00-9333</td>\n",
              "      <td>Bogotá y Cundinamarca</td>\n",
              "      <td>2018</td>\n",
              "      <td>Abr</td>\n",
              "      <td>300200000</td>\n",
              "      <td>336584240.0</td>\n",
              "      <td>3.860958e+08</td>\n",
              "      <td>Personas</td>\n",
              "      <td>Apartamento</td>\n",
              "      <td>Vivienda</td>\n",
              "      <td>Inmuebles</td>\n",
              "      <td>0</td>\n",
              "      <td>3.052780e+08</td>\n",
              "      <td>3.728299e+08</td>\n",
              "      <td>4.669249e+08</td>\n",
              "      <td>5.657108e+08</td>\n",
              "      <td>-1.796150e+08</td>\n",
              "      <td>2017-09-05 02:00:00</td>\n",
              "      <td>2018-04-27 02:00:00</td>\n",
              "      <td>2017</td>\n",
              "      <td>0.000000e+00</td>\n",
              "      <td>3.052780e+08</td>\n",
              "      <td>3.728299e+08</td>\n",
              "      <td>4.669249e+08</td>\n",
              "      <td>5.657108e+08</td>\n",
              "      <td>7.800000</td>\n",
              "      <td>95200.0</td>\n",
              "      <td>106738.2400</td>\n",
              "      <td>122439.435104</td>\n",
              "      <td>0.0</td>\n",
              "      <td>0.0</td>\n",
              "      <td>0.0</td>\n",
              "      <td>122439.435104</td>\n",
              "      <td>0.682280</td>\n",
              "      <td>1.00</td>\n",
              "      <td>-0.317503</td>\n",
              "      <td>0.00</td>\n",
              "      <td>0.0870</td>\n",
              "      <td>0.0880</td>\n",
              "      <td>0.117</td>\n",
              "      <td>0.0562</td>\n",
              "      <td>0.876253</td>\n",
              "      <td>NaN</td>\n",
              "      <td>NaN</td>\n",
              "      <td>NaN</td>\n",
              "    </tr>\n",
              "    <tr>\n",
              "      <th>3</th>\n",
              "      <td>00-9463</td>\n",
              "      <td>Bogotá y Cundinamarca</td>\n",
              "      <td>2018</td>\n",
              "      <td>Abr</td>\n",
              "      <td>313170000</td>\n",
              "      <td>351126204.0</td>\n",
              "      <td>4.027769e+08</td>\n",
              "      <td>Personas</td>\n",
              "      <td>Apartamento</td>\n",
              "      <td>Vivienda</td>\n",
              "      <td>Inmuebles</td>\n",
              "      <td>0</td>\n",
              "      <td>3.131700e+08</td>\n",
              "      <td>3.824683e+08</td>\n",
              "      <td>4.789957e+08</td>\n",
              "      <td>5.803355e+08</td>\n",
              "      <td>-1.775586e+08</td>\n",
              "      <td>2017-11-06 03:00:00</td>\n",
              "      <td>2018-04-27 02:00:00</td>\n",
              "      <td>2017</td>\n",
              "      <td>0.000000e+00</td>\n",
              "      <td>3.131700e+08</td>\n",
              "      <td>3.824683e+08</td>\n",
              "      <td>4.789957e+08</td>\n",
              "      <td>5.803355e+08</td>\n",
              "      <td>5.731944</td>\n",
              "      <td>21420.0</td>\n",
              "      <td>24016.1040</td>\n",
              "      <td>27548.872898</td>\n",
              "      <td>0.0</td>\n",
              "      <td>0.0</td>\n",
              "      <td>0.0</td>\n",
              "      <td>27548.872898</td>\n",
              "      <td>0.693994</td>\n",
              "      <td>1.00</td>\n",
              "      <td>-0.305959</td>\n",
              "      <td>0.00</td>\n",
              "      <td>0.0870</td>\n",
              "      <td>0.0880</td>\n",
              "      <td>0.117</td>\n",
              "      <td>0.0562</td>\n",
              "      <td>0.876253</td>\n",
              "      <td>NaN</td>\n",
              "      <td>NaN</td>\n",
              "      <td>NaN</td>\n",
              "    </tr>\n",
              "    <tr>\n",
              "      <th>4</th>\n",
              "      <td>00-8404</td>\n",
              "      <td>Bogotá y Cundinamarca</td>\n",
              "      <td>2018</td>\n",
              "      <td>Ago</td>\n",
              "      <td>460000000</td>\n",
              "      <td>515752000.0</td>\n",
              "      <td>5.916191e+08</td>\n",
              "      <td>Pyme</td>\n",
              "      <td>Apartamento</td>\n",
              "      <td>Vivienda</td>\n",
              "      <td>Inmuebles</td>\n",
              "      <td>500920211</td>\n",
              "      <td>6.112016e+08</td>\n",
              "      <td>7.464482e+08</td>\n",
              "      <td>9.348371e+08</td>\n",
              "      <td>1.132618e+09</td>\n",
              "      <td>-5.409987e+08</td>\n",
              "      <td>2016-02-05 03:00:00</td>\n",
              "      <td>2018-08-28 02:00:00</td>\n",
              "      <td>2016</td>\n",
              "      <td>6.678936e+08</td>\n",
              "      <td>8.149354e+08</td>\n",
              "      <td>9.952643e+08</td>\n",
              "      <td>1.246450e+09</td>\n",
              "      <td>1.510157e+09</td>\n",
              "      <td>31.165278</td>\n",
              "      <td>192001.0</td>\n",
              "      <td>215271.5212</td>\n",
              "      <td>246937.961969</td>\n",
              "      <td>0.0</td>\n",
              "      <td>0.0</td>\n",
              "      <td>0.0</td>\n",
              "      <td>246937.961969</td>\n",
              "      <td>0.522129</td>\n",
              "      <td>0.75</td>\n",
              "      <td>-0.477653</td>\n",
              "      <td>-0.25</td>\n",
              "      <td>0.0870</td>\n",
              "      <td>0.0880</td>\n",
              "      <td>0.117</td>\n",
              "      <td>0.0562</td>\n",
              "      <td>0.876253</td>\n",
              "      <td>NaN</td>\n",
              "      <td>NaN</td>\n",
              "      <td>NaN</td>\n",
              "    </tr>\n",
              "  </tbody>\n",
              "</table>\n",
              "</div>"
            ],
            "text/plain": [
              "      NIBP               Sucursal  ...  Valor recepción ideal Porcentaje sugerido\n",
              "0  03-9323              Antioquia  ...                    NaN                 NaN\n",
              "1  00-9037  Bogotá y Cundinamarca  ...                    NaN                 NaN\n",
              "2  00-9333  Bogotá y Cundinamarca  ...                    NaN                 NaN\n",
              "3  00-9463  Bogotá y Cundinamarca  ...                    NaN                 NaN\n",
              "4  00-8404  Bogotá y Cundinamarca  ...                    NaN                 NaN\n",
              "\n",
              "[5 rows x 45 columns]"
            ]
          },
          "metadata": {
            "tags": []
          },
          "execution_count": 4
        }
      ]
    },
    {
      "cell_type": "code",
      "metadata": {
        "colab": {
          "base_uri": "https://localhost:8080/",
          "height": 407
        },
        "id": "R6Pt9dPVpS1o",
        "outputId": "c37492ad-d23d-4f20-baab-d955d08c1f5a"
      },
      "source": [
        "df.describe()"
      ],
      "execution_count": 5,
      "outputs": [
        {
          "output_type": "execute_result",
          "data": {
            "text/html": [
              "<div>\n",
              "<style scoped>\n",
              "    .dataframe tbody tr th:only-of-type {\n",
              "        vertical-align: middle;\n",
              "    }\n",
              "\n",
              "    .dataframe tbody tr th {\n",
              "        vertical-align: top;\n",
              "    }\n",
              "\n",
              "    .dataframe thead th {\n",
              "        text-align: right;\n",
              "    }\n",
              "</style>\n",
              "<table border=\"1\" class=\"dataframe\">\n",
              "  <thead>\n",
              "    <tr style=\"text-align: right;\">\n",
              "      <th></th>\n",
              "      <th>Año venta</th>\n",
              "      <th>Valor venta</th>\n",
              "      <th>VF a 2019(Vr venta)</th>\n",
              "      <th>VF a 2020(Vr venta)</th>\n",
              "      <th>VALOR RECIBIDO</th>\n",
              "      <th>VF a 2017(Vr recibido)</th>\n",
              "      <th>VF a 2018(Vr recibido)</th>\n",
              "      <th>VF a 2019(Vr recibido)</th>\n",
              "      <th>VF a 2020(Vr recibido)</th>\n",
              "      <th>Pérdida/Ganancia</th>\n",
              "      <th>AÑO cubo 2</th>\n",
              "      <th>PRIMER AVALÚO</th>\n",
              "      <th>VF a 2017(1er avalúo)</th>\n",
              "      <th>VF a 2018(1er avalúo)</th>\n",
              "      <th>VF a 2019(1er avalúo)</th>\n",
              "      <th>VF a 2020(1er avalúo)</th>\n",
              "      <th>Meses en Contabilidad</th>\n",
              "      <th>Gastos 2018</th>\n",
              "      <th>VF Gastos 2018 (a 2019)</th>\n",
              "      <th>VF Gastos 2018 (a 2020)</th>\n",
              "      <th>Gastos 2019</th>\n",
              "      <th>VF Gastos 2019 (a 2020)</th>\n",
              "      <th>Gastos 2020</th>\n",
              "      <th>Total Gastos</th>\n",
              "      <th>Indicador</th>\n",
              "      <th>% recibido sobre avalúo</th>\n",
              "      <th>Variación VF: Vr recibido vs. Vr venta</th>\n",
              "      <th>Variación VF: Vr 1er avalúo vs. Vr recibido</th>\n",
              "      <th>IPV 2016</th>\n",
              "      <th>IPV 2017</th>\n",
              "      <th>IPV 2018</th>\n",
              "      <th>IPV 2019</th>\n",
              "      <th>Porcentaje promedio histórico vr recibido / avalúo</th>\n",
              "      <th>INDICADOR RENDIMIENTO BRP % PROMEDIO</th>\n",
              "      <th>Valor recepción ideal</th>\n",
              "      <th>Porcentaje sugerido</th>\n",
              "    </tr>\n",
              "  </thead>\n",
              "  <tbody>\n",
              "    <tr>\n",
              "      <th>count</th>\n",
              "      <td>352.000000</td>\n",
              "      <td>3.520000e+02</td>\n",
              "      <td>3.520000e+02</td>\n",
              "      <td>3.520000e+02</td>\n",
              "      <td>3.520000e+02</td>\n",
              "      <td>3.520000e+02</td>\n",
              "      <td>3.520000e+02</td>\n",
              "      <td>3.520000e+02</td>\n",
              "      <td>3.520000e+02</td>\n",
              "      <td>3.520000e+02</td>\n",
              "      <td>352.000000</td>\n",
              "      <td>3.520000e+02</td>\n",
              "      <td>3.520000e+02</td>\n",
              "      <td>3.520000e+02</td>\n",
              "      <td>3.520000e+02</td>\n",
              "      <td>3.520000e+02</td>\n",
              "      <td>352.000000</td>\n",
              "      <td>3.520000e+02</td>\n",
              "      <td>3.520000e+02</td>\n",
              "      <td>3.520000e+02</td>\n",
              "      <td>3.520000e+02</td>\n",
              "      <td>3.520000e+02</td>\n",
              "      <td>3.520000e+02</td>\n",
              "      <td>3.520000e+02</td>\n",
              "      <td>352.000000</td>\n",
              "      <td>352.000000</td>\n",
              "      <td>352.000000</td>\n",
              "      <td>3.520000e+02</td>\n",
              "      <td>352.000000</td>\n",
              "      <td>352.000000</td>\n",
              "      <td>352.000000</td>\n",
              "      <td>352.000000</td>\n",
              "      <td>352.000000</td>\n",
              "      <td>0.0</td>\n",
              "      <td>0.0</td>\n",
              "      <td>0.0</td>\n",
              "    </tr>\n",
              "    <tr>\n",
              "      <th>mean</th>\n",
              "      <td>2019.107955</td>\n",
              "      <td>3.049986e+08</td>\n",
              "      <td>3.419644e+08</td>\n",
              "      <td>3.922674e+08</td>\n",
              "      <td>7.501027e+07</td>\n",
              "      <td>1.810677e+08</td>\n",
              "      <td>3.297122e+08</td>\n",
              "      <td>4.659466e+08</td>\n",
              "      <td>5.633402e+08</td>\n",
              "      <td>-1.710728e+08</td>\n",
              "      <td>2017.815341</td>\n",
              "      <td>9.352345e+07</td>\n",
              "      <td>2.198196e+08</td>\n",
              "      <td>3.941126e+08</td>\n",
              "      <td>5.491036e+08</td>\n",
              "      <td>6.634551e+08</td>\n",
              "      <td>15.969997</td>\n",
              "      <td>2.704236e+05</td>\n",
              "      <td>3.031989e+05</td>\n",
              "      <td>3.477994e+05</td>\n",
              "      <td>4.352938e+05</td>\n",
              "      <td>4.993255e+05</td>\n",
              "      <td>4.351313e+06</td>\n",
              "      <td>5.198438e+06</td>\n",
              "      <td>0.851280</td>\n",
              "      <td>0.883121</td>\n",
              "      <td>-0.137075</td>\n",
              "      <td>-1.168785e-01</td>\n",
              "      <td>0.066403</td>\n",
              "      <td>0.065771</td>\n",
              "      <td>0.068994</td>\n",
              "      <td>0.047406</td>\n",
              "      <td>0.883121</td>\n",
              "      <td>NaN</td>\n",
              "      <td>NaN</td>\n",
              "      <td>NaN</td>\n",
              "    </tr>\n",
              "    <tr>\n",
              "      <th>std</th>\n",
              "      <td>0.750874</td>\n",
              "      <td>4.678351e+08</td>\n",
              "      <td>5.245367e+08</td>\n",
              "      <td>6.016960e+08</td>\n",
              "      <td>4.103365e+08</td>\n",
              "      <td>5.862384e+08</td>\n",
              "      <td>7.751814e+08</td>\n",
              "      <td>9.454456e+08</td>\n",
              "      <td>1.139933e+09</td>\n",
              "      <td>6.164851e+08</td>\n",
              "      <td>0.991412</td>\n",
              "      <td>5.553222e+08</td>\n",
              "      <td>7.542163e+08</td>\n",
              "      <td>9.783706e+08</td>\n",
              "      <td>1.196498e+09</td>\n",
              "      <td>1.443831e+09</td>\n",
              "      <td>9.439081</td>\n",
              "      <td>1.708192e+06</td>\n",
              "      <td>1.915224e+06</td>\n",
              "      <td>2.196954e+06</td>\n",
              "      <td>2.153185e+06</td>\n",
              "      <td>2.469919e+06</td>\n",
              "      <td>1.786916e+07</td>\n",
              "      <td>1.844780e+07</td>\n",
              "      <td>0.265384</td>\n",
              "      <td>0.157579</td>\n",
              "      <td>0.270692</td>\n",
              "      <td>1.575793e-01</td>\n",
              "      <td>0.015646</td>\n",
              "      <td>0.018165</td>\n",
              "      <td>0.036144</td>\n",
              "      <td>0.010103</td>\n",
              "      <td>0.058285</td>\n",
              "      <td>NaN</td>\n",
              "      <td>NaN</td>\n",
              "      <td>NaN</td>\n",
              "    </tr>\n",
              "    <tr>\n",
              "      <th>min</th>\n",
              "      <td>2018.000000</td>\n",
              "      <td>3.000000e+06</td>\n",
              "      <td>3.363600e+06</td>\n",
              "      <td>3.858386e+06</td>\n",
              "      <td>0.000000e+00</td>\n",
              "      <td>0.000000e+00</td>\n",
              "      <td>0.000000e+00</td>\n",
              "      <td>0.000000e+00</td>\n",
              "      <td>3.647099e+06</td>\n",
              "      <td>-6.447404e+09</td>\n",
              "      <td>2016.000000</td>\n",
              "      <td>0.000000e+00</td>\n",
              "      <td>0.000000e+00</td>\n",
              "      <td>0.000000e+00</td>\n",
              "      <td>0.000000e+00</td>\n",
              "      <td>6.288101e+06</td>\n",
              "      <td>1.166667</td>\n",
              "      <td>0.000000e+00</td>\n",
              "      <td>0.000000e+00</td>\n",
              "      <td>0.000000e+00</td>\n",
              "      <td>0.000000e+00</td>\n",
              "      <td>0.000000e+00</td>\n",
              "      <td>0.000000e+00</td>\n",
              "      <td>0.000000e+00</td>\n",
              "      <td>0.232395</td>\n",
              "      <td>0.203800</td>\n",
              "      <td>-0.763113</td>\n",
              "      <td>-7.961999e-01</td>\n",
              "      <td>0.046100</td>\n",
              "      <td>0.026300</td>\n",
              "      <td>0.030600</td>\n",
              "      <td>0.027900</td>\n",
              "      <td>0.767452</td>\n",
              "      <td>NaN</td>\n",
              "      <td>NaN</td>\n",
              "      <td>NaN</td>\n",
              "    </tr>\n",
              "    <tr>\n",
              "      <th>25%</th>\n",
              "      <td>2019.000000</td>\n",
              "      <td>1.200000e+08</td>\n",
              "      <td>1.345440e+08</td>\n",
              "      <td>1.543354e+08</td>\n",
              "      <td>0.000000e+00</td>\n",
              "      <td>0.000000e+00</td>\n",
              "      <td>0.000000e+00</td>\n",
              "      <td>1.443965e+08</td>\n",
              "      <td>1.752228e+08</td>\n",
              "      <td>-1.257453e+08</td>\n",
              "      <td>2017.000000</td>\n",
              "      <td>0.000000e+00</td>\n",
              "      <td>0.000000e+00</td>\n",
              "      <td>0.000000e+00</td>\n",
              "      <td>1.568367e+08</td>\n",
              "      <td>1.896942e+08</td>\n",
              "      <td>8.165278</td>\n",
              "      <td>0.000000e+00</td>\n",
              "      <td>0.000000e+00</td>\n",
              "      <td>0.000000e+00</td>\n",
              "      <td>0.000000e+00</td>\n",
              "      <td>0.000000e+00</td>\n",
              "      <td>0.000000e+00</td>\n",
              "      <td>3.665466e+04</td>\n",
              "      <td>0.695193</td>\n",
              "      <td>0.750808</td>\n",
              "      <td>-0.300354</td>\n",
              "      <td>-2.491918e-01</td>\n",
              "      <td>0.054000</td>\n",
              "      <td>0.054700</td>\n",
              "      <td>0.040700</td>\n",
              "      <td>0.042750</td>\n",
              "      <td>0.873178</td>\n",
              "      <td>NaN</td>\n",
              "      <td>NaN</td>\n",
              "      <td>NaN</td>\n",
              "    </tr>\n",
              "    <tr>\n",
              "      <th>50%</th>\n",
              "      <td>2019.000000</td>\n",
              "      <td>1.902500e+08</td>\n",
              "      <td>2.133083e+08</td>\n",
              "      <td>2.446860e+08</td>\n",
              "      <td>0.000000e+00</td>\n",
              "      <td>0.000000e+00</td>\n",
              "      <td>1.570657e+08</td>\n",
              "      <td>2.422945e+08</td>\n",
              "      <td>2.906756e+08</td>\n",
              "      <td>-4.413146e+07</td>\n",
              "      <td>2018.000000</td>\n",
              "      <td>0.000000e+00</td>\n",
              "      <td>0.000000e+00</td>\n",
              "      <td>1.829185e+08</td>\n",
              "      <td>2.690544e+08</td>\n",
              "      <td>3.204479e+08</td>\n",
              "      <td>14.234028</td>\n",
              "      <td>2.374900e+04</td>\n",
              "      <td>2.662738e+04</td>\n",
              "      <td>3.054427e+04</td>\n",
              "      <td>0.000000e+00</td>\n",
              "      <td>0.000000e+00</td>\n",
              "      <td>0.000000e+00</td>\n",
              "      <td>2.445773e+05</td>\n",
              "      <td>0.824578</td>\n",
              "      <td>1.000000</td>\n",
              "      <td>-0.164779</td>\n",
              "      <td>0.000000e+00</td>\n",
              "      <td>0.058700</td>\n",
              "      <td>0.058500</td>\n",
              "      <td>0.053200</td>\n",
              "      <td>0.046900</td>\n",
              "      <td>0.876253</td>\n",
              "      <td>NaN</td>\n",
              "      <td>NaN</td>\n",
              "      <td>NaN</td>\n",
              "    </tr>\n",
              "    <tr>\n",
              "      <th>75%</th>\n",
              "      <td>2020.000000</td>\n",
              "      <td>3.011775e+08</td>\n",
              "      <td>3.376802e+08</td>\n",
              "      <td>3.873530e+08</td>\n",
              "      <td>0.000000e+00</td>\n",
              "      <td>1.736660e+08</td>\n",
              "      <td>3.076518e+08</td>\n",
              "      <td>4.311026e+08</td>\n",
              "      <td>5.217320e+08</td>\n",
              "      <td>2.821496e+06</td>\n",
              "      <td>2019.000000</td>\n",
              "      <td>0.000000e+00</td>\n",
              "      <td>1.755750e+08</td>\n",
              "      <td>3.616467e+08</td>\n",
              "      <td>4.856683e+08</td>\n",
              "      <td>5.859838e+08</td>\n",
              "      <td>22.347917</td>\n",
              "      <td>1.001400e+05</td>\n",
              "      <td>1.122770e+05</td>\n",
              "      <td>1.287929e+05</td>\n",
              "      <td>0.000000e+00</td>\n",
              "      <td>0.000000e+00</td>\n",
              "      <td>2.130670e+06</td>\n",
              "      <td>4.435044e+06</td>\n",
              "      <td>1.004227</td>\n",
              "      <td>1.000000</td>\n",
              "      <td>0.025620</td>\n",
              "      <td>0.000000e+00</td>\n",
              "      <td>0.087000</td>\n",
              "      <td>0.088000</td>\n",
              "      <td>0.117000</td>\n",
              "      <td>0.056200</td>\n",
              "      <td>0.922033</td>\n",
              "      <td>NaN</td>\n",
              "      <td>NaN</td>\n",
              "      <td>NaN</td>\n",
              "    </tr>\n",
              "    <tr>\n",
              "      <th>max</th>\n",
              "      <td>2020.000000</td>\n",
              "      <td>4.300000e+09</td>\n",
              "      <td>4.821160e+09</td>\n",
              "      <td>5.530353e+09</td>\n",
              "      <td>4.899205e+09</td>\n",
              "      <td>5.977801e+09</td>\n",
              "      <td>7.300569e+09</td>\n",
              "      <td>9.143090e+09</td>\n",
              "      <td>1.107747e+10</td>\n",
              "      <td>6.217000e+08</td>\n",
              "      <td>2020.000000</td>\n",
              "      <td>6.998864e+09</td>\n",
              "      <td>8.539716e+09</td>\n",
              "      <td>1.042938e+10</td>\n",
              "      <td>1.306156e+10</td>\n",
              "      <td>1.582495e+10</td>\n",
              "      <td>45.163889</td>\n",
              "      <td>2.723759e+07</td>\n",
              "      <td>3.053879e+07</td>\n",
              "      <td>3.503105e+07</td>\n",
              "      <td>2.265522e+07</td>\n",
              "      <td>2.598780e+07</td>\n",
              "      <td>2.854106e+08</td>\n",
              "      <td>2.889351e+08</td>\n",
              "      <td>2.194938</td>\n",
              "      <td>1.000000</td>\n",
              "      <td>1.232454</td>\n",
              "      <td>4.794106e-10</td>\n",
              "      <td>0.087000</td>\n",
              "      <td>0.088000</td>\n",
              "      <td>0.117000</td>\n",
              "      <td>0.065800</td>\n",
              "      <td>1.000000</td>\n",
              "      <td>NaN</td>\n",
              "      <td>NaN</td>\n",
              "      <td>NaN</td>\n",
              "    </tr>\n",
              "  </tbody>\n",
              "</table>\n",
              "</div>"
            ],
            "text/plain": [
              "         Año venta   Valor venta  ...  Valor recepción ideal  Porcentaje sugerido\n",
              "count   352.000000  3.520000e+02  ...                    0.0                  0.0\n",
              "mean   2019.107955  3.049986e+08  ...                    NaN                  NaN\n",
              "std       0.750874  4.678351e+08  ...                    NaN                  NaN\n",
              "min    2018.000000  3.000000e+06  ...                    NaN                  NaN\n",
              "25%    2019.000000  1.200000e+08  ...                    NaN                  NaN\n",
              "50%    2019.000000  1.902500e+08  ...                    NaN                  NaN\n",
              "75%    2020.000000  3.011775e+08  ...                    NaN                  NaN\n",
              "max    2020.000000  4.300000e+09  ...                    NaN                  NaN\n",
              "\n",
              "[8 rows x 36 columns]"
            ]
          },
          "metadata": {
            "tags": []
          },
          "execution_count": 5
        }
      ]
    },
    {
      "cell_type": "markdown",
      "metadata": {
        "id": "owVDn05n5h98"
      },
      "source": [
        "Profile report"
      ]
    },
    {
      "cell_type": "code",
      "metadata": {
        "id": "VlanNjC15jzF",
        "colab": {
          "base_uri": "https://localhost:8080/",
          "height": 219,
          "referenced_widgets": [
            "4e7b2cff246c4a009d80a87322321bf1",
            "19db41e33da743b3a176041d9e680ccd",
            "6d1aa95de3d84687bf32393390457bbf",
            "7687d36d16e440da9d0cd03618901c56",
            "eb7c8a2741924a4f886a94e37a9f3ca5",
            "036dece98e914c7282086d5c77d07fdb",
            "73bf31fb5ec94ddfbab8bf99f923a715",
            "2d710d534fb74dfeadb84e865c69a4a4",
            "320973d02cfe42229f1edd6a02422935",
            "b10025733264439ca20e500a2b9e92d0",
            "9fddf6826ace4cc987256945599f2c66",
            "55b55ff114ef4254b1c51a604fc901a5",
            "d8d28b755d8f47d186166f4b0aea380f",
            "cb23c7eea9264a27ba1468bc04826afb",
            "b596b7b8ecc34216abe6acae6c897d81",
            "9b84210be5774aef98cb98147297169a",
            "e31791fe77004504ba66dc13d942fe02",
            "9e558834591344ed97ad047176d06da2",
            "5553ea84c4e44b558cb0f313206eaf56",
            "bcbf85d31e2b439a8feb03e99ee9d041",
            "20726a6762964892aa03c5dacad8912d",
            "ff0b09920c9b4cd59043b039823925b6",
            "3000afc7db944ecfab266d94be40ddb0",
            "de9a28548c3447f1b9d02645627601b6",
            "f8d6d18c16b848eb8b52284e3018b729",
            "2c4e3be05b174728a311545b0d224a4d",
            "6fbcf626db24410eb122183931b71306",
            "dfd6a5ed9cd847ff8c39cce7dc25a98c",
            "af19b3960acd4f9094541c6d7cb69e56",
            "0209528681674853bdfb9ad09d06ef27",
            "ff375924155d4022bf4d9bd54c525a26",
            "47a14059c13045ebb1bc11fba0a6b7c3",
            "daf64b7c787548deabf33e47895334bc",
            "2a020a1274fe4df58cbade4cd0aab4ed",
            "e3ce9a83f2cb48188eadf9820cf3aadb",
            "7c493683512742f99db7ccf34b9f07fd",
            "7b586c54a90c4db0be90bcbf443dc6df",
            "eac84d21e1204feabfc7daeac3259a81",
            "b8cdcf75facd41f28860e5bdf95d6cfa",
            "9e5ac4a512e34bd9a71a99dd83b561e5",
            "237b8850540b4c51b7ccefb85a52e80a",
            "cd85b6bc2394404c90fea3762e7d3e1c",
            "34c35ff3ef7d43f8b0311d26ddc1cb7e",
            "6cb8ad59d2f74beabf1a169ab497805e"
          ]
        },
        "outputId": "979be3ac-58cb-46cf-afe6-14cd93dabbd7"
      },
      "source": [
        "profile = ProfileReport(df, title='BRP Inmuebles')\r\n",
        "profile.to_file(\"/content/drive/MyDrive/VRPS_DAVIVIENDA/brp_profile.html\")"
      ],
      "execution_count": 6,
      "outputs": [
        {
          "output_type": "display_data",
          "data": {
            "application/vnd.jupyter.widget-view+json": {
              "model_id": "4e7b2cff246c4a009d80a87322321bf1",
              "version_minor": 0,
              "version_major": 2
            },
            "text/plain": [
              "HBox(children=(HTML(value='Summarize dataset'), FloatProgress(value=0.0, max=59.0), HTML(value='')))"
            ]
          },
          "metadata": {
            "tags": []
          }
        },
        {
          "output_type": "stream",
          "text": [
            "\n"
          ],
          "name": "stdout"
        },
        {
          "output_type": "display_data",
          "data": {
            "application/vnd.jupyter.widget-view+json": {
              "model_id": "55b55ff114ef4254b1c51a604fc901a5",
              "version_minor": 0,
              "version_major": 2
            },
            "text/plain": [
              "HBox(children=(HTML(value='Generate report structure'), FloatProgress(value=0.0, max=1.0), HTML(value='')))"
            ]
          },
          "metadata": {
            "tags": []
          }
        },
        {
          "output_type": "stream",
          "text": [
            "\n"
          ],
          "name": "stdout"
        },
        {
          "output_type": "display_data",
          "data": {
            "application/vnd.jupyter.widget-view+json": {
              "model_id": "3000afc7db944ecfab266d94be40ddb0",
              "version_minor": 0,
              "version_major": 2
            },
            "text/plain": [
              "HBox(children=(HTML(value='Render HTML'), FloatProgress(value=0.0, max=1.0), HTML(value='')))"
            ]
          },
          "metadata": {
            "tags": []
          }
        },
        {
          "output_type": "stream",
          "text": [
            "\n"
          ],
          "name": "stdout"
        },
        {
          "output_type": "display_data",
          "data": {
            "application/vnd.jupyter.widget-view+json": {
              "model_id": "2a020a1274fe4df58cbade4cd0aab4ed",
              "version_minor": 0,
              "version_major": 2
            },
            "text/plain": [
              "HBox(children=(HTML(value='Export report to file'), FloatProgress(value=0.0, max=1.0), HTML(value='')))"
            ]
          },
          "metadata": {
            "tags": []
          }
        },
        {
          "output_type": "stream",
          "text": [
            "\n"
          ],
          "name": "stdout"
        }
      ]
    },
    {
      "cell_type": "code",
      "metadata": {
        "colab": {
          "base_uri": "https://localhost:8080/",
          "height": 180
        },
        "id": "jTwPgZ3iwVKa",
        "outputId": "38cb8c30-3a8e-4e4c-fbbb-3d34098321b1"
      },
      "source": [
        "def null_values(df):\r\n",
        "        mis_val = df.isnull().sum()\r\n",
        "        mis_val_percent = 100 * df.isnull().sum() / len(df)\r\n",
        "        mis_val_table = pd.concat([mis_val, mis_val_percent], axis=1)\r\n",
        "        mis_val_table_ren_columns = mis_val_table.rename(\r\n",
        "        columns = {0 : 'Missing Values', 1 : '% of Total Values'})\r\n",
        "        mis_val_table_ren_columns = mis_val_table_ren_columns[\r\n",
        "            mis_val_table_ren_columns.iloc[:,1] != 0].sort_values(\r\n",
        "        '% of Total Values', ascending=False).round(1)\r\n",
        "        print (\"Dataframe has \" + str(df.shape[1]) + \" columns.\\n\"      \r\n",
        "            \"There are \" + str(mis_val_table_ren_columns.shape[0]) +\r\n",
        "              \" columns that have missing values.\")\r\n",
        "        return mis_val_table_ren_columns\r\n",
        "\r\n",
        "\r\n",
        "\r\n",
        "# Missing values statistics\r\n",
        "miss_values = null_values(df)\r\n",
        "miss_values.head(10)"
      ],
      "execution_count": 8,
      "outputs": [
        {
          "output_type": "stream",
          "text": [
            "Dataframe has 45 columns.\n",
            "There are 3 columns that have missing values.\n"
          ],
          "name": "stdout"
        },
        {
          "output_type": "execute_result",
          "data": {
            "text/html": [
              "<div>\n",
              "<style scoped>\n",
              "    .dataframe tbody tr th:only-of-type {\n",
              "        vertical-align: middle;\n",
              "    }\n",
              "\n",
              "    .dataframe tbody tr th {\n",
              "        vertical-align: top;\n",
              "    }\n",
              "\n",
              "    .dataframe thead th {\n",
              "        text-align: right;\n",
              "    }\n",
              "</style>\n",
              "<table border=\"1\" class=\"dataframe\">\n",
              "  <thead>\n",
              "    <tr style=\"text-align: right;\">\n",
              "      <th></th>\n",
              "      <th>Missing Values</th>\n",
              "      <th>% of Total Values</th>\n",
              "    </tr>\n",
              "  </thead>\n",
              "  <tbody>\n",
              "    <tr>\n",
              "      <th>INDICADOR RENDIMIENTO BRP % PROMEDIO</th>\n",
              "      <td>352</td>\n",
              "      <td>100.0</td>\n",
              "    </tr>\n",
              "    <tr>\n",
              "      <th>Valor recepción ideal</th>\n",
              "      <td>352</td>\n",
              "      <td>100.0</td>\n",
              "    </tr>\n",
              "    <tr>\n",
              "      <th>Porcentaje sugerido</th>\n",
              "      <td>352</td>\n",
              "      <td>100.0</td>\n",
              "    </tr>\n",
              "  </tbody>\n",
              "</table>\n",
              "</div>"
            ],
            "text/plain": [
              "                                      Missing Values  % of Total Values\n",
              "INDICADOR RENDIMIENTO BRP % PROMEDIO             352              100.0\n",
              "Valor recepción ideal                            352              100.0\n",
              "Porcentaje sugerido                              352              100.0"
            ]
          },
          "metadata": {
            "tags": []
          },
          "execution_count": 8
        }
      ]
    },
    {
      "cell_type": "code",
      "metadata": {
        "id": "TFOwdN6u3pAP"
      },
      "source": [
        "temp = [i for i in df.count()<df.shape[0] *0.05]\r\n",
        "df.drop(df.columns[temp],axis=1,inplace=True)"
      ],
      "execution_count": 9,
      "outputs": []
    },
    {
      "cell_type": "code",
      "metadata": {
        "colab": {
          "base_uri": "https://localhost:8080/"
        },
        "id": "-vnlP0jVM2a_",
        "outputId": "b4b71a25-de95-4949-f6eb-ddcfed9d28a1"
      },
      "source": [
        "df.columns"
      ],
      "execution_count": 10,
      "outputs": [
        {
          "output_type": "execute_result",
          "data": {
            "text/plain": [
              "Index(['NIBP', 'Sucursal', 'Año venta', 'Mes venta', 'Valor venta',\n",
              "       'VF a 2019(Vr venta)', 'VF a 2020(Vr venta)', 'Banca',\n",
              "       'Tipo de Bien Dir', 'Tipificación', 'TIPO BIEN', 'VALOR RECIBIDO',\n",
              "       'VF a 2017(Vr recibido)', 'VF a 2018(Vr recibido)',\n",
              "       'VF a 2019(Vr recibido)', 'VF a 2020(Vr recibido)', 'Pérdida/Ganancia',\n",
              "       'Fecha cubo 2', 'Fecha cubo 5', 'AÑO cubo 2', 'PRIMER AVALÚO',\n",
              "       'VF a 2017(1er avalúo)', 'VF a 2018(1er avalúo)',\n",
              "       'VF a 2019(1er avalúo)', 'VF a 2020(1er avalúo)',\n",
              "       'Meses en Contabilidad', 'Gastos 2018', 'VF Gastos 2018 (a 2019)',\n",
              "       'VF Gastos 2018 (a 2020)', 'Gastos 2019', 'VF Gastos 2019 (a 2020)',\n",
              "       'Gastos 2020', 'Total Gastos', 'Indicador', '% recibido sobre avalúo',\n",
              "       'Variación VF: Vr recibido vs. Vr venta',\n",
              "       'Variación VF: Vr 1er avalúo vs. Vr recibido', 'IPV 2016', 'IPV 2017',\n",
              "       'IPV 2018', 'IPV 2019',\n",
              "       'Porcentaje promedio histórico vr recibido / avalúo'],\n",
              "      dtype='object')"
            ]
          },
          "metadata": {
            "tags": []
          },
          "execution_count": 10
        }
      ]
    },
    {
      "cell_type": "code",
      "metadata": {
        "id": "VheJnvZVCKGu"
      },
      "source": [
        "df['Fecha cubo 2']=pd.to_datetime(df['Fecha cubo 2'])\r\n",
        "df['Fecha cubo 5']=pd.to_datetime(df['Fecha cubo 5'])\r\n",
        "def delta_fecha(x,y):\r\n",
        "  z=y-x\r\n",
        "  return z\r\n",
        "df['fecha_en_contabilidad']=df.apply(lambda x: delta_fecha(x['Fecha cubo 2'],x['Fecha cubo 5']),axis=1)\r\n",
        "df['dias_contabilidad']=df['fecha_en_contabilidad'].apply(lambda x: x.days)\r\n",
        "df=df.drop(['IPV 2016','IPV 2017', 'IPV 2018','IPV 2019', 'IPV 2019', 'fecha_en_contabilidad'],axis=1)"
      ],
      "execution_count": 11,
      "outputs": []
    },
    {
      "cell_type": "markdown",
      "metadata": {
        "id": "oxAoIjRvdIkW"
      },
      "source": [
        "Correlaciones"
      ]
    },
    {
      "cell_type": "code",
      "metadata": {
        "colab": {
          "base_uri": "https://localhost:8080/",
          "height": 1000
        },
        "id": "yu8OlLvadLA9",
        "outputId": "267fb396-d97c-4d3b-b01b-454690f2620f"
      },
      "source": [
        "f = plt.figure(figsize=(30, 35))\r\n",
        "corrMatrix = df.corr()\r\n",
        "sns.heatmap(corrMatrix, annot=True)\r\n",
        "plt.show()"
      ],
      "execution_count": 12,
      "outputs": [
        {
          "output_type": "display_data",
          "data": {
            "image/png": "[encoded data removed]",
            "text/plain": [
              "<Figure size 2160x2520 with 2 Axes>"
            ]
          },
          "metadata": {
            "tags": [],
            "needs_background": "light"
          }
        }
      ]
    },
    {
      "cell_type": "markdown",
      "metadata": {
        "id": "71yC4dz2aXzY"
      },
      "source": [
        "Selección de los valores reales para tomar las features"
      ]
    },
    {
      "cell_type": "code",
      "metadata": {
        "id": "VTO87IxmaWE1"
      },
      "source": [
        "def replace_valores(a,b,c,d,e):\r\n",
        "  if (a==0) and (b!=0):\r\n",
        "    a=b\r\n",
        "    return a\r\n",
        "  if (a==0) and (b==0) and (c!=0):\r\n",
        "    a=c\r\n",
        "    return a\r\n",
        "  if (a==0) and (b==0) and (c==0) and (d!=0):\r\n",
        "    a=d\r\n",
        "    return d\r\n",
        "  if (a==0) and (b==0) and (c==0) and (d==0) and (e!=0):\r\n",
        "    a=e\r\n",
        "    return a\r\n",
        "  else:\r\n",
        "    return a\r\n"
      ],
      "execution_count": 13,
      "outputs": []
    },
    {
      "cell_type": "code",
      "metadata": {
        "id": "cRuQ7vxcew-_"
      },
      "source": [
        "df['VALOR_RECIBIDO_REAL']=df.apply(lambda x: replace_valores(x['VALOR RECIBIDO'], x['VF a 2017(Vr recibido)'], x['VF a 2018(Vr recibido)'], x['VF a 2019(Vr recibido)'], x['VF a 2020(Vr recibido)']), axis=1)\r\n",
        "df['AVALUO_REAL']=df.apply(lambda x: replace_valores(x['PRIMER AVALÚO'], x['VF a 2017(1er avalúo)'], x['VF a 2018(1er avalúo)'], x['VF a 2019(1er avalúo)'], x['VF a 2020(1er avalúo)']), axis=1)\r\n",
        "df['GASTOS_REAL']=df['Gastos 2018']+df['Gastos 2019']+ df['Gastos 2020']\r\n",
        "df['perdida_ganancia']=df['Valor venta']-df['VALOR_RECIBIDO_REAL']\r\n",
        "df['indicador']=(df['Valor venta']-df['GASTOS_REAL'])/df['VALOR_RECIBIDO_REAL']\r\n",
        "df['indicador']=df['indicador'].apply(lambda x: round(x,2))\r\n",
        "df['genera_ganancia']=df['indicador'].apply(lambda x: 1 if x >=0.95 else 0)"
      ],
      "execution_count": 14,
      "outputs": []
    },
    {
      "cell_type": "markdown",
      "metadata": {
        "id": "l4tUDj09dRqp"
      },
      "source": [
        "Eliminar datos muy correlacionados"
      ]
    },
    {
      "cell_type": "code",
      "metadata": {
        "id": "ZUsPmOu3dT1H"
      },
      "source": [
        "lista_columns=['Año venta','VF Gastos 2018 (a 2020)', 'VF a 2019(Vr venta)', 'VF a 2020(Vr venta)', 'TIPO BIEN', 'VALOR RECIBIDO', 'VF a 2017(Vr recibido)', 'VF a 2018(Vr recibido)' , 'VF a 2019(Vr recibido)', 'VF a 2020(Vr recibido)', 'Pérdida/Ganancia', 'PRIMER AVALÚO', 'VF a 2017(1er avalúo)', 'VF a 2018(1er avalúo)', 'VF a 2019(1er avalúo)', 'VF a 2020(1er avalúo)', 'Gastos 2018', 'VF Gastos 2018 (a 2019)', 'VF Gastos 2019 (a 2020)', 'Gastos 2019', 'VF Gastos 2019 (a 2020)', 'Gastos 2020', 'Total Gastos', 'Indicador', '% recibido sobre avalúo', 'Variación VF: Vr recibido vs. Vr venta', 'Variación VF: Vr 1er avalúo vs. Vr recibido', 'Porcentaje promedio histórico vr recibido / avalúo' ]\r\n",
        "df=df.drop(lista_columns, axis=1)"
      ],
      "execution_count": 15,
      "outputs": []
    },
    {
      "cell_type": "markdown",
      "metadata": {
        "id": "iErEx-2sdYxj"
      },
      "source": [
        "Análisis de las variables de interés"
      ]
    },
    {
      "cell_type": "code",
      "metadata": {
        "colab": {
          "base_uri": "https://localhost:8080/",
          "height": 324
        },
        "id": "FZdlXJTodaMQ",
        "outputId": "563de30a-0a9d-4bca-ab26-79786ebaf215"
      },
      "source": [
        "sns.set_context(\"talk\")\r\n",
        "\r\n",
        "fig, ax = plt.subplots(2, 2, figsize=(50,15))\r\n",
        "\r\n",
        "valor_venta= df[\"Valor venta\"].values\r\n",
        "valor_recibido = df[\"VALOR_RECIBIDO_REAL\"].values\r\n",
        "valor_avaluo = df[\"AVALUO_REAL\"].values\r\n",
        "total_gastos =df[\"GASTOS_REAL\"].values\r\n",
        "\r\n",
        "\r\n",
        "sns.histplot(valor_venta, ax=ax[0,0], color=\"#F7522F\")\r\n",
        "ax[0,0].set_title(\"VF Valor de la venta a 2020\", fontsize=14)\r\n",
        "sns.histplot(valor_recibido, ax=ax[0,1], color=\"#2F8FF7\")\r\n",
        "ax[0,1].set_title(\"VF Valor recibido a 2020\", fontsize=14)\r\n",
        "sns.histplot(valor_avaluo, ax=ax[1,0], color=\"#2EAD46\")\r\n",
        "ax[1,0].set_title(\"VF valor avalúo a 2020\", fontsize=14)\r\n",
        "sns.histplot(total_gastos, ax=ax[1,1], color=\"#2EAD46\")\r\n",
        "ax[1,1].set_title(\"VF total gastos a 2020\", fontsize=14);"
      ],
      "execution_count": 16,
      "outputs": [
        {
          "output_type": "display_data",
          "data": {
            "image/png": "[encoded data removed]",
            "text/plain": [
              "<Figure size 3600x1080 with 4 Axes>"
            ]
          },
          "metadata": {
            "tags": [],
            "needs_background": "light"
          }
        }
      ]
    },
    {
      "cell_type": "code",
      "metadata": {
        "colab": {
          "base_uri": "https://localhost:8080/",
          "height": 1000
        },
        "id": "UxjGqyR4da3-",
        "outputId": "56c77ade-ddee-40ba-d92f-cb776122418c"
      },
      "source": [
        "df['años_venta']=df['Meses en Contabilidad'].apply(lambda x: round(x/12,0))\r\n",
        "fig, ax=plt.subplots(4,1, figsize=(20,30))\r\n",
        "sns.boxplot(y=\"Valor venta\", x='años_venta', data=df, ax=ax[0]).set_yscale('log')\r\n",
        "ax[0].set_xlabel(' ')\r\n",
        "sns.boxplot(y='VALOR_RECIBIDO_REAL', x ='años_venta', data = df, ax=ax[1]).set_yscale('log')\r\n",
        "ax[1].set_ylabel('Valor recibido')\r\n",
        "ax[1].set_xlabel(' ')\r\n",
        "sns.boxplot(y='AVALUO_REAL', x='años_venta', data=df, ax=ax[2]).set_yscale('log')\r\n",
        "ax[2].set_ylabel('Valor avalúo')\r\n",
        "ax[2].set_xlabel(' ')\r\n",
        "sns.boxplot(y='GASTOS_REAL', x='años_venta', data=df, ax=ax[3]).set_yscale('log')\r\n",
        "ax[3].set_xlabel('tiempo en contabilidad en años')\r\n",
        "ax[3].set_ylabel('Total gastos')"
      ],
      "execution_count": 17,
      "outputs": [
        {
          "output_type": "execute_result",
          "data": {
            "text/plain": [
              "Text(0, 0.5, 'Total gastos')"
            ]
          },
          "metadata": {
            "tags": []
          },
          "execution_count": 17
        },
        {
          "output_type": "display_data",
          "data": {
            "image/png": "[encoded data removed]",
            "text/plain": [
              "<Figure size 1440x2160 with 4 Axes>"
            ]
          },
          "metadata": {
            "tags": [],
            "needs_background": "light"
          }
        }
      ]
    },
    {
      "cell_type": "markdown",
      "metadata": {
        "id": "w65nVjYvRDIm"
      },
      "source": [
        "Verificación de cantidades"
      ]
    },
    {
      "cell_type": "code",
      "metadata": {
        "colab": {
          "base_uri": "https://localhost:8080/"
        },
        "id": "943mTvXhggib",
        "outputId": "42563423-3fab-4892-bac9-285fbc7cca25"
      },
      "source": [
        "df['Tipo de Bien Dir'].value_counts()"
      ],
      "execution_count": 18,
      "outputs": [
        {
          "output_type": "execute_result",
          "data": {
            "text/plain": [
              "Apartamento    173\n",
              "Casa           141\n",
              "Bodega          11\n",
              "Lote             7\n",
              "Local            6\n",
              "Finca            4\n",
              "Parqueadero      4\n",
              "Oficina          4\n",
              "Depósito         1\n",
              "Edificio         1\n",
              "Name: Tipo de Bien Dir, dtype: int64"
            ]
          },
          "metadata": {
            "tags": []
          },
          "execution_count": 18
        }
      ]
    },
    {
      "cell_type": "code",
      "metadata": {
        "id": "ljk72EbgGMKP"
      },
      "source": [
        "def agrupacion_tipo_bien(x):\r\n",
        "  if  (x=='Depósito') | (x=='Edificio'):#(x=='Bodega')| | (x=='Finca') | (x=='Oficina') | (x=='Parqueadero') | (x=='Local')| (x=='Lote'):\r\n",
        "    return 'Otros'\r\n",
        "  else: \r\n",
        "    return x\r\n",
        "def agrupacion_regional(x):\r\n",
        "  if  ('San Andrés' in x) | ('Atlántico' in x) | ('Bolívar' in x) | ('Cesar' in x) | ('La Guajira' in x) | ('Magdalena' in x) | ('Córdoba' in x) | ('Sucre' in x) | ('Quindío' in x):\r\n",
        "    return 'Región Norte'\r\n",
        "  if ('Santander' in x) | ('Norte de Santander' in x):\r\n",
        "    return 'Región Nororiental'\r\n",
        "  if ('Arauca' in x) | ('Vichada' in x) | ('Casanare' in x) | ('Meta' in x):\r\n",
        "    return 'Región Oriental'\r\n",
        "  if ('Bogotá' in x) | ('Cundinamarca' in x) | ('Tolima' in x) | ('Huila' in x) | ('Boyacá' in x):\r\n",
        "    return 'Región Central'\r\n",
        "  if ('Cauca' in x) | ('Valle' in x)| ('Nariño' in x) | ('Choco' in x):\r\n",
        "    return 'Región Occidental'\r\n",
        "  if ('Caldas' in x) | ('Antioquia' in x) | ('Quindío' in x) | ('Risaralda' in x):\r\n",
        "    return 'Región Noroccidental'\r\n",
        "  if ('Cáqueta' in x) | ('Putumayo' in x) | ('Amazonas' in x)  | ('Vaupés' in x) | ('Guaviare' in x) | ('Guainía' in x):\r\n",
        "    return 'Región Suroriental'\r\n",
        "  else: \r\n",
        "    return x"
      ],
      "execution_count": 19,
      "outputs": []
    },
    {
      "cell_type": "code",
      "metadata": {
        "colab": {
          "base_uri": "https://localhost:8080/",
          "height": 401
        },
        "id": "Jc0sxMEsRFAk",
        "outputId": "550aa826-fb34-4f06-8cf1-d3b58c0e8cfa"
      },
      "source": [
        "df=df.applymap(lambda x: x.strip( ) if type(x)==str else x)\r\n",
        "sns.set_context(\"notebook\")\r\n",
        "pd.DataFrame(df['Tipo de Bien Dir'].value_counts()).plot(kind='bar')\r\n",
        "plt.ylabel('Cantidad de Inmuebles')\r\n",
        "plt.title('Cantidad de inmuebles por tipo');"
      ],
      "execution_count": 20,
      "outputs": [
        {
          "output_type": "display_data",
          "data": {
            "image/png": "[encoded data removed]",
            "text/plain": [
              "<Figure size 720x360 with 1 Axes>"
            ]
          },
          "metadata": {
            "tags": [],
            "needs_background": "light"
          }
        }
      ]
    },
    {
      "cell_type": "code",
      "metadata": {
        "colab": {
          "base_uri": "https://localhost:8080/",
          "height": 472
        },
        "id": "e2NJqcppaa2i",
        "outputId": "1cfa47ac-6ec1-4930-b333-82d3991a8e95"
      },
      "source": [
        "pd.DataFrame(df['Sucursal'].value_counts()).plot(kind='bar')\r\n",
        "plt.ylabel('Cantidad de Sucursal')\r\n",
        "plt.title('Cantidad de inmuebles por tipo Sucursal');"
      ],
      "execution_count": 21,
      "outputs": [
        {
          "output_type": "display_data",
          "data": {
            "image/png": "[encoded data removed]",
            "text/plain": [
              "<Figure size 720x360 with 1 Axes>"
            ]
          },
          "metadata": {
            "tags": [],
            "needs_background": "light"
          }
        }
      ]
    },
    {
      "cell_type": "code",
      "metadata": {
        "colab": {
          "base_uri": "https://localhost:8080/",
          "height": 411
        },
        "id": "DdRauxymSYw7",
        "outputId": "96902aef-0f92-4fc5-8584-2ac32878b8e9"
      },
      "source": [
        "pd.DataFrame(df['Banca'].value_counts()).plot(kind='bar')\r\n",
        "plt.ylabel('Cantidad de Inmuebles')\r\n",
        "plt.title('Cantidad de inmuebles por tipo');"
      ],
      "execution_count": 22,
      "outputs": [
        {
          "output_type": "display_data",
          "data": {
            "image/png": "[encoded data removed]",
            "text/plain": [
              "<Figure size 720x360 with 1 Axes>"
            ]
          },
          "metadata": {
            "tags": [],
            "needs_background": "light"
          }
        }
      ]
    },
    {
      "cell_type": "markdown",
      "metadata": {
        "id": "cruNSFGrFr46"
      },
      "source": [
        "Agrupación de datos"
      ]
    },
    {
      "cell_type": "code",
      "metadata": {
        "id": "YjQNv540FuQe"
      },
      "source": [
        "df['Regional']=df['Sucursal'].apply(lambda x: agrupacion_regional(x))\r\n",
        "df['Tipo de Bien Dir']=df['Tipo de Bien Dir'].apply(lambda x: agrupacion_tipo_bien(x))\r\n",
        "df['Banca']=df.Banca.replace('Pyme', 'Unidad Activos')"
      ],
      "execution_count": 23,
      "outputs": []
    },
    {
      "cell_type": "code",
      "metadata": {
        "id": "AsgFz45yTgtJ"
      },
      "source": [
        "df=df.drop(['Sucursal'], axis=1)"
      ],
      "execution_count": 24,
      "outputs": []
    },
    {
      "cell_type": "code",
      "metadata": {
        "id": "_zisTS1newsO"
      },
      "source": [
        "df['AÑO cubo 5']=df['Fecha cubo 5'].apply(lambda x: x.year)"
      ],
      "execution_count": 25,
      "outputs": []
    },
    {
      "cell_type": "markdown",
      "metadata": {
        "id": "6TafblgS2bqX"
      },
      "source": [
        "Creación de nuevas variables"
      ]
    },
    {
      "cell_type": "code",
      "metadata": {
        "id": "pv0ZfRQP2e5Z"
      },
      "source": [
        "df['venta_2017']=df['AÑO cubo 5'].apply(lambda x: 1 if x==2017 else 0)\r\n",
        "df['venta_2018']=df['AÑO cubo 5'].apply(lambda x: 1 if x==2018 else 0)\r\n",
        "df['venta_2019']=df['AÑO cubo 5'].apply(lambda x: 1 if x==2019 else 0)\r\n",
        "df['venta_2020']=df['AÑO cubo 5'].apply(lambda x: 1 if x==2020 else 0)"
      ],
      "execution_count": 26,
      "outputs": []
    },
    {
      "cell_type": "code",
      "metadata": {
        "id": "RfVqNBQ-HOrx"
      },
      "source": [
        "def semanas_periodo_tiempo(week, year):\r\n",
        "  if year==2016:\r\n",
        "    return week\r\n",
        "  if year==2017:\r\n",
        "\r\n",
        "    week=week+52\r\n",
        "    return week\r\n",
        "  if year==2018:\r\n",
        "    \r\n",
        "    week=week+104\r\n",
        "    return week\r\n",
        "  if year==2019:\r\n",
        "\r\n",
        "    week=week+156\r\n",
        "    return week\r\n",
        "  if year==2020:\r\n",
        "    \r\n",
        "    week=week+208\r\n",
        "    return week"
      ],
      "execution_count": 27,
      "outputs": []
    },
    {
      "cell_type": "code",
      "metadata": {
        "id": "8z9MA3ewHSQI"
      },
      "source": [
        "df['week_cubo2']=df['Fecha cubo 2'].apply(lambda x: x.week)\r\n",
        "df['week_cubo5']=df['Fecha cubo 5'].apply(lambda x: x.week)"
      ],
      "execution_count": 28,
      "outputs": []
    },
    {
      "cell_type": "code",
      "metadata": {
        "id": "VQo_-DWjHdYc"
      },
      "source": [
        "df['weeks']=df.apply(lambda x: semanas_periodo_tiempo(x['week_cubo2'],x['AÑO cubo 2']),axis=1)\r\n",
        "df['weeks_evento']=df.apply(lambda x: semanas_periodo_tiempo(x['week_cubo5'],x['AÑO cubo 5']),axis=1)"
      ],
      "execution_count": 29,
      "outputs": []
    },
    {
      "cell_type": "markdown",
      "metadata": {
        "id": "cFDw2YME24Vz"
      },
      "source": [
        "#Curvas de supervivencia por año"
      ]
    },
    {
      "cell_type": "markdown",
      "metadata": {
        "id": "NeXNBwvmE8S5"
      },
      "source": [
        "Funciones auxiliares para realizar las curvas de supervivencia"
      ]
    },
    {
      "cell_type": "code",
      "metadata": {
        "id": "Y7eBe5y6-_sf"
      },
      "source": [
        "def group_year(year, df):\r\n",
        "  if (year==2016) | (year==2017):\r\n",
        "    df=df[(df['AÑO cubo 2']==2016) | ((df['AÑO cubo 2']==2017))]\r\n",
        "    return df\r\n",
        "  if year==2018:\r\n",
        "    df=df[df['AÑO cubo 2']==year]\r\n",
        "    return df\r\n",
        "  if year==2019:\r\n",
        "    df=df[df['AÑO cubo 2']==year]\r\n",
        "    return df\r\n",
        "  if year==2020:\r\n",
        "    df=df[df['AÑO cubo 2']==year ]\r\n",
        "    return df\r\n",
        "\r\n",
        "######################################--------------------------------------#########################################################\r\n",
        "def fit_regular_kmf(df, year,sell_year):\r\n",
        "  kmf = KaplanMeierFitter()\r\n",
        "\r\n",
        "  if ((year==2017) and (sell_year=='venta_2017'))| ((year==2018) and (sell_year=='venta_2018')) | ((year==2019) and (sell_year=='venta_2019')) | ((year==2020) and (sell_year=='venta_2020')):\r\n",
        "    kmf.fit(durations=group_year(year,df)['weeks_evento'], event_observed=group_year(year,df)[sell_year])\r\n",
        "    return kmf\r\n",
        "\r\n",
        "  if (year==2017) and (sell_year=='venta_2018'):\r\n",
        "    kmf.fit(durations=group_year(year,df)[group_year(year,df)['venta_2017']==0]['weeks_evento'], event_observed=group_year(year,df)[group_year(year,df)['venta_2017']==0][sell_year])\r\n",
        "    return kmf\r\n",
        "  \r\n",
        "  if (year==2017) and (sell_year=='venta_2019'):\r\n",
        "    kmf.fit(durations=group_year(year,df)[(group_year(year,df)['venta_2018']==0)& (group_year(year,df)['venta_2017']==0)]['weeks_evento'], event_observed=group_year(year,df)[(group_year(year,df)['venta_2018']==0) & (group_year(year,df)['venta_2017']==0)][sell_year])\r\n",
        "    return kmf\r\n",
        "  \r\n",
        "  if ((year==2017) and (sell_year=='venta_2020')):\r\n",
        "    kmf.fit(durations=group_year(year,df)[(group_year(year,df)['venta_2019']==0) & (group_year(year,df)['venta_2018']==0) & (group_year(year,df)['venta_2017']==0)]['weeks_evento'], event_observed=group_year(year,df)[(group_year(year,df)['venta_2019']==0) & (group_year(year,df)['venta_2018']==0) & (group_year(year,df)['venta_2017']==0)][sell_year])\r\n",
        "    return kmf\r\n",
        "  \r\n",
        "  if (year==2018) and (sell_year=='venta_2019'):\r\n",
        "    kmf.fit(durations=group_year(year,df)[group_year(year,df)['venta_2018']==0]['weeks_evento'], event_observed=group_year(year,df)[group_year(year,df)['venta_2018']==0][sell_year])\r\n",
        "    return kmf\r\n",
        "    \r\n",
        "  if (year==2018) and (sell_year=='venta_2020'):\r\n",
        "    kmf.fit(durations=group_year(year,df)[(group_year(year,df)['venta_2019']==0)& (group_year(year,df)['venta_2018']==0)]['weeks_evento'], event_observed=group_year(year,df)[(group_year(year,df)['venta_2019']==0)&(group_year(year,df)['venta_2018']==0)][sell_year])\r\n",
        "    return kmf\r\n",
        "\r\n",
        "  if (year==2019) and (sell_year=='venta_2020'):\r\n",
        "    kmf.fit(durations=group_year(year,df)[group_year(year,df)['venta_2019']==0]['weeks_evento'], event_observed=group_year(year,df)[group_year(year,df)['venta_2019']==0][sell_year])\r\n",
        "    return kmf\r\n",
        "\r\n"
      ],
      "execution_count": 30,
      "outputs": []
    },
    {
      "cell_type": "markdown",
      "metadata": {
        "id": "XN4elZ2B0uEN"
      },
      "source": [
        "Manera corta de agrupación por categoría"
      ]
    },
    {
      "cell_type": "code",
      "metadata": {
        "id": "cbHGz5gR0xwn"
      },
      "source": [
        "\r\n",
        "def categoria_func(año,week_start, week_end,var_group, df,año_i):\r\n",
        "   sns.set_context(\"talk\")\r\n",
        "\r\n",
        "   if (año_i==2016) | (año_i==2017):\r\n",
        "      df=df[(df['AÑO cubo 2']==2016) | (df['AÑO cubo 2']==2017)]\r\n",
        "      df0=df[['weeks_evento',var_group]]\r\n",
        "      df0['evento']=1\r\n",
        "      df0=df0.sort_values(by='weeks_evento',ascending=True)\r\n",
        "\r\n",
        "      fig, ax = plt.subplots(figsize=(9.5,6))\r\n",
        "      kmf = KaplanMeierFitter()\r\n",
        "      T =  df0['weeks_evento']\r\n",
        "      E =  df0['evento']\r\n",
        "      \r\n",
        "      for tipo in  df0[var_group].unique():\r\n",
        "        \r\n",
        "          flag =  df0[var_group] == tipo\r\n",
        "          if (len(E[flag])>0) and (len(T[flag]>0)):\r\n",
        "\r\n",
        "            kmf.fit(T[flag], event_observed=E[flag], label=tipo)\r\n",
        "\r\n",
        "            ax.plot(kmf.survival_function_, label=tipo)\r\n",
        "            ax.set_xlim(week_start, week_end)\r\n",
        "            ax.autoscale(axis='y',tight=False)\r\n",
        "            \r\n",
        "            ax.set_title('KMF por'+' '+var_group+' '+'para los Bienes ingresados en el año:'+' '+año)\r\n",
        "            ax.set_xlabel('Semanas de estudio')\r\n",
        "            ax.set_ylabel('Probabilidad(no venta)')\r\n",
        "\r\n",
        "      plotly_fig = tls.mpl_to_plotly(fig, resize=True)\r\n",
        "\r\n",
        "      return plotly_fig\r\n",
        "   \r\n",
        "   elif (año_i==2018) | (año_i==2019) | (año_i==2020):\r\n",
        "    \r\n",
        "      df=df[df['AÑO cubo 2']==año_i]\r\n",
        "      df0=df[['weeks_evento',var_group]]\r\n",
        "      df0['evento']=1\r\n",
        "      df0=df0.sort_values(by='weeks_evento',ascending=True)\r\n",
        "\r\n",
        "      fig, ax = plt.subplots(figsize=(9.5,6))\r\n",
        "      kmf = KaplanMeierFitter()\r\n",
        "      T =  df0['weeks_evento']\r\n",
        "      E =  df0['evento']\r\n",
        "      \r\n",
        "      for tipo in  df0[var_group].unique():\r\n",
        "        \r\n",
        "          flag =  df0[var_group] == tipo\r\n",
        "          if (len(E[flag])>0) and (len(T[flag]>0)):\r\n",
        "\r\n",
        "            kmf.fit(T[flag], event_observed=E[flag], label=tipo)\r\n",
        "\r\n",
        "            ax.plot(kmf.survival_function_, label=tipo)\r\n",
        "            ax.set_xlim(week_start, week_end)\r\n",
        "            ax.autoscale(axis='y',tight=False)\r\n",
        "            \r\n",
        "            ax.set_title('KMF por'+' '+var_group+' '+'para los Bienes ingresados en el año:'+' '+año)\r\n",
        "            ax.set_xlabel('Semanas de estudio')\r\n",
        "            ax.set_ylabel('Probabilidad(no venta)')\r\n",
        "\r\n",
        "      plotly_fig = tls.mpl_to_plotly(fig, resize=True)\r\n",
        "      return plotly_fig\r\n",
        "   \r\n",
        "   elif (año_i!=2016) & (año_i!=2017) & (año_i!=2018) & (año_i!=2019) & (año_i!=2020):\r\n",
        "\r\n",
        "      df0=df\r\n",
        "      df0=df[['weeks_evento',var_group]]\r\n",
        "      df0['evento']=1\r\n",
        "      df0=df0.sort_values(by='weeks_evento',ascending=True)\r\n",
        "\r\n",
        "      fig, ax = plt.subplots(figsize=(15,6.5))\r\n",
        "      kmf = KaplanMeierFitter()\r\n",
        "      T =  df0['weeks_evento']\r\n",
        "      E =  df0['evento']\r\n",
        "      \r\n",
        "      for tipo in  df0[var_group].unique():\r\n",
        "        \r\n",
        "          flag =  df0[var_group] == tipo\r\n",
        "          if (len(E[flag])>0) and (len(T[flag]>0)):\r\n",
        "\r\n",
        "            kmf.fit(T[flag], event_observed=E[flag], label=tipo)\r\n",
        "\r\n",
        "            ax.plot(kmf.survival_function_, label=tipo)\r\n",
        "            ax.set_xlim(week_start, week_end)\r\n",
        "            ax.autoscale(axis='y',tight=False)\r\n",
        "            \r\n",
        "            ax.set_title('KMF por'+' '+var_group+' '+'para los Bienes ingresados entre los años:'+' '+año)\r\n",
        "            ax.set_xlabel('Semanas de estudio')\r\n",
        "            ax.set_ylabel('Probabilidad(no venta)')\r\n",
        "\r\n",
        "      plotly_fig = tls.mpl_to_plotly(fig, resize=True)\r\n",
        "\r\n",
        "\r\n",
        "      return plotly_fig"
      ],
      "execution_count": 118,
      "outputs": []
    },
    {
      "cell_type": "code",
      "metadata": {
        "id": "42PiwAhy0xoa",
        "colab": {
          "base_uri": "https://localhost:8080/"
        },
        "outputId": "52f4d1be-d26e-4f90-8dc8-cf2f037f5397"
      },
      "source": [
        "dic_fig_2017_region={}\r\n",
        "lista_scale=[(0,104),(104,156),(156,208),(209,260)]\r\n",
        "labels_2017=['kmf_2017_1','kmf_2017_2','kmf_2017_3','kmf_2017_4']\r\n",
        "k=0\r\n",
        "for i in labels_2017:\r\n",
        "  dic_fig_2017_region[i]=categoria_func('2016 y 2017',lista_scale[k][0],lista_scale[k][1],'Regional',df,2017)\r\n",
        "  k=k+1\r\n",
        "\r\n",
        "dic_fig_2017_inmueble={}\r\n",
        "lista_scale=[(0,104),(104,156),(156,208),(209,260)]\r\n",
        "labels_2017=['kmf_2017_1','kmf_2017_2','kmf_2017_3','kmf_2017_4']\r\n",
        "k=0\r\n",
        "for i in labels_2017:\r\n",
        "  dic_fig_2017_inmueble[i]=categoria_func('2016 y 2017',lista_scale[k][0],lista_scale[k][1],'Tipificación',df,2017)\r\n",
        "  k=k+1\r\n"
      ],
      "execution_count": 119,
      "outputs": [
        {
          "output_type": "stream",
          "text": [
            "/usr/local/lib/python3.6/dist-packages/ipykernel_launcher.py:8: SettingWithCopyWarning:\n",
            "\n",
            "\n",
            "A value is trying to be set on a copy of a slice from a DataFrame.\n",
            "Try using .loc[row_indexer,col_indexer] = value instead\n",
            "\n",
            "See the caveats in the documentation: https://pandas.pydata.org/pandas-docs/stable/user_guide/indexing.html#returning-a-view-versus-a-copy\n",
            "\n",
            "/usr/local/lib/python3.6/dist-packages/plotly/matplotlylib/mpltools.py:368: MatplotlibDeprecationWarning:\n",
            "\n",
            "\n",
            "The is_frame_like function was deprecated in Matplotlib 3.1 and will be removed in 3.3.\n",
            "\n",
            "/usr/local/lib/python3.6/dist-packages/ipykernel_launcher.py:8: SettingWithCopyWarning:\n",
            "\n",
            "\n",
            "A value is trying to be set on a copy of a slice from a DataFrame.\n",
            "Try using .loc[row_indexer,col_indexer] = value instead\n",
            "\n",
            "See the caveats in the documentation: https://pandas.pydata.org/pandas-docs/stable/user_guide/indexing.html#returning-a-view-versus-a-copy\n",
            "\n",
            "/usr/local/lib/python3.6/dist-packages/plotly/matplotlylib/mpltools.py:368: MatplotlibDeprecationWarning:\n",
            "\n",
            "\n",
            "The is_frame_like function was deprecated in Matplotlib 3.1 and will be removed in 3.3.\n",
            "\n",
            "/usr/local/lib/python3.6/dist-packages/ipykernel_launcher.py:8: SettingWithCopyWarning:\n",
            "\n",
            "\n",
            "A value is trying to be set on a copy of a slice from a DataFrame.\n",
            "Try using .loc[row_indexer,col_indexer] = value instead\n",
            "\n",
            "See the caveats in the documentation: https://pandas.pydata.org/pandas-docs/stable/user_guide/indexing.html#returning-a-view-versus-a-copy\n",
            "\n",
            "/usr/local/lib/python3.6/dist-packages/plotly/matplotlylib/mpltools.py:368: MatplotlibDeprecationWarning:\n",
            "\n",
            "\n",
            "The is_frame_like function was deprecated in Matplotlib 3.1 and will be removed in 3.3.\n",
            "\n",
            "/usr/local/lib/python3.6/dist-packages/ipykernel_launcher.py:8: SettingWithCopyWarning:\n",
            "\n",
            "\n",
            "A value is trying to be set on a copy of a slice from a DataFrame.\n",
            "Try using .loc[row_indexer,col_indexer] = value instead\n",
            "\n",
            "See the caveats in the documentation: https://pandas.pydata.org/pandas-docs/stable/user_guide/indexing.html#returning-a-view-versus-a-copy\n",
            "\n",
            "/usr/local/lib/python3.6/dist-packages/plotly/matplotlylib/mpltools.py:368: MatplotlibDeprecationWarning:\n",
            "\n",
            "\n",
            "The is_frame_like function was deprecated in Matplotlib 3.1 and will be removed in 3.3.\n",
            "\n",
            "/usr/local/lib/python3.6/dist-packages/ipykernel_launcher.py:8: SettingWithCopyWarning:\n",
            "\n",
            "\n",
            "A value is trying to be set on a copy of a slice from a DataFrame.\n",
            "Try using .loc[row_indexer,col_indexer] = value instead\n",
            "\n",
            "See the caveats in the documentation: https://pandas.pydata.org/pandas-docs/stable/user_guide/indexing.html#returning-a-view-versus-a-copy\n",
            "\n",
            "/usr/local/lib/python3.6/dist-packages/plotly/matplotlylib/mpltools.py:368: MatplotlibDeprecationWarning:\n",
            "\n",
            "\n",
            "The is_frame_like function was deprecated in Matplotlib 3.1 and will be removed in 3.3.\n",
            "\n",
            "/usr/local/lib/python3.6/dist-packages/ipykernel_launcher.py:8: SettingWithCopyWarning:\n",
            "\n",
            "\n",
            "A value is trying to be set on a copy of a slice from a DataFrame.\n",
            "Try using .loc[row_indexer,col_indexer] = value instead\n",
            "\n",
            "See the caveats in the documentation: https://pandas.pydata.org/pandas-docs/stable/user_guide/indexing.html#returning-a-view-versus-a-copy\n",
            "\n",
            "/usr/local/lib/python3.6/dist-packages/plotly/matplotlylib/mpltools.py:368: MatplotlibDeprecationWarning:\n",
            "\n",
            "\n",
            "The is_frame_like function was deprecated in Matplotlib 3.1 and will be removed in 3.3.\n",
            "\n",
            "/usr/local/lib/python3.6/dist-packages/ipykernel_launcher.py:8: SettingWithCopyWarning:\n",
            "\n",
            "\n",
            "A value is trying to be set on a copy of a slice from a DataFrame.\n",
            "Try using .loc[row_indexer,col_indexer] = value instead\n",
            "\n",
            "See the caveats in the documentation: https://pandas.pydata.org/pandas-docs/stable/user_guide/indexing.html#returning-a-view-versus-a-copy\n",
            "\n",
            "/usr/local/lib/python3.6/dist-packages/plotly/matplotlylib/mpltools.py:368: MatplotlibDeprecationWarning:\n",
            "\n",
            "\n",
            "The is_frame_like function was deprecated in Matplotlib 3.1 and will be removed in 3.3.\n",
            "\n",
            "/usr/local/lib/python3.6/dist-packages/ipykernel_launcher.py:8: SettingWithCopyWarning:\n",
            "\n",
            "\n",
            "A value is trying to be set on a copy of a slice from a DataFrame.\n",
            "Try using .loc[row_indexer,col_indexer] = value instead\n",
            "\n",
            "See the caveats in the documentation: https://pandas.pydata.org/pandas-docs/stable/user_guide/indexing.html#returning-a-view-versus-a-copy\n",
            "\n",
            "/usr/local/lib/python3.6/dist-packages/plotly/matplotlylib/mpltools.py:368: MatplotlibDeprecationWarning:\n",
            "\n",
            "\n",
            "The is_frame_like function was deprecated in Matplotlib 3.1 and will be removed in 3.3.\n",
            "\n"
          ],
          "name": "stderr"
        }
      ]
    },
    {
      "cell_type": "code",
      "metadata": {
        "id": "0wQybhZMPzZQ"
      },
      "source": [
        "def plotly_fig(kmf,s , week_start, week_end, prob_anterior):\r\n",
        "  \r\n",
        "  sns.set_context(\"talk\")\r\n",
        "\r\n",
        "  if (s==2016) or (s==2017):\r\n",
        "      fig, ax = plt.subplots(figsize=(9.5,6))\r\n",
        "      y= (kmf.confidence_interval_['KM_estimate_lower_0.95'].values)*prob_anterior\r\n",
        "      y1=(kmf.confidence_interval_['KM_estimate_upper_0.95'].values)*prob_anterior\r\n",
        "      x=kmf.confidence_interval_.index.values\r\n",
        "      ax.plot((kmf.survival_function_)*prob_anterior, label='Estimación kmf')\r\n",
        "      ax.plot((kmf.confidence_interval_)*prob_anterior, alpha=0.3,label='I-confianza')\r\n",
        "      ax.fill_between(x,y, y1, 'lightgrey', alpha=0.1)\r\n",
        "      ax.set_xlim(week_start, week_end)\r\n",
        "      #ax.set_ylim(y_start, y_end)\r\n",
        "      ax.set_title('Estimación KMF para los Bienes ingresados en el año: 2016 y 2017')\r\n",
        "      ax.set_xlabel('Semanas de estudio')\r\n",
        "      ax.set_ylabel('Probabilidad(no venta)')\r\n",
        "      plotly_fig = tls.mpl_to_plotly(fig, resize=True)\r\n",
        "      return plotly_fig\r\n",
        "  \r\n",
        "  if (s==2018) or (s==2019) or (s==2020):\r\n",
        "    fig, ax = plt.subplots(figsize=(9.5,6))\r\n",
        "    y=(kmf.confidence_interval_['KM_estimate_lower_0.95'].values)*prob_anterior\r\n",
        "    y1=(kmf.confidence_interval_['KM_estimate_upper_0.95'].values)*prob_anterior\r\n",
        "    x=(kmf.confidence_interval_.index.values)*prob_anterior\r\n",
        "    ax.plot((kmf.survival_function_)*prob_anterior, label='Estimación kmf')\r\n",
        "    ax.plot((kmf.confidence_interval_)*prob_anterior, alpha=0.3,label='I-confianza')\r\n",
        "    ax.fill_between(x,y, y1, 'lightgrey', alpha=0.1)\r\n",
        "    #ax.set_xlim(week_start, week_end)\r\n",
        "    ax.set_title('Estimación KMF para los Bienes ingresados en el año:'+' '+str(s))\r\n",
        "    ax.set_xlabel('Semanas de estudio')\r\n",
        "    ax.set_xlim(week_start, week_end)\r\n",
        "    #ax.set_ylim(y_start, y_end)\r\n",
        "    ax.set_ylabel('Probabilidad(no venta)')\r\n",
        "    plotly_fig = tls.mpl_to_plotly(fig, resize=True)\r\n",
        "    return plotly_fig\r\n",
        "\r\n",
        "  if type(s)==str:\r\n",
        "    fig, ax = plt.subplots(figsize=(15,6.5))\r\n",
        "    y=(kmf.confidence_interval_['KM_estimate_lower_0.95'].values)*prob_anterior\r\n",
        "    y1=(kmf.confidence_interval_['KM_estimate_upper_0.95'].values)*prob_anterior\r\n",
        "    x=(kmf.confidence_interval_.index.values)*prob_anterior\r\n",
        "    ax.plot((kmf.survival_function_)*prob_anterior, label='Estimación kmf')\r\n",
        "    ax.plot((kmf.confidence_interval_)*prob_anterior, alpha=0.3,label='I-confianza')\r\n",
        "    ax.fill_between(x,y, y1, 'lightgrey', alpha=0.1)\r\n",
        "    #ax.set_xlim(week_start, week_end)\r\n",
        "    ax.set_title('Estimación KMF para los Bienes ingresados entre los años:'+' '+s, loc='center')\r\n",
        "    ax.set_xlabel('Semanas de estudio')\r\n",
        "    ax.set_xlim(week_start, week_end)\r\n",
        "    #ax.set_ylim(y_start, y_end)\r\n",
        "    ax.set_ylabel('Probabilidad(no venta)')\r\n",
        "    plotly_fig = tls.mpl_to_plotly(fig, resize=True)\r\n",
        "    return plotly_fig"
      ],
      "execution_count": 33,
      "outputs": []
    },
    {
      "cell_type": "code",
      "metadata": {
        "colab": {
          "base_uri": "https://localhost:8080/"
        },
        "id": "Jvyfn9WtqPdF",
        "outputId": "8c28da91-5a5f-4973-f52f-f1f13e5081b4"
      },
      "source": [
        "#2017\r\n",
        "sns.set_context(\"talk\")\r\n",
        "\r\n",
        "kmf_2017_1=fit_regular_kmf(df,2017,'venta_2017')\r\n",
        "kmf_2017_2=fit_regular_kmf(df,2017,'venta_2018')\r\n",
        "kmf_2017_3=fit_regular_kmf(df,2017,'venta_2019')\r\n",
        "kmf_2017_4=fit_regular_kmf(df,2017,'venta_2020')\r\n",
        "kmf_2017=[kmf_2017_1,kmf_2017_2,kmf_2017_3,kmf_2017_4]\r\n",
        "labels_2017=['kmf_2017_1','kmf_2017_2','kmf_2017_3','kmf_2017_4']\r\n",
        "prob_anterior=[1, kmf_2017_1.survival_function_.iloc[-1][0],(kmf_2017_2.survival_function_.iloc[-1][0])*(kmf_2017_1.survival_function_.iloc[-1][0]), (kmf_2017_3.survival_function_.iloc[-1][0])*(kmf_2017_2.survival_function_.iloc[-1][0])*(kmf_2017_1.survival_function_.iloc[-1][0])]\r\n",
        "dic_fig_2017={}\r\n",
        "intervalos=[(0,105),(105,158),(157,210), (209,261)]\r\n",
        "j=0\r\n",
        "k=0\r\n",
        "p=0\r\n",
        "for i in labels_2017:\r\n",
        "   dic_fig_2017[i]=plotly_fig(kmf_2017[j],2017,intervalos[k][0],intervalos[k][1],prob_anterior[p])\r\n",
        "   j=j+1\r\n",
        "   k=k+1\r\n",
        "   p=p+1"
      ],
      "execution_count": 117,
      "outputs": [
        {
          "output_type": "stream",
          "text": [
            "/usr/local/lib/python3.6/dist-packages/ipykernel_launcher.py:12: MatplotlibDeprecationWarning:\n",
            "\n",
            "The parameter where must have the same size as x in fill_between(). This will become an error in future versions of Matplotlib.\n",
            "\n",
            "/usr/local/lib/python3.6/dist-packages/plotly/matplotlylib/mpltools.py:368: MatplotlibDeprecationWarning:\n",
            "\n",
            "\n",
            "The is_frame_like function was deprecated in Matplotlib 3.1 and will be removed in 3.3.\n",
            "\n",
            "/usr/local/lib/python3.6/dist-packages/plotly/matplotlylib/renderer.py:474: UserWarning:\n",
            "\n",
            "Dang! That path collection is out of this world. I totally don't know what to do with it yet! Plotly can only import path collections linked to 'data' coordinates\n",
            "\n"
          ],
          "name": "stderr"
        }
      ]
    },
    {
      "cell_type": "code",
      "metadata": {
        "id": "apgKidATt4Hq"
      },
      "source": [
        "dic_tables_2017={}\r\n",
        "k=0\r\n",
        "for i in labels_2017:\r\n",
        "  dic_tables_2017[i]=kmf_2017[k].event_table\r\n",
        "  k=k+1\r\n",
        "\r\n"
      ],
      "execution_count": 35,
      "outputs": []
    },
    {
      "cell_type": "code",
      "metadata": {
        "id": "ns8T-FO_Xm-n"
      },
      "source": [
        "for name, df0 in dic_tables_2017.items():\r\n",
        "  df0.reset_index(inplace=True)\r\n",
        "  dic_tables_2017[name]=df0"
      ],
      "execution_count": 36,
      "outputs": []
    },
    {
      "cell_type": "markdown",
      "metadata": {
        "id": "aprImxw-YJmo"
      },
      "source": [
        "Análisis 2018"
      ]
    },
    {
      "cell_type": "code",
      "metadata": {
        "colab": {
          "base_uri": "https://localhost:8080/"
        },
        "id": "fd5mkJNUYLqX",
        "outputId": "d8e947ff-64ab-4c0d-8b0b-e851c46dddf0"
      },
      "source": [
        "dic_fig_2018_region={}\r\n",
        "lista_scale=[(104,156),(156,208),(209,260)]\r\n",
        "labels_2018=['kmf_2018_1','kmf_2018_2','kmf_2018_3']\r\n",
        "k=0\r\n",
        "for i in labels_2018:\r\n",
        "  dic_fig_2018_region[i]=categoria_func('2018',lista_scale[k][0],lista_scale[k][1],'Regional',df,2018)\r\n",
        "  k=k+1\r\n",
        "\r\n",
        "dic_fig_2018_inmueble={}\r\n",
        "lista_scale=[(104,156),(156,208),(209,260)]\r\n",
        "labels_2018=['kmf_2018_1','kmf_2018_2','kmf_2018_3']\r\n",
        "k=0\r\n",
        "for i in labels_2018:\r\n",
        "  dic_fig_2018_inmueble[i]=categoria_func('2018',lista_scale[k][0],lista_scale[k][1],'Tipificación',df,2018)\r\n",
        "  k=k+1\r\n"
      ],
      "execution_count": 37,
      "outputs": [
        {
          "output_type": "stream",
          "text": [
            "/usr/local/lib/python3.6/dist-packages/ipykernel_launcher.py:38: SettingWithCopyWarning:\n",
            "\n",
            "\n",
            "A value is trying to be set on a copy of a slice from a DataFrame.\n",
            "Try using .loc[row_indexer,col_indexer] = value instead\n",
            "\n",
            "See the caveats in the documentation: https://pandas.pydata.org/pandas-docs/stable/user_guide/indexing.html#returning-a-view-versus-a-copy\n",
            "\n",
            "/usr/local/lib/python3.6/dist-packages/plotly/matplotlylib/mpltools.py:368: MatplotlibDeprecationWarning:\n",
            "\n",
            "\n",
            "The is_frame_like function was deprecated in Matplotlib 3.1 and will be removed in 3.3.\n",
            "\n",
            "/usr/local/lib/python3.6/dist-packages/ipykernel_launcher.py:38: SettingWithCopyWarning:\n",
            "\n",
            "\n",
            "A value is trying to be set on a copy of a slice from a DataFrame.\n",
            "Try using .loc[row_indexer,col_indexer] = value instead\n",
            "\n",
            "See the caveats in the documentation: https://pandas.pydata.org/pandas-docs/stable/user_guide/indexing.html#returning-a-view-versus-a-copy\n",
            "\n",
            "/usr/local/lib/python3.6/dist-packages/plotly/matplotlylib/mpltools.py:368: MatplotlibDeprecationWarning:\n",
            "\n",
            "\n",
            "The is_frame_like function was deprecated in Matplotlib 3.1 and will be removed in 3.3.\n",
            "\n",
            "/usr/local/lib/python3.6/dist-packages/ipykernel_launcher.py:38: SettingWithCopyWarning:\n",
            "\n",
            "\n",
            "A value is trying to be set on a copy of a slice from a DataFrame.\n",
            "Try using .loc[row_indexer,col_indexer] = value instead\n",
            "\n",
            "See the caveats in the documentation: https://pandas.pydata.org/pandas-docs/stable/user_guide/indexing.html#returning-a-view-versus-a-copy\n",
            "\n",
            "/usr/local/lib/python3.6/dist-packages/plotly/matplotlylib/mpltools.py:368: MatplotlibDeprecationWarning:\n",
            "\n",
            "\n",
            "The is_frame_like function was deprecated in Matplotlib 3.1 and will be removed in 3.3.\n",
            "\n",
            "/usr/local/lib/python3.6/dist-packages/ipykernel_launcher.py:38: SettingWithCopyWarning:\n",
            "\n",
            "\n",
            "A value is trying to be set on a copy of a slice from a DataFrame.\n",
            "Try using .loc[row_indexer,col_indexer] = value instead\n",
            "\n",
            "See the caveats in the documentation: https://pandas.pydata.org/pandas-docs/stable/user_guide/indexing.html#returning-a-view-versus-a-copy\n",
            "\n",
            "/usr/local/lib/python3.6/dist-packages/plotly/matplotlylib/mpltools.py:368: MatplotlibDeprecationWarning:\n",
            "\n",
            "\n",
            "The is_frame_like function was deprecated in Matplotlib 3.1 and will be removed in 3.3.\n",
            "\n",
            "/usr/local/lib/python3.6/dist-packages/ipykernel_launcher.py:38: SettingWithCopyWarning:\n",
            "\n",
            "\n",
            "A value is trying to be set on a copy of a slice from a DataFrame.\n",
            "Try using .loc[row_indexer,col_indexer] = value instead\n",
            "\n",
            "See the caveats in the documentation: https://pandas.pydata.org/pandas-docs/stable/user_guide/indexing.html#returning-a-view-versus-a-copy\n",
            "\n",
            "/usr/local/lib/python3.6/dist-packages/plotly/matplotlylib/mpltools.py:368: MatplotlibDeprecationWarning:\n",
            "\n",
            "\n",
            "The is_frame_like function was deprecated in Matplotlib 3.1 and will be removed in 3.3.\n",
            "\n",
            "/usr/local/lib/python3.6/dist-packages/ipykernel_launcher.py:38: SettingWithCopyWarning:\n",
            "\n",
            "\n",
            "A value is trying to be set on a copy of a slice from a DataFrame.\n",
            "Try using .loc[row_indexer,col_indexer] = value instead\n",
            "\n",
            "See the caveats in the documentation: https://pandas.pydata.org/pandas-docs/stable/user_guide/indexing.html#returning-a-view-versus-a-copy\n",
            "\n",
            "/usr/local/lib/python3.6/dist-packages/plotly/matplotlylib/mpltools.py:368: MatplotlibDeprecationWarning:\n",
            "\n",
            "\n",
            "The is_frame_like function was deprecated in Matplotlib 3.1 and will be removed in 3.3.\n",
            "\n"
          ],
          "name": "stderr"
        }
      ]
    },
    {
      "cell_type": "code",
      "metadata": {
        "colab": {
          "base_uri": "https://localhost:8080/"
        },
        "id": "gZCweHsFYLm8",
        "outputId": "5993816d-7a93-4261-cad6-0c3e0f08f04a"
      },
      "source": [
        "#2018\r\n",
        "kmf_2018_1=fit_regular_kmf(df,2018,'venta_2018')\r\n",
        "kmf_2018_2=fit_regular_kmf(df,2018,'venta_2019')\r\n",
        "kmf_2018_3=fit_regular_kmf(df,2018,'venta_2020')\r\n",
        "kmf_2018=[kmf_2018_1,kmf_2018_2,kmf_2018_3]\r\n",
        "\r\n",
        "labels_2018=['kmf_2018_1','kmf_2018_2','kmf_2018_3']\r\n",
        "prob_anterior=[1, kmf_2018_1.survival_function_.iloc[-1][0],(kmf_2018_2.survival_function_.iloc[-1][0])*(kmf_2018_1.survival_function_.iloc[-1][0])]\r\n",
        "dic_fig_2018={}\r\n",
        "intervalos=[(104,158),(157,210), (209,261)]\r\n",
        "j=0\r\n",
        "k=0\r\n",
        "p=0\r\n",
        "for i in labels_2018:\r\n",
        "   dic_fig_2018[i]=plotly_fig(kmf_2018[j],2018,intervalos[k][0],intervalos[k][1],prob_anterior[p])\r\n",
        "   j=j+1\r\n",
        "   k=k+1\r\n",
        "   p=p+1"
      ],
      "execution_count": 38,
      "outputs": [
        {
          "output_type": "stream",
          "text": [
            "/usr/local/lib/python3.6/dist-packages/ipykernel_launcher.py:28: MatplotlibDeprecationWarning:\n",
            "\n",
            "The parameter where must have the same size as x in fill_between(). This will become an error in future versions of Matplotlib.\n",
            "\n",
            "/usr/local/lib/python3.6/dist-packages/plotly/matplotlylib/mpltools.py:368: MatplotlibDeprecationWarning:\n",
            "\n",
            "\n",
            "The is_frame_like function was deprecated in Matplotlib 3.1 and will be removed in 3.3.\n",
            "\n",
            "/usr/local/lib/python3.6/dist-packages/plotly/matplotlylib/renderer.py:474: UserWarning:\n",
            "\n",
            "Dang! That path collection is out of this world. I totally don't know what to do with it yet! Plotly can only import path collections linked to 'data' coordinates\n",
            "\n"
          ],
          "name": "stderr"
        }
      ]
    },
    {
      "cell_type": "code",
      "metadata": {
        "id": "RK4Hx80OYLkP"
      },
      "source": [
        "dic_tables_2018={}\r\n",
        "k=0\r\n",
        "for i in labels_2018:\r\n",
        "  dic_tables_2018[i]=kmf_2018[k].event_table\r\n",
        "  k=k+1\r\n"
      ],
      "execution_count": 39,
      "outputs": []
    },
    {
      "cell_type": "code",
      "metadata": {
        "id": "DoKkUZ5wYLhT"
      },
      "source": [
        "for name, df0 in dic_tables_2018.items():\r\n",
        "  df0.reset_index(inplace=True)\r\n",
        "  dic_tables_2018[name]=df0"
      ],
      "execution_count": 40,
      "outputs": []
    },
    {
      "cell_type": "markdown",
      "metadata": {
        "id": "6gnvDP4AdE2-"
      },
      "source": [
        "Análisis 2019"
      ]
    },
    {
      "cell_type": "code",
      "metadata": {
        "colab": {
          "base_uri": "https://localhost:8080/"
        },
        "id": "l8lU9a-BYLcK",
        "outputId": "9b1c1e4b-893f-4a44-e31b-a8ab2a47f2f4"
      },
      "source": [
        "dic_fig_2019_region={}\r\n",
        "lista_scale=[(156,208),(209,260)]\r\n",
        "labels_2019=['kmf_2019_1','kmf_2019_2']\r\n",
        "k=0\r\n",
        "for i in labels_2019:\r\n",
        "  dic_fig_2019_region[i]=categoria_func('2019',lista_scale[k][0],lista_scale[k][1],'Regional',df,2019)\r\n",
        "  k=k+1\r\n",
        "\r\n",
        "dic_fig_2019_inmueble={}\r\n",
        "lista_scale=[(156,208),(209,260)]\r\n",
        "labels_2019=['kmf_2019_1','kmf_2019_2']\r\n",
        "k=0\r\n",
        "for i in labels_2019:\r\n",
        "  dic_fig_2019_inmueble[i]=categoria_func('2019',lista_scale[k][0],lista_scale[k][1],'Tipificación',df,2019)\r\n",
        "  k=k+1"
      ],
      "execution_count": 41,
      "outputs": [
        {
          "output_type": "stream",
          "text": [
            "/usr/local/lib/python3.6/dist-packages/ipykernel_launcher.py:38: SettingWithCopyWarning:\n",
            "\n",
            "\n",
            "A value is trying to be set on a copy of a slice from a DataFrame.\n",
            "Try using .loc[row_indexer,col_indexer] = value instead\n",
            "\n",
            "See the caveats in the documentation: https://pandas.pydata.org/pandas-docs/stable/user_guide/indexing.html#returning-a-view-versus-a-copy\n",
            "\n",
            "/usr/local/lib/python3.6/dist-packages/plotly/matplotlylib/mpltools.py:368: MatplotlibDeprecationWarning:\n",
            "\n",
            "\n",
            "The is_frame_like function was deprecated in Matplotlib 3.1 and will be removed in 3.3.\n",
            "\n",
            "/usr/local/lib/python3.6/dist-packages/ipykernel_launcher.py:38: SettingWithCopyWarning:\n",
            "\n",
            "\n",
            "A value is trying to be set on a copy of a slice from a DataFrame.\n",
            "Try using .loc[row_indexer,col_indexer] = value instead\n",
            "\n",
            "See the caveats in the documentation: https://pandas.pydata.org/pandas-docs/stable/user_guide/indexing.html#returning-a-view-versus-a-copy\n",
            "\n",
            "/usr/local/lib/python3.6/dist-packages/plotly/matplotlylib/mpltools.py:368: MatplotlibDeprecationWarning:\n",
            "\n",
            "\n",
            "The is_frame_like function was deprecated in Matplotlib 3.1 and will be removed in 3.3.\n",
            "\n",
            "/usr/local/lib/python3.6/dist-packages/ipykernel_launcher.py:38: SettingWithCopyWarning:\n",
            "\n",
            "\n",
            "A value is trying to be set on a copy of a slice from a DataFrame.\n",
            "Try using .loc[row_indexer,col_indexer] = value instead\n",
            "\n",
            "See the caveats in the documentation: https://pandas.pydata.org/pandas-docs/stable/user_guide/indexing.html#returning-a-view-versus-a-copy\n",
            "\n",
            "/usr/local/lib/python3.6/dist-packages/plotly/matplotlylib/mpltools.py:368: MatplotlibDeprecationWarning:\n",
            "\n",
            "\n",
            "The is_frame_like function was deprecated in Matplotlib 3.1 and will be removed in 3.3.\n",
            "\n",
            "/usr/local/lib/python3.6/dist-packages/ipykernel_launcher.py:38: SettingWithCopyWarning:\n",
            "\n",
            "\n",
            "A value is trying to be set on a copy of a slice from a DataFrame.\n",
            "Try using .loc[row_indexer,col_indexer] = value instead\n",
            "\n",
            "See the caveats in the documentation: https://pandas.pydata.org/pandas-docs/stable/user_guide/indexing.html#returning-a-view-versus-a-copy\n",
            "\n",
            "/usr/local/lib/python3.6/dist-packages/plotly/matplotlylib/mpltools.py:368: MatplotlibDeprecationWarning:\n",
            "\n",
            "\n",
            "The is_frame_like function was deprecated in Matplotlib 3.1 and will be removed in 3.3.\n",
            "\n"
          ],
          "name": "stderr"
        }
      ]
    },
    {
      "cell_type": "code",
      "metadata": {
        "colab": {
          "base_uri": "https://localhost:8080/"
        },
        "id": "tEsSXIkih10o",
        "outputId": "1f36b2bc-1517-4202-b2b7-18a9628c493f"
      },
      "source": [
        "#2019\r\n",
        "kmf_2019_1=fit_regular_kmf(df,2019,'venta_2019')\r\n",
        "kmf_2019_2=fit_regular_kmf(df,2019,'venta_2020')\r\n",
        "\r\n",
        "kmf_2019=[kmf_2019_1,kmf_2019_2]\r\n",
        "\r\n",
        "labels_2019=['kmf_2019_1','kmf_2019_2']\r\n",
        "prob_anterior=[1, kmf_2019_1.survival_function_.iloc[-1][0]]\r\n",
        "dic_fig_2019={}\r\n",
        "intervalos=[(157,210), (209,260)]\r\n",
        "j=0\r\n",
        "k=0\r\n",
        "p=0\r\n",
        "for i in labels_2019:\r\n",
        "   dic_fig_2019[i]=plotly_fig(kmf_2019[j],2019,intervalos[k][0],intervalos[k][1],prob_anterior[p])\r\n",
        "   j=j+1\r\n",
        "   k=k+1\r\n",
        "   p=p+1"
      ],
      "execution_count": 42,
      "outputs": [
        {
          "output_type": "stream",
          "text": [
            "/usr/local/lib/python3.6/dist-packages/ipykernel_launcher.py:28: MatplotlibDeprecationWarning:\n",
            "\n",
            "The parameter where must have the same size as x in fill_between(). This will become an error in future versions of Matplotlib.\n",
            "\n",
            "/usr/local/lib/python3.6/dist-packages/plotly/matplotlylib/mpltools.py:368: MatplotlibDeprecationWarning:\n",
            "\n",
            "\n",
            "The is_frame_like function was deprecated in Matplotlib 3.1 and will be removed in 3.3.\n",
            "\n",
            "/usr/local/lib/python3.6/dist-packages/plotly/matplotlylib/renderer.py:474: UserWarning:\n",
            "\n",
            "Dang! That path collection is out of this world. I totally don't know what to do with it yet! Plotly can only import path collections linked to 'data' coordinates\n",
            "\n"
          ],
          "name": "stderr"
        }
      ]
    },
    {
      "cell_type": "code",
      "metadata": {
        "id": "zHl31Wb0iePa"
      },
      "source": [
        "dic_tables_2019={}\r\n",
        "k=0\r\n",
        "for i in labels_2019:\r\n",
        "  dic_tables_2019[i]=kmf_2019[k].event_table\r\n",
        "  k=k+1"
      ],
      "execution_count": 43,
      "outputs": []
    },
    {
      "cell_type": "code",
      "metadata": {
        "id": "ThL6sTAlieIZ"
      },
      "source": [
        "for name, df0 in dic_tables_2019.items():\r\n",
        "  df0.reset_index(inplace=True)\r\n",
        "  dic_tables_2019[name]=df0"
      ],
      "execution_count": 44,
      "outputs": []
    },
    {
      "cell_type": "markdown",
      "metadata": {
        "id": "mv62_RMJkW1c"
      },
      "source": [
        "Análisis 2020"
      ]
    },
    {
      "cell_type": "code",
      "metadata": {
        "colab": {
          "base_uri": "https://localhost:8080/"
        },
        "id": "DyYFr7WJkYhv",
        "outputId": "2b471245-fa23-4472-d87c-5bfd051e1686"
      },
      "source": [
        "#2020\r\n",
        "kmf_2020_1=fit_regular_kmf(df,2020,'venta_2020')\r\n",
        "\r\n",
        "\r\n",
        "kmf_2020=[kmf_2020_1]\r\n",
        "\r\n",
        "labels_2020=['kmf_2020_1']\r\n",
        "prob_anterior=[1]\r\n",
        "dic_fig_2020={}\r\n",
        "intervalos=[(209,260)]\r\n",
        "j=0\r\n",
        "k=0\r\n",
        "p=0\r\n",
        "for i in labels_2020:\r\n",
        "   dic_fig_2020[i]=plotly_fig(kmf_2020[j],2020,intervalos[k][0],intervalos[k][1],prob_anterior[p])\r\n",
        "   j=j+1\r\n",
        "   k=k+1\r\n",
        "   p=p+1"
      ],
      "execution_count": 45,
      "outputs": [
        {
          "output_type": "stream",
          "text": [
            "/usr/local/lib/python3.6/dist-packages/ipykernel_launcher.py:28: MatplotlibDeprecationWarning:\n",
            "\n",
            "The parameter where must have the same size as x in fill_between(). This will become an error in future versions of Matplotlib.\n",
            "\n",
            "/usr/local/lib/python3.6/dist-packages/plotly/matplotlylib/mpltools.py:368: MatplotlibDeprecationWarning:\n",
            "\n",
            "\n",
            "The is_frame_like function was deprecated in Matplotlib 3.1 and will be removed in 3.3.\n",
            "\n",
            "/usr/local/lib/python3.6/dist-packages/plotly/matplotlylib/renderer.py:474: UserWarning:\n",
            "\n",
            "Dang! That path collection is out of this world. I totally don't know what to do with it yet! Plotly can only import path collections linked to 'data' coordinates\n",
            "\n"
          ],
          "name": "stderr"
        }
      ]
    },
    {
      "cell_type": "code",
      "metadata": {
        "colab": {
          "base_uri": "https://localhost:8080/"
        },
        "id": "bTulLC-zkYfX",
        "outputId": "f701c0ea-4b67-4c55-85d5-28c6340863c4"
      },
      "source": [
        "dic_fig_2020_region={}\r\n",
        "lista_scale=[(209,260)]\r\n",
        "labels_2019=['kmf_2020_1']\r\n",
        "k=0\r\n",
        "for i in labels_2020:\r\n",
        "  dic_fig_2020_region[i]=categoria_func('2020',lista_scale[k][0],lista_scale[k][1],'Regional',df,año_i=2020)\r\n",
        "  k=k+1\r\n",
        "\r\n",
        "dic_fig_2020_inmueble={}\r\n",
        "lista_scale=[(209,260)]\r\n",
        "labels_2020=['kmf_2020_1']\r\n",
        "k=0\r\n",
        "for i in labels_2020:\r\n",
        "  dic_fig_2020_inmueble[i]=categoria_func('2020',lista_scale[k][0],lista_scale[k][1],'Tipificación',df,año_i=2020)\r\n",
        "  k=k+1"
      ],
      "execution_count": 46,
      "outputs": [
        {
          "output_type": "stream",
          "text": [
            "/usr/local/lib/python3.6/dist-packages/ipykernel_launcher.py:38: SettingWithCopyWarning:\n",
            "\n",
            "\n",
            "A value is trying to be set on a copy of a slice from a DataFrame.\n",
            "Try using .loc[row_indexer,col_indexer] = value instead\n",
            "\n",
            "See the caveats in the documentation: https://pandas.pydata.org/pandas-docs/stable/user_guide/indexing.html#returning-a-view-versus-a-copy\n",
            "\n",
            "/usr/local/lib/python3.6/dist-packages/plotly/matplotlylib/mpltools.py:368: MatplotlibDeprecationWarning:\n",
            "\n",
            "\n",
            "The is_frame_like function was deprecated in Matplotlib 3.1 and will be removed in 3.3.\n",
            "\n",
            "/usr/local/lib/python3.6/dist-packages/ipykernel_launcher.py:38: SettingWithCopyWarning:\n",
            "\n",
            "\n",
            "A value is trying to be set on a copy of a slice from a DataFrame.\n",
            "Try using .loc[row_indexer,col_indexer] = value instead\n",
            "\n",
            "See the caveats in the documentation: https://pandas.pydata.org/pandas-docs/stable/user_guide/indexing.html#returning-a-view-versus-a-copy\n",
            "\n",
            "/usr/local/lib/python3.6/dist-packages/plotly/matplotlylib/mpltools.py:368: MatplotlibDeprecationWarning:\n",
            "\n",
            "\n",
            "The is_frame_like function was deprecated in Matplotlib 3.1 and will be removed in 3.3.\n",
            "\n"
          ],
          "name": "stderr"
        }
      ]
    },
    {
      "cell_type": "code",
      "metadata": {
        "id": "yn0HN7xukYcY"
      },
      "source": [
        "dic_tables_2020={}\r\n",
        "k=0\r\n",
        "for i in labels_2020:\r\n",
        "  dic_tables_2020[i]=kmf_2020[k].event_table\r\n",
        "  k=k+1"
      ],
      "execution_count": 47,
      "outputs": []
    },
    {
      "cell_type": "code",
      "metadata": {
        "id": "ag_vaz09kYXW"
      },
      "source": [
        "for name, df0 in dic_tables_2020.items():\r\n",
        "  df0.reset_index(inplace=True)\r\n",
        "  dic_tables_2020[name]=df0"
      ],
      "execution_count": 48,
      "outputs": []
    },
    {
      "cell_type": "markdown",
      "metadata": {
        "id": "_KfcP58DtBWZ"
      },
      "source": [
        "#Análisis continuo SI ES NECESARIO!!!!!!!"
      ]
    },
    {
      "cell_type": "code",
      "metadata": {
        "colab": {
          "base_uri": "https://localhost:8080/"
        },
        "id": "re20mRcFtDlN",
        "outputId": "35a6c038-d526-43b4-a740-896f4079bfda"
      },
      "source": [
        "df_eventos=df[['weeks_evento']]\r\n",
        "df_eventos['evento']=1\r\n",
        "df_eventos=df_eventos.sort_values(by='weeks_evento',ascending=True)"
      ],
      "execution_count": 102,
      "outputs": [
        {
          "output_type": "stream",
          "text": [
            "/usr/local/lib/python3.6/dist-packages/ipykernel_launcher.py:2: SettingWithCopyWarning:\n",
            "\n",
            "\n",
            "A value is trying to be set on a copy of a slice from a DataFrame.\n",
            "Try using .loc[row_indexer,col_indexer] = value instead\n",
            "\n",
            "See the caveats in the documentation: https://pandas.pydata.org/pandas-docs/stable/user_guide/indexing.html#returning-a-view-versus-a-copy\n",
            "\n"
          ],
          "name": "stderr"
        }
      ]
    },
    {
      "cell_type": "code",
      "metadata": {
        "colab": {
          "base_uri": "https://localhost:8080/",
          "height": 745
        },
        "id": "SgUdokrltZrB",
        "outputId": "e6c0dd2a-0c27-4152-a3c8-9ebdffb24a35"
      },
      "source": [
        "kmf_general = KaplanMeierFitter()\r\n",
        "kmf_general.fit(durations=df_eventos['weeks_evento'], event_observed=df_eventos['evento'])\r\n",
        "\r\n",
        "plotly_fig(kmf_general,'2016 y 2020',0,260,1)"
      ],
      "execution_count": 103,
      "outputs": [
        {
          "output_type": "stream",
          "text": [
            "/usr/local/lib/python3.6/dist-packages/ipykernel_launcher.py:45: MatplotlibDeprecationWarning:\n",
            "\n",
            "The parameter where must have the same size as x in fill_between(). This will become an error in future versions of Matplotlib.\n",
            "\n",
            "/usr/local/lib/python3.6/dist-packages/plotly/matplotlylib/mpltools.py:368: MatplotlibDeprecationWarning:\n",
            "\n",
            "\n",
            "The is_frame_like function was deprecated in Matplotlib 3.1 and will be removed in 3.3.\n",
            "\n",
            "/usr/local/lib/python3.6/dist-packages/plotly/matplotlylib/renderer.py:474: UserWarning:\n",
            "\n",
            "Dang! That path collection is out of this world. I totally don't know what to do with it yet! Plotly can only import path collections linked to 'data' coordinates\n",
            "\n"
          ],
          "name": "stderr"
        },
        {
          "output_type": "display_data",
          "data": {
            "text/html": [
              "<html>\n",
              "<head><meta charset=\"utf-8\" /></head>\n",
              "<body>\n",
              "    <div>\n",
              "            <script src=\"https://cdnjs.cloudflare.com/ajax/libs/mathjax/2.7.5/MathJax.js?config=TeX-AMS-MML_SVG\"></script><script type=\"text/javascript\">if (window.MathJax) {MathJax.Hub.Config({SVG: {font: \"STIX-Web\"}});}</script>\n",
              "                <script type=\"text/javascript\">window.PlotlyConfig = {MathJaxConfig: 'local'};</script>\n",
              "        <script src=\"https://cdn.plot.ly/plotly-latest.min.js\"></script>    \n",
              "            <div id=\"930e46cf-cbac-4ff2-ad68-cb857fbdd9f7\" class=\"plotly-graph-div\" style=\"height:468px; width:1080px;\"></div>\n",
              "            <script type=\"text/javascript\">\n",
              "                \n",
              "                    window.PLOTLYENV=window.PLOTLYENV || {};\n",
              "                    \n",
              "                if (document.getElementById(\"930e46cf-cbac-4ff2-ad68-cb857fbdd9f7\")) {\n",
              "                    Plotly.newPlot(\n",
              "                        '930e46cf-cbac-4ff2-ad68-cb857fbdd9f7',\n",
              "                        [{\"line\": {\"color\": \"rgba (226, 74, 51, 1)\", \"dash\": \"solid\", \"width\": 2.25}, \"mode\": \"lines\", \"name\": \"Estimaci\\u00f3n kmf\", \"type\": \"scatter\", \"x\": [0.0, 81.0, 91.0, 93.0, 94.0, 99.0, 100.0, 117.0, 121.0, 126.0, 130.0, 133.0, 135.0, 138.0, 139.0, 142.0, 143.0, 146.0, 148.0, 152.0, 153.0, 156.0, 157.0, 161.0, 165.0, 167.0, 168.0, 169.0, 173.0, 174.0, 176.0, 177.0, 178.0, 179.0, 181.0, 182.0, 183.0, 184.0, 185.0, 186.0, 187.0, 189.0, 190.0, 191.0, 192.0, 193.0, 195.0, 196.0, 200.0, 204.0, 208.0, 210.0, 213.0, 217.0, 221.0, 222.0, 226.0, 230.0, 234.0, 235.0, 239.0, 240.0, 243.0, 244.0], \"xaxis\": \"x\", \"y\": [1.0, 0.9971590909090908, 0.9914772727272729, 0.9886363636363641, 0.9857954545454549, 0.9829545454545462, 0.9801136363636371, 0.9715909090909091, 0.9602272727272732, 0.9517045454545455, 0.9403409090909094, 0.9346590909090912, 0.9147727272727277, 0.9119318181818185, 0.8721590909090909, 0.869318181818182, 0.8409090909090909, 0.8380681818181824, 0.8238636363636366, 0.803977272727273, 0.8011363636363641, 0.767045454545455, 0.704545454545455, 0.6960227272727278, 0.6761363636363641, 0.673295454545455, 0.670454545454546, 0.65625, 0.6534090909090913, 0.6306818181818183, 0.6221590909090912, 0.6193181818181819, 0.6079545454545454, 0.5994318181818185, 0.590909090909091, 0.5767045454545455, 0.5738636363636367, 0.5710227272727274, 0.5653409090909092, 0.5625000000000001, 0.5142045454545457, 0.5113636363636366, 0.5085227272727274, 0.4659090909090912, 0.463068181818182, 0.46022727272727265, 0.4517045454545456, 0.434659090909091, 0.3977272727272727, 0.3494318181818181, 0.3465909090909093, 0.34090909090909094, 0.28693181818181834, 0.2357954545454547, 0.23295454545454558, 0.1988636363636365, 0.1761363636363637, 0.16761363636363646, 0.1647727272727273, 0.1335227272727273, 0.07102272727272728, 0.06818181818181822, 0.04545454545454546, 0.0], \"yaxis\": \"y\"}, {\"line\": {\"color\": \"rgba (52, 138, 189, 0.3)\", \"dash\": \"solid\", \"width\": 2.25}, \"mode\": \"lines\", \"name\": \"I-confianza\", \"type\": \"scatter\", \"x\": [0.0, 81.0, 91.0, 93.0, 94.0, 99.0, 100.0, 117.0, 121.0, 126.0, 130.0, 133.0, 135.0, 138.0, 139.0, 142.0, 143.0, 146.0, 148.0, 152.0, 153.0, 156.0, 157.0, 161.0, 165.0, 167.0, 168.0, 169.0, 173.0, 174.0, 176.0, 177.0, 178.0, 179.0, 181.0, 182.0, 183.0, 184.0, 185.0, 186.0, 187.0, 189.0, 190.0, 191.0, 192.0, 193.0, 195.0, 196.0, 200.0, 204.0, 208.0, 210.0, 213.0, 217.0, 221.0, 222.0, 226.0, 230.0, 234.0, 235.0, 239.0, 240.0, 243.0, 244.0], \"xaxis\": \"x\", \"y\": [1.0, 0.9800060522013915, 0.9738104055038057, 0.9700080835368577, 0.9662121921641795, 0.9624544078209017, 0.9587406941643827, 0.9478440539309804, 0.933765946052707, 0.92345763959601, 0.9099641628186942, 0.9033054636796529, 0.8803639401260536, 0.8771258667534535, 0.8325676909984187, 0.8294313294722414, 0.7983365600081941, 0.7952515566066058, 0.7798860536601083, 0.758528092261879, 0.7554905255042678, 0.7192786998092598, 0.6538820015913785, 0.6450514381294818, 0.6245210067480987, 0.6215963491670814, 0.6186737153475765, 0.6040904630040481, 0.6011797127062726, 0.5779627143883381, 0.5692873419370339, 0.5663992401590882, 0.554865075767835, 0.5462334127120303, 0.5376178111260549, 0.5232937606242435, 0.5204341988808605, 0.5175763761979326, 0.5118659318995744, 0.5090133026888672, 0.4607801609904113, 0.45795819074032207, 0.45513791034730666, 0.4130366594987354, 0.41024348452027637, 0.4074520162197025, 0.3990878770577091, 0.3824060685772444, 0.34647841071864854, 0.29996114235893356, 0.29724200531744027, 0.2918096621491117, 0.24061664179311948, 0.19288766977175104, 0.1902608939908812, 0.15897116058195768, 0.1383751832023704, 0.13071348073499775, 0.12816765052313847, 0.10046044380164675, 0.047316777838174014, 0.04500767844096884, 0.027083533707174742, 0.0], \"yaxis\": \"y\"}, {\"line\": {\"color\": \"rgba (152, 142, 213, 0.3)\", \"dash\": \"solid\", \"width\": 2.25}, \"mode\": \"lines\", \"name\": \"I-confianza\", \"type\": \"scatter\", \"x\": [0.0, 81.0, 91.0, 93.0, 94.0, 99.0, 100.0, 117.0, 121.0, 126.0, 130.0, 133.0, 135.0, 138.0, 139.0, 142.0, 143.0, 146.0, 148.0, 152.0, 153.0, 156.0, 157.0, 161.0, 165.0, 167.0, 168.0, 169.0, 173.0, 174.0, 176.0, 177.0, 178.0, 179.0, 181.0, 182.0, 183.0, 184.0, 185.0, 186.0, 187.0, 189.0, 190.0, 191.0, 192.0, 193.0, 195.0, 196.0, 200.0, 204.0, 208.0, 210.0, 213.0, 217.0, 221.0, 222.0, 226.0, 230.0, 234.0, 235.0, 239.0, 240.0, 243.0, 244.0], \"xaxis\": \"x\", \"y\": [1.0, 0.999599330656421, 0.9972432737650151, 0.9957198154589492, 0.9940630186747758, 0.9923059581362983, 0.990469783144815, 0.984612968831693, 0.9762506960870219, 0.9696975080622044, 0.9606894233364629, 0.9560922927502552, 0.9396236660586987, 0.9372304737936742, 0.9029351849468685, 0.9004384712908193, 0.8752001808205204, 0.8726517191124237, 0.8598496539048027, 0.841772637145622, 0.8391766221258644, 0.8077857020862763, 0.7492478926488225, 0.7411788943244628, 0.7222777024423835, 0.7195693539797547, 0.7168590033779427, 0.7032776678437525, 0.700555569364611, 0.6787106490995652, 0.6704882194614316, 0.6677437732952419, 0.6567480168933224, 0.6484825315163525, 0.6402012433433834, 0.626364406246253, 0.6235918823273812, 0.6208176506407206, 0.6152640812505089, 0.6124847517340128, 0.5649798187353218, 0.5621704633526722, 0.5593594564848857, 0.5169962601976088, 0.5141588143149174, 0.5113197069499887, 0.5027923948476752, 0.4856925843290318, 0.4484330759826143, 0.39925902161055343, 0.39634985300441333, 0.3905258003242457, 0.33479890463050227, 0.2812675062817323, 0.2782698297203392, 0.24207731798937507, 0.21769846829691777, 0.20849788758580257, 0.2054233958452119, 0.1713237916967521, 0.10099491428487062, 0.09769891904253349, 0.07082476983225913, 0.0], \"yaxis\": \"y\"}],\n",
              "                        {\"autosize\": false, \"height\": 468, \"hovermode\": \"closest\", \"margin\": {\"b\": 58, \"l\": 135, \"pad\": 0, \"r\": 107, \"t\": 56}, \"showlegend\": false, \"template\": {\"data\": {\"bar\": [{\"error_x\": {\"color\": \"#2a3f5f\"}, \"error_y\": {\"color\": \"#2a3f5f\"}, \"marker\": {\"line\": {\"color\": \"#E5ECF6\", \"width\": 0.5}}, \"type\": \"bar\"}], \"barpolar\": [{\"marker\": {\"line\": {\"color\": \"#E5ECF6\", \"width\": 0.5}}, \"type\": \"barpolar\"}], \"carpet\": [{\"aaxis\": {\"endlinecolor\": \"#2a3f5f\", \"gridcolor\": \"white\", \"linecolor\": \"white\", \"minorgridcolor\": \"white\", \"startlinecolor\": \"#2a3f5f\"}, \"baxis\": {\"endlinecolor\": \"#2a3f5f\", \"gridcolor\": \"white\", \"linecolor\": \"white\", \"minorgridcolor\": \"white\", \"startlinecolor\": \"#2a3f5f\"}, \"type\": \"carpet\"}], \"choropleth\": [{\"colorbar\": {\"outlinewidth\": 0, \"ticks\": \"\"}, \"type\": \"choropleth\"}], \"contour\": [{\"colorbar\": {\"outlinewidth\": 0, \"ticks\": \"\"}, \"colorscale\": [[0.0, \"#0d0887\"], [0.1111111111111111, \"#46039f\"], [0.2222222222222222, \"#7201a8\"], [0.3333333333333333, \"#9c179e\"], [0.4444444444444444, \"#bd3786\"], [0.5555555555555556, \"#d8576b\"], [0.6666666666666666, \"#ed7953\"], [0.7777777777777778, \"#fb9f3a\"], [0.8888888888888888, \"#fdca26\"], [1.0, \"#f0f921\"]], \"type\": \"contour\"}], \"contourcarpet\": [{\"colorbar\": {\"outlinewidth\": 0, \"ticks\": \"\"}, \"type\": \"contourcarpet\"}], \"heatmap\": [{\"colorbar\": {\"outlinewidth\": 0, \"ticks\": \"\"}, \"colorscale\": [[0.0, \"#0d0887\"], [0.1111111111111111, \"#46039f\"], [0.2222222222222222, \"#7201a8\"], [0.3333333333333333, \"#9c179e\"], [0.4444444444444444, \"#bd3786\"], [0.5555555555555556, \"#d8576b\"], [0.6666666666666666, \"#ed7953\"], [0.7777777777777778, \"#fb9f3a\"], [0.8888888888888888, \"#fdca26\"], [1.0, \"#f0f921\"]], \"type\": \"heatmap\"}], \"heatmapgl\": [{\"colorbar\": {\"outlinewidth\": 0, \"ticks\": \"\"}, \"colorscale\": [[0.0, \"#0d0887\"], [0.1111111111111111, \"#46039f\"], [0.2222222222222222, \"#7201a8\"], [0.3333333333333333, \"#9c179e\"], [0.4444444444444444, \"#bd3786\"], [0.5555555555555556, \"#d8576b\"], [0.6666666666666666, \"#ed7953\"], [0.7777777777777778, \"#fb9f3a\"], [0.8888888888888888, \"#fdca26\"], [1.0, \"#f0f921\"]], \"type\": \"heatmapgl\"}], \"histogram\": [{\"marker\": {\"colorbar\": {\"outlinewidth\": 0, \"ticks\": \"\"}}, \"type\": \"histogram\"}], \"histogram2d\": [{\"colorbar\": {\"outlinewidth\": 0, \"ticks\": \"\"}, \"colorscale\": [[0.0, \"#0d0887\"], [0.1111111111111111, \"#46039f\"], [0.2222222222222222, \"#7201a8\"], [0.3333333333333333, \"#9c179e\"], [0.4444444444444444, \"#bd3786\"], [0.5555555555555556, \"#d8576b\"], [0.6666666666666666, \"#ed7953\"], [0.7777777777777778, \"#fb9f3a\"], [0.8888888888888888, \"#fdca26\"], [1.0, \"#f0f921\"]], \"type\": \"histogram2d\"}], \"histogram2dcontour\": [{\"colorbar\": {\"outlinewidth\": 0, \"ticks\": \"\"}, \"colorscale\": [[0.0, \"#0d0887\"], [0.1111111111111111, \"#46039f\"], [0.2222222222222222, \"#7201a8\"], [0.3333333333333333, \"#9c179e\"], [0.4444444444444444, \"#bd3786\"], [0.5555555555555556, \"#d8576b\"], [0.6666666666666666, \"#ed7953\"], [0.7777777777777778, \"#fb9f3a\"], [0.8888888888888888, \"#fdca26\"], [1.0, \"#f0f921\"]], \"type\": \"histogram2dcontour\"}], \"mesh3d\": [{\"colorbar\": {\"outlinewidth\": 0, \"ticks\": \"\"}, \"type\": \"mesh3d\"}], \"parcoords\": [{\"line\": {\"colorbar\": {\"outlinewidth\": 0, \"ticks\": \"\"}}, \"type\": \"parcoords\"}], \"pie\": [{\"automargin\": true, \"type\": \"pie\"}], \"scatter\": [{\"marker\": {\"colorbar\": {\"outlinewidth\": 0, \"ticks\": \"\"}}, \"type\": \"scatter\"}], \"scatter3d\": [{\"line\": {\"colorbar\": {\"outlinewidth\": 0, \"ticks\": \"\"}}, \"marker\": {\"colorbar\": {\"outlinewidth\": 0, \"ticks\": \"\"}}, \"type\": \"scatter3d\"}], \"scattercarpet\": [{\"marker\": {\"colorbar\": {\"outlinewidth\": 0, \"ticks\": \"\"}}, \"type\": \"scattercarpet\"}], \"scattergeo\": [{\"marker\": {\"colorbar\": {\"outlinewidth\": 0, \"ticks\": \"\"}}, \"type\": \"scattergeo\"}], \"scattergl\": [{\"marker\": {\"colorbar\": {\"outlinewidth\": 0, \"ticks\": \"\"}}, \"type\": \"scattergl\"}], \"scattermapbox\": [{\"marker\": {\"colorbar\": {\"outlinewidth\": 0, \"ticks\": \"\"}}, \"type\": \"scattermapbox\"}], \"scatterpolar\": [{\"marker\": {\"colorbar\": {\"outlinewidth\": 0, \"ticks\": \"\"}}, \"type\": \"scatterpolar\"}], \"scatterpolargl\": [{\"marker\": {\"colorbar\": {\"outlinewidth\": 0, \"ticks\": \"\"}}, \"type\": \"scatterpolargl\"}], \"scatterternary\": [{\"marker\": {\"colorbar\": {\"outlinewidth\": 0, \"ticks\": \"\"}}, \"type\": \"scatterternary\"}], \"surface\": [{\"colorbar\": {\"outlinewidth\": 0, \"ticks\": \"\"}, \"colorscale\": [[0.0, \"#0d0887\"], [0.1111111111111111, \"#46039f\"], [0.2222222222222222, \"#7201a8\"], [0.3333333333333333, \"#9c179e\"], [0.4444444444444444, \"#bd3786\"], [0.5555555555555556, \"#d8576b\"], [0.6666666666666666, \"#ed7953\"], [0.7777777777777778, \"#fb9f3a\"], [0.8888888888888888, \"#fdca26\"], [1.0, \"#f0f921\"]], \"type\": \"surface\"}], \"table\": [{\"cells\": {\"fill\": {\"color\": \"#EBF0F8\"}, \"line\": {\"color\": \"white\"}}, \"header\": {\"fill\": {\"color\": \"#C8D4E3\"}, \"line\": {\"color\": \"white\"}}, \"type\": \"table\"}]}, \"layout\": {\"annotationdefaults\": {\"arrowcolor\": \"#2a3f5f\", \"arrowhead\": 0, \"arrowwidth\": 1}, \"coloraxis\": {\"colorbar\": {\"outlinewidth\": 0, \"ticks\": \"\"}}, \"colorscale\": {\"diverging\": [[0, \"#8e0152\"], [0.1, \"#c51b7d\"], [0.2, \"#de77ae\"], [0.3, \"#f1b6da\"], [0.4, \"#fde0ef\"], [0.5, \"#f7f7f7\"], [0.6, \"#e6f5d0\"], [0.7, \"#b8e186\"], [0.8, \"#7fbc41\"], [0.9, \"#4d9221\"], [1, \"#276419\"]], \"sequential\": [[0.0, \"#0d0887\"], [0.1111111111111111, \"#46039f\"], [0.2222222222222222, \"#7201a8\"], [0.3333333333333333, \"#9c179e\"], [0.4444444444444444, \"#bd3786\"], [0.5555555555555556, \"#d8576b\"], [0.6666666666666666, \"#ed7953\"], [0.7777777777777778, \"#fb9f3a\"], [0.8888888888888888, \"#fdca26\"], [1.0, \"#f0f921\"]], \"sequentialminus\": [[0.0, \"#0d0887\"], [0.1111111111111111, \"#46039f\"], [0.2222222222222222, \"#7201a8\"], [0.3333333333333333, \"#9c179e\"], [0.4444444444444444, \"#bd3786\"], [0.5555555555555556, \"#d8576b\"], [0.6666666666666666, \"#ed7953\"], [0.7777777777777778, \"#fb9f3a\"], [0.8888888888888888, \"#fdca26\"], [1.0, \"#f0f921\"]]}, \"colorway\": [\"#636efa\", \"#EF553B\", \"#00cc96\", \"#ab63fa\", \"#FFA15A\", \"#19d3f3\", \"#FF6692\", \"#B6E880\", \"#FF97FF\", \"#FECB52\"], \"font\": {\"color\": \"#2a3f5f\"}, \"geo\": {\"bgcolor\": \"white\", \"lakecolor\": \"white\", \"landcolor\": \"#E5ECF6\", \"showlakes\": true, \"showland\": true, \"subunitcolor\": \"white\"}, \"hoverlabel\": {\"align\": \"left\"}, \"hovermode\": \"closest\", \"mapbox\": {\"style\": \"light\"}, \"paper_bgcolor\": \"white\", \"plot_bgcolor\": \"#E5ECF6\", \"polar\": {\"angularaxis\": {\"gridcolor\": \"white\", \"linecolor\": \"white\", \"ticks\": \"\"}, \"bgcolor\": \"#E5ECF6\", \"radialaxis\": {\"gridcolor\": \"white\", \"linecolor\": \"white\", \"ticks\": \"\"}}, \"scene\": {\"xaxis\": {\"backgroundcolor\": \"#E5ECF6\", \"gridcolor\": \"white\", \"gridwidth\": 2, \"linecolor\": \"white\", \"showbackground\": true, \"ticks\": \"\", \"zerolinecolor\": \"white\"}, \"yaxis\": {\"backgroundcolor\": \"#E5ECF6\", \"gridcolor\": \"white\", \"gridwidth\": 2, \"linecolor\": \"white\", \"showbackground\": true, \"ticks\": \"\", \"zerolinecolor\": \"white\"}, \"zaxis\": {\"backgroundcolor\": \"#E5ECF6\", \"gridcolor\": \"white\", \"gridwidth\": 2, \"linecolor\": \"white\", \"showbackground\": true, \"ticks\": \"\", \"zerolinecolor\": \"white\"}}, \"shapedefaults\": {\"line\": {\"color\": \"#2a3f5f\"}}, \"ternary\": {\"aaxis\": {\"gridcolor\": \"white\", \"linecolor\": \"white\", \"ticks\": \"\"}, \"baxis\": {\"gridcolor\": \"white\", \"linecolor\": \"white\", \"ticks\": \"\"}, \"bgcolor\": \"#E5ECF6\", \"caxis\": {\"gridcolor\": \"white\", \"linecolor\": \"white\", \"ticks\": \"\"}}, \"title\": {\"x\": 0.05}, \"xaxis\": {\"automargin\": true, \"gridcolor\": \"white\", \"linecolor\": \"white\", \"ticks\": \"\", \"title\": {\"standoff\": 15}, \"zerolinecolor\": \"white\", \"zerolinewidth\": 2}, \"yaxis\": {\"automargin\": true, \"gridcolor\": \"white\", \"linecolor\": \"white\", \"ticks\": \"\", \"title\": {\"standoff\": 15}, \"zerolinecolor\": \"white\", \"zerolinewidth\": 2}}}, \"title\": {\"font\": {\"color\": \"#000000\", \"size\": 18.0}, \"text\": \"Estimaci\\u00f3n KMF para los Bienes ingresados entre los a\\u00f1os: 2016 y 2020\"}, \"width\": 1080, \"xaxis\": {\"anchor\": \"y\", \"domain\": [0.0, 1.0], \"mirror\": \"ticks\", \"nticks\": 7, \"range\": [0.0, 260.0], \"showgrid\": true, \"showline\": true, \"side\": \"bottom\", \"tickfont\": {\"size\": 16.5}, \"ticks\": \"inside\", \"title\": {\"font\": {\"color\": \"#555555\", \"size\": 18.0}, \"text\": \"Semanas de estudio\"}, \"type\": \"linear\", \"zeroline\": false}, \"yaxis\": {\"anchor\": \"x\", \"domain\": [0.0, 1.0], \"mirror\": \"ticks\", \"nticks\": 8, \"range\": [-0.05, 1.05], \"showgrid\": true, \"showline\": true, \"side\": \"left\", \"tickfont\": {\"size\": 16.5}, \"ticks\": \"inside\", \"title\": {\"font\": {\"color\": \"#555555\", \"size\": 18.0}, \"text\": \"Probabilidad(no venta)\"}, \"type\": \"linear\", \"zeroline\": false}},\n",
              "                        {\"responsive\": true}\n",
              "                    ).then(function(){\n",
              "                            \n",
              "var gd = document.getElementById('930e46cf-cbac-4ff2-ad68-cb857fbdd9f7');\n",
              "var x = new MutationObserver(function (mutations, observer) {{\n",
              "        var display = window.getComputedStyle(gd).display;\n",
              "        if (!display || display === 'none') {{\n",
              "            console.log([gd, 'removed!']);\n",
              "            Plotly.purge(gd);\n",
              "            observer.disconnect();\n",
              "        }}\n",
              "}});\n",
              "\n",
              "// Listen for the removal of the full notebook cells\n",
              "var notebookContainer = gd.closest('#notebook-container');\n",
              "if (notebookContainer) {{\n",
              "    x.observe(notebookContainer, {childList: true});\n",
              "}}\n",
              "\n",
              "// Listen for the clearing of the current output cell\n",
              "var outputEl = gd.closest('.output');\n",
              "if (outputEl) {{\n",
              "    x.observe(outputEl, {childList: true});\n",
              "}}\n",
              "\n",
              "                        })\n",
              "                };\n",
              "                \n",
              "            </script>\n",
              "        </div>\n",
              "</body>\n",
              "</html>"
            ]
          },
          "metadata": {
            "tags": []
          }
        }
      ]
    },
    {
      "cell_type": "markdown",
      "metadata": {
        "id": "TJBDkUp3yEln"
      },
      "source": [
        "#Cox Análisis"
      ]
    },
    {
      "cell_type": "code",
      "metadata": {
        "colab": {
          "base_uri": "https://localhost:8080/"
        },
        "id": "XcX8mtsBDiju",
        "outputId": "72a5175e-a2a9-4708-c155-46b7db1b97b7"
      },
      "source": [
        "from lifelines import CoxPHFitter\r\n",
        "from statsmodels.stats.outliers_influence import variance_inflation_factor \r\n",
        "from sklearn import preprocessing\r\n",
        "from sklearn.preprocessing import OrdinalEncoder\r\n",
        "ord_enc = OrdinalEncoder()"
      ],
      "execution_count": 49,
      "outputs": [
        {
          "output_type": "stream",
          "text": [
            "/usr/local/lib/python3.6/dist-packages/statsmodels/tools/_testing.py:19: FutureWarning:\n",
            "\n",
            "pandas.util.testing is deprecated. Use the functions in the public API at pandas.testing instead.\n",
            "\n"
          ],
          "name": "stderr"
        }
      ]
    },
    {
      "cell_type": "code",
      "metadata": {
        "id": "q54d1yuGAlu-"
      },
      "source": [
        "df['evento']=1"
      ],
      "execution_count": 50,
      "outputs": []
    },
    {
      "cell_type": "code",
      "metadata": {
        "colab": {
          "base_uri": "https://localhost:8080/",
          "height": 153
        },
        "id": "nF3UJc-sXDX7",
        "outputId": "2cb0ed08-a8a7-423c-c3ad-66f3c308d9d3"
      },
      "source": [
        "df.head(1)"
      ],
      "execution_count": 51,
      "outputs": [
        {
          "output_type": "execute_result",
          "data": {
            "text/html": [
              "<div>\n",
              "<style scoped>\n",
              "    .dataframe tbody tr th:only-of-type {\n",
              "        vertical-align: middle;\n",
              "    }\n",
              "\n",
              "    .dataframe tbody tr th {\n",
              "        vertical-align: top;\n",
              "    }\n",
              "\n",
              "    .dataframe thead th {\n",
              "        text-align: right;\n",
              "    }\n",
              "</style>\n",
              "<table border=\"1\" class=\"dataframe\">\n",
              "  <thead>\n",
              "    <tr style=\"text-align: right;\">\n",
              "      <th></th>\n",
              "      <th>NIBP</th>\n",
              "      <th>Mes venta</th>\n",
              "      <th>Valor venta</th>\n",
              "      <th>Banca</th>\n",
              "      <th>Tipo de Bien Dir</th>\n",
              "      <th>Tipificación</th>\n",
              "      <th>Fecha cubo 2</th>\n",
              "      <th>Fecha cubo 5</th>\n",
              "      <th>AÑO cubo 2</th>\n",
              "      <th>Meses en Contabilidad</th>\n",
              "      <th>dias_contabilidad</th>\n",
              "      <th>VALOR_RECIBIDO_REAL</th>\n",
              "      <th>AVALUO_REAL</th>\n",
              "      <th>GASTOS_REAL</th>\n",
              "      <th>perdida_ganancia</th>\n",
              "      <th>indicador</th>\n",
              "      <th>genera_ganancia</th>\n",
              "      <th>años_venta</th>\n",
              "      <th>Regional</th>\n",
              "      <th>AÑO cubo 5</th>\n",
              "      <th>venta_2017</th>\n",
              "      <th>venta_2018</th>\n",
              "      <th>venta_2019</th>\n",
              "      <th>venta_2020</th>\n",
              "      <th>week_cubo2</th>\n",
              "      <th>week_cubo5</th>\n",
              "      <th>weeks</th>\n",
              "      <th>weeks_evento</th>\n",
              "      <th>evento</th>\n",
              "    </tr>\n",
              "  </thead>\n",
              "  <tbody>\n",
              "    <tr>\n",
              "      <th>0</th>\n",
              "      <td>03-9323</td>\n",
              "      <td>Jun</td>\n",
              "      <td>220000000</td>\n",
              "      <td>Personas</td>\n",
              "      <td>Apartamento</td>\n",
              "      <td>Vivienda</td>\n",
              "      <td>2017-07-04 02:00:00</td>\n",
              "      <td>2018-06-28 02:00:00</td>\n",
              "      <td>2017</td>\n",
              "      <td>11.966667</td>\n",
              "      <td>359</td>\n",
              "      <td>233016000.0</td>\n",
              "      <td>233016000.0</td>\n",
              "      <td>432661.0</td>\n",
              "      <td>-13016000.0</td>\n",
              "      <td>0.94</td>\n",
              "      <td>0</td>\n",
              "      <td>1.0</td>\n",
              "      <td>Región Noroccidental</td>\n",
              "      <td>2018</td>\n",
              "      <td>0</td>\n",
              "      <td>1</td>\n",
              "      <td>0</td>\n",
              "      <td>0</td>\n",
              "      <td>27</td>\n",
              "      <td>26</td>\n",
              "      <td>79</td>\n",
              "      <td>130</td>\n",
              "      <td>1</td>\n",
              "    </tr>\n",
              "  </tbody>\n",
              "</table>\n",
              "</div>"
            ],
            "text/plain": [
              "      NIBP Mes venta  Valor venta  ... weeks weeks_evento evento\n",
              "0  03-9323       Jun    220000000  ...    79          130      1\n",
              "\n",
              "[1 rows x 29 columns]"
            ]
          },
          "metadata": {
            "tags": []
          },
          "execution_count": 51
        }
      ]
    },
    {
      "cell_type": "code",
      "metadata": {
        "id": "DQjY74M_yIU9"
      },
      "source": [
        "dfcox=df[['evento','Tipo de Bien Dir','weeks_evento','AVALUO_REAL','indicador','Banca','Regional','años_venta','Tipificación']]\r\n",
        "dfcox=dfcox.rename(columns={'años_venta':'años_en_contabilidad'})\r\n",
        "\r\n",
        "#ENCODING\r\n",
        "dfcox_cat=dfcox.select_dtypes(include='object')\r\n",
        "cat_val0= list(dfcox_cat.columns)\r\n",
        "for cat_val in cat_val0:\r\n",
        "  dfcox[cat_val]=ord_enc.fit_transform(dfcox[[cat_val]])"
      ],
      "execution_count": 52,
      "outputs": []
    },
    {
      "cell_type": "code",
      "metadata": {
        "colab": {
          "base_uri": "https://localhost:8080/"
        },
        "id": "BbusD3-RO9A0",
        "outputId": "05325fd8-7c77-4c81-e5bf-7a2d17a16d61"
      },
      "source": [
        "#Dectectar Multicolinealidad\r\n",
        "vif = pd.DataFrame()\r\n",
        "vif[\"VIF Factor\"] = [variance_inflation_factor(dfcox.values, i) for i in range(dfcox.values.shape[1])]\r\n",
        "vif[\"features\"] = dfcox.columns\r\n",
        "print(vif.round(1))"
      ],
      "execution_count": 53,
      "outputs": [
        {
          "output_type": "stream",
          "text": [
            "   VIF Factor              features\n",
            "0        95.0                evento\n",
            "1         1.8      Tipo de Bien Dir\n",
            "2         1.1          weeks_evento\n",
            "3         1.3           AVALUO_REAL\n",
            "4         1.1             indicador\n",
            "5         1.1                 Banca\n",
            "6         1.2              Regional\n",
            "7         1.2  años_en_contabilidad\n",
            "8         2.2          Tipificación\n"
          ],
          "name": "stdout"
        }
      ]
    },
    {
      "cell_type": "code",
      "metadata": {
        "colab": {
          "base_uri": "https://localhost:8080/"
        },
        "id": "dW0lAMXKDmEg",
        "outputId": "70e7b7c0-3fb5-4b72-b36c-ca3582dc14e1"
      },
      "source": [
        "cph=CoxPHFitter()\r\n",
        "cph.fit(dfcox, duration_col='weeks_evento', event_col='evento',strata=['Tipificación'])"
      ],
      "execution_count": 54,
      "outputs": [
        {
          "output_type": "execute_result",
          "data": {
            "text/plain": [
              "<lifelines.CoxPHFitter: fitted with 352 total observations, 0 right-censored observations>"
            ]
          },
          "metadata": {
            "tags": []
          },
          "execution_count": 54
        }
      ]
    },
    {
      "cell_type": "code",
      "metadata": {
        "colab": {
          "base_uri": "https://localhost:8080/"
        },
        "id": "x6HfFFcJZeui",
        "outputId": "f22396ad-0795-47ef-b2e2-08674c553262"
      },
      "source": [
        "cph.check_assumptions(dfcox,show_plots=True)"
      ],
      "execution_count": 55,
      "outputs": [
        {
          "output_type": "stream",
          "text": [
            "Proportional hazard assumption looks okay.\n"
          ],
          "name": "stdout"
        },
        {
          "output_type": "execute_result",
          "data": {
            "text/plain": [
              "[]"
            ]
          },
          "metadata": {
            "tags": []
          },
          "execution_count": 55
        }
      ]
    },
    {
      "cell_type": "code",
      "metadata": {
        "colab": {
          "base_uri": "https://localhost:8080/"
        },
        "id": "PHBxs96hijv9",
        "outputId": "ed645ada-f43b-471e-9f4f-377193d6319e"
      },
      "source": [
        "cph.concordance_index_"
      ],
      "execution_count": 56,
      "outputs": [
        {
          "output_type": "execute_result",
          "data": {
            "text/plain": [
              "0.596844981782047"
            ]
          },
          "metadata": {
            "tags": []
          },
          "execution_count": 56
        }
      ]
    },
    {
      "cell_type": "code",
      "metadata": {
        "colab": {
          "base_uri": "https://localhost:8080/",
          "height": 390
        },
        "id": "zH6KjumDQf4R",
        "outputId": "4a839a3e-b267-4356-ab66-f69fa639b9bb"
      },
      "source": [
        "sns.set_context(\"talk\")\r\n",
        "fig, ax = plt.subplots(figsize=(25,10))\r\n",
        "cph.plot()  \r\n",
        "plt.savefig('coxe_results_general.png')\r\n",
        "\r\n"
      ],
      "execution_count": 157,
      "outputs": [
        {
          "output_type": "display_data",
          "data": {
            "image/png": "[encoded data removed]",
            "text/plain": [
              "<Figure size 1800x720 with 1 Axes>"
            ]
          },
          "metadata": {
            "tags": [],
            "needs_background": "light"
          }
        }
      ]
    },
    {
      "cell_type": "markdown",
      "metadata": {
        "id": "ZeWyYWKFINg4"
      },
      "source": [
        "#DASH"
      ]
    },
    {
      "cell_type": "code",
      "metadata": {
        "id": "JrtM9rsVImWI",
        "colab": {
          "base_uri": "https://localhost:8080/"
        },
        "outputId": "824e2718-9c4e-4370-9054-3ca92382e905"
      },
      "source": [
        " pip install jupyter-dash"
      ],
      "execution_count": 58,
      "outputs": [
        {
          "output_type": "stream",
          "text": [
            "Collecting jupyter-dash\n",
            "\u001b[?25l  Downloading https://files.pythonhosted.org/packages/b9/b9/5f9499a0154124a262c85e3a99033b9b3a20dc3d2707b587f52b32b60d76/jupyter_dash-0.3.1-py3-none-any.whl (49kB)\n",
            "\r\u001b[K     |██████▊                         | 10kB 17.0MB/s eta 0:00:01\r\u001b[K     |█████████████▍                  | 20kB 19.2MB/s eta 0:00:01\r\u001b[K     |████████████████████            | 30kB 15.4MB/s eta 0:00:01\r\u001b[K     |██████████████████████████▊     | 40kB 11.2MB/s eta 0:00:01\r\u001b[K     |████████████████████████████████| 51kB 3.9MB/s \n",
            "\u001b[?25hRequirement already satisfied: requests in /usr/local/lib/python3.6/dist-packages (from jupyter-dash) (2.23.0)\n",
            "Requirement already satisfied: ipython in /usr/local/lib/python3.6/dist-packages (from jupyter-dash) (5.5.0)\n",
            "Requirement already satisfied: retrying in /usr/local/lib/python3.6/dist-packages (from jupyter-dash) (1.3.3)\n",
            "Requirement already satisfied: flask in /usr/local/lib/python3.6/dist-packages (from jupyter-dash) (1.1.2)\n",
            "Collecting ansi2html\n",
            "  Downloading https://files.pythonhosted.org/packages/c6/85/3a46be84afbb16b392a138cd396117f438c7b2e91d8dc327621d1ae1b5dc/ansi2html-1.6.0-py3-none-any.whl\n",
            "Requirement already satisfied: dash in /usr/local/lib/python3.6/dist-packages (from jupyter-dash) (1.18.1)\n",
            "Requirement already satisfied: ipykernel in /usr/local/lib/python3.6/dist-packages (from jupyter-dash) (4.10.1)\n",
            "Requirement already satisfied: idna<3,>=2.5 in /usr/local/lib/python3.6/dist-packages (from requests->jupyter-dash) (2.10)\n",
            "Requirement already satisfied: urllib3!=1.25.0,!=1.25.1,<1.26,>=1.21.1 in /usr/local/lib/python3.6/dist-packages (from requests->jupyter-dash) (1.24.3)\n",
            "Requirement already satisfied: certifi>=2017.4.17 in /usr/local/lib/python3.6/dist-packages (from requests->jupyter-dash) (2020.12.5)\n",
            "Requirement already satisfied: chardet<4,>=3.0.2 in /usr/local/lib/python3.6/dist-packages (from requests->jupyter-dash) (3.0.4)\n",
            "Requirement already satisfied: setuptools>=18.5 in /usr/local/lib/python3.6/dist-packages (from ipython->jupyter-dash) (50.3.2)\n",
            "Requirement already satisfied: decorator in /usr/local/lib/python3.6/dist-packages (from ipython->jupyter-dash) (4.4.2)\n",
            "Requirement already satisfied: traitlets>=4.2 in /usr/local/lib/python3.6/dist-packages (from ipython->jupyter-dash) (4.3.3)\n",
            "Requirement already satisfied: pexpect; sys_platform != \"win32\" in /usr/local/lib/python3.6/dist-packages (from ipython->jupyter-dash) (4.8.0)\n",
            "Requirement already satisfied: prompt-toolkit<2.0.0,>=1.0.4 in /usr/local/lib/python3.6/dist-packages (from ipython->jupyter-dash) (1.0.18)\n",
            "Requirement already satisfied: simplegeneric>0.8 in /usr/local/lib/python3.6/dist-packages (from ipython->jupyter-dash) (0.8.1)\n",
            "Requirement already satisfied: pygments in /usr/local/lib/python3.6/dist-packages (from ipython->jupyter-dash) (2.6.1)\n",
            "Requirement already satisfied: pickleshare in /usr/local/lib/python3.6/dist-packages (from ipython->jupyter-dash) (0.7.5)\n",
            "Requirement already satisfied: six>=1.7.0 in /usr/local/lib/python3.6/dist-packages (from retrying->jupyter-dash) (1.15.0)\n",
            "Requirement already satisfied: click>=5.1 in /usr/local/lib/python3.6/dist-packages (from flask->jupyter-dash) (7.1.2)\n",
            "Requirement already satisfied: Werkzeug>=0.15 in /usr/local/lib/python3.6/dist-packages (from flask->jupyter-dash) (1.0.1)\n",
            "Requirement already satisfied: itsdangerous>=0.24 in /usr/local/lib/python3.6/dist-packages (from flask->jupyter-dash) (1.1.0)\n",
            "Requirement already satisfied: Jinja2>=2.10.1 in /usr/local/lib/python3.6/dist-packages (from flask->jupyter-dash) (2.11.2)\n",
            "Requirement already satisfied: dash-table==4.11.1 in /usr/local/lib/python3.6/dist-packages (from dash->jupyter-dash) (4.11.1)\n",
            "Requirement already satisfied: future in /usr/local/lib/python3.6/dist-packages (from dash->jupyter-dash) (0.16.0)\n",
            "Requirement already satisfied: plotly in /usr/local/lib/python3.6/dist-packages (from dash->jupyter-dash) (4.4.1)\n",
            "Requirement already satisfied: dash-renderer==1.8.3 in /usr/local/lib/python3.6/dist-packages (from dash->jupyter-dash) (1.8.3)\n",
            "Requirement already satisfied: dash-html-components==1.1.1 in /usr/local/lib/python3.6/dist-packages (from dash->jupyter-dash) (1.1.1)\n",
            "Requirement already satisfied: flask-compress in /usr/local/lib/python3.6/dist-packages (from dash->jupyter-dash) (1.8.0)\n",
            "Requirement already satisfied: dash-core-components==1.14.1 in /usr/local/lib/python3.6/dist-packages (from dash->jupyter-dash) (1.14.1)\n",
            "Requirement already satisfied: tornado>=4.0 in /usr/local/lib/python3.6/dist-packages (from ipykernel->jupyter-dash) (5.1.1)\n",
            "Requirement already satisfied: jupyter-client in /usr/local/lib/python3.6/dist-packages (from ipykernel->jupyter-dash) (5.3.5)\n",
            "Requirement already satisfied: ipython-genutils in /usr/local/lib/python3.6/dist-packages (from traitlets>=4.2->ipython->jupyter-dash) (0.2.0)\n",
            "Requirement already satisfied: ptyprocess>=0.5 in /usr/local/lib/python3.6/dist-packages (from pexpect; sys_platform != \"win32\"->ipython->jupyter-dash) (0.6.0)\n",
            "Requirement already satisfied: wcwidth in /usr/local/lib/python3.6/dist-packages (from prompt-toolkit<2.0.0,>=1.0.4->ipython->jupyter-dash) (0.2.5)\n",
            "Requirement already satisfied: MarkupSafe>=0.23 in /usr/local/lib/python3.6/dist-packages (from Jinja2>=2.10.1->flask->jupyter-dash) (1.1.1)\n",
            "Requirement already satisfied: brotli in /usr/local/lib/python3.6/dist-packages (from flask-compress->dash->jupyter-dash) (1.0.9)\n",
            "Requirement already satisfied: jupyter-core>=4.6.0 in /usr/local/lib/python3.6/dist-packages (from jupyter-client->ipykernel->jupyter-dash) (4.7.0)\n",
            "Requirement already satisfied: pyzmq>=13 in /usr/local/lib/python3.6/dist-packages (from jupyter-client->ipykernel->jupyter-dash) (20.0.0)\n",
            "Requirement already satisfied: python-dateutil>=2.1 in /usr/local/lib/python3.6/dist-packages (from jupyter-client->ipykernel->jupyter-dash) (2.8.1)\n",
            "Installing collected packages: ansi2html, jupyter-dash\n",
            "Successfully installed ansi2html-1.6.0 jupyter-dash-0.3.1\n"
          ],
          "name": "stdout"
        }
      ]
    },
    {
      "cell_type": "code",
      "metadata": {
        "colab": {
          "base_uri": "https://localhost:8080/"
        },
        "id": "JNrvy57i4Tvc",
        "outputId": "16a945fe-0d26-4b7e-bdbe-c0c68064a819"
      },
      "source": [
        "!pip install dash_defer_js_import"
      ],
      "execution_count": 59,
      "outputs": [
        {
          "output_type": "stream",
          "text": [
            "Collecting dash_defer_js_import\n",
            "  Downloading https://files.pythonhosted.org/packages/01/55/00cb28fbfa48c14815cef2c3754fab9c9dad93cbe4b8a8492e0e5aa516ea/dash_defer_js_import-0.0.2.tar.gz\n",
            "Building wheels for collected packages: dash-defer-js-import\n",
            "  Building wheel for dash-defer-js-import (setup.py) ... \u001b[?25l\u001b[?25hdone\n",
            "  Created wheel for dash-defer-js-import: filename=dash_defer_js_import-0.0.2-cp36-none-any.whl size=38901 sha256=fcaf69ac7c5b05ad69ba6fbe61ffe1bf315011165224294997f76cfb5e8e3d05\n",
            "  Stored in directory: /root/.cache/pip/wheels/4c/b6/17/986e72c784903ff8804d6c728ed95ae3529ed4f0de7c996111\n",
            "Successfully built dash-defer-js-import\n",
            "Installing collected packages: dash-defer-js-import\n",
            "Successfully installed dash-defer-js-import-0.0.2\n"
          ],
          "name": "stdout"
        }
      ]
    },
    {
      "cell_type": "code",
      "metadata": {
        "id": "5QaR9tgy22Yk"
      },
      "source": [
        "import plotly.express as px\r\n",
        "from jupyter_dash import JupyterDash\r\n",
        "import dash_core_components as dcc\r\n",
        "import dash_html_components as html\r\n",
        "from dash.dependencies import Input, Output\r\n",
        "import dash_defer_js_import as dji\r\n",
        "import re\r\n",
        "import urllib.parse"
      ],
      "execution_count": 60,
      "outputs": []
    },
    {
      "cell_type": "code",
      "metadata": {
        "id": "iJuSBHzFLJOp"
      },
      "source": [
        "JupyterDash.infer_jupyter_proxy_config()"
      ],
      "execution_count": 61,
      "outputs": []
    },
    {
      "cell_type": "code",
      "metadata": {
        "id": "ZuoWL-iG7CLi"
      },
      "source": [
        "def convert(text):\r\n",
        "    def toimage(x):\r\n",
        "        if x[1] and x[-2] == r'$':\r\n",
        "            x = x[2:-2]\r\n",
        "            img = \"\\n<img src='https://math.now.sh?from={}' style='display: block; margin: 0.5em auto;'>\\n\"\r\n",
        "            return img.format(urllib.parse.quote_plus(x))\r\n",
        "        else:\r\n",
        "            x = x[1:-1]\r\n",
        "            return r'![](https://math.now.sh?from={})'.format(urllib.parse.quote_plus(x))\r\n",
        "    return re.sub(r'\\${2}([^$]+)\\${2}|\\$(.+?)\\$', lambda x: toimage(x.group()), text)\r\n",
        "\r\n",
        "Markdown_text = r\"\"\"\r\n",
        "  \r\n",
        "$\\hat{S}(t_i)=\\prod_{t_i\\leq}\\frac{n_i-d_i}{n_i}$\r\n",
        "\r\n",
        "\r\n",
        "En donde:\r\n",
        "\r\n",
        "\r\n",
        "$\\hat{S}(t_i)$= Es la probabilidad de que no se venda un inmueble en el tiempo $t_i$.\r\n",
        "\r\n",
        "\r\n",
        "$n_i$= Número de inmuebles que no se vendieron hasta el tiempo $t_i$.\r\n",
        "\r\n",
        "\r\n",
        "$d_i$= Es el númeor de inmuebles vendidos hasta el tiempo $t_i$.\r\n",
        "\r\n",
        "\"\"\"\r\n",
        "\r\n",
        "Markdown_text1 = r\"\"\"\r\n",
        "  \r\n",
        "$\\hat{S}(t_i)=\\hat{S}(t_i-1)(1-\\frac{d_i}{n_i})$\r\n",
        "\r\n",
        "\r\n",
        "$\\hat{S}(n)=\\hat{S}_0*\\hat{S}_1*\\hat{S}_2...\\hat{S}_n$\r\n",
        "\r\n",
        "\r\n",
        "\r\n",
        "\r\n",
        "\"\"\"\r\n",
        "\r\n",
        "Markdown_text2 = r\"\"\"\r\n",
        "  $h(x|t)=b_0(t)* \\exp(\\sum_{i=1}^nb_i*x_i) \\qquad \\qquad (1)$ \r\n",
        "  \r\n",
        "  En donde:\r\n",
        "  \r\n",
        "  $x_i$: Es la variable de interés, tal como: tipo de inmueble, región, banca.\r\n",
        "\r\n",
        "\r\n",
        "  $b_0(t)$ se conoce como riesgo base y corresponde al riesgo de vender el inmueble cuando cada $x_i=0$.\r\n",
        "  \"\"\"\r\n",
        "\r\n",
        "\r\n",
        "\r\n",
        "Markdown_text3 = r\"\"\"\r\n",
        "  $p< 0.05$, podemos evaluar la relevancia estadística que tiene cada una de las variables $x_i$.\r\n",
        "\r\n",
        "  A partir de la ecuación (1) podemos definir:\r\n",
        "\r\n",
        "  $HR=\\exp(b_i)$\r\n",
        " \r\n",
        "  A partir del valor de $HR$ se puede evaluar el efecto de cada variable en el tiempo de supervivencia de un inmueble:\r\n",
        "\r\n",
        "  $HR=1$ La variable no tiene ningún efecto.\r\n",
        "\r\n",
        "  $HR< 1$ Se reduce el riesgo de que el evento ocurra.\r\n",
        "\r\n",
        "  $HR>1$ Aumenta el riesgo de que el evento ocurra.\r\n",
        "  \"\"\"\r\n",
        "\r\n",
        "\r\n",
        "Markdown_text = convert(Markdown_text)\r\n",
        "\r\n",
        "Markdown_text1 = convert(Markdown_text1)\r\n",
        "\r\n",
        "Markdown_text2 = convert(Markdown_text2)\r\n",
        "\r\n",
        "Markdown_text3 = convert(Markdown_text3)\r\n"
      ],
      "execution_count": 170,
      "outputs": []
    },
    {
      "cell_type": "code",
      "metadata": {
        "colab": {
          "base_uri": "https://localhost:8080/",
          "height": 671
        },
        "id": "DqhUSZyHp3GP",
        "outputId": "894da591-afbf-4ee7-fd03-d41ce9f0bd97"
      },
      "source": [
        "external_stylesheets = ['https://codepen.io/chriddyp/pen/bWLwgP.css']\r\n",
        "app = JupyterDash(__name__, external_stylesheets=external_stylesheets)\r\n",
        "\r\n",
        "\r\n",
        "\r\n",
        "server = app.server\r\n",
        "colors = {\r\n",
        "    'background': '#111111',\r\n",
        "    'text': '#EE1A26',\r\n",
        "    'subtext':'slategray'\r\n",
        "    ,'title':'gray'\r\n",
        "}\r\n",
        "\r\n",
        "def generate_table(dic_tables_2017, max_rows=25):\r\n",
        "    return html.Table([\r\n",
        "        html.Thead(\r\n",
        "            html.Tr([html.Th(col) for col in dic_tables_2017.columns])\r\n",
        "        ),\r\n",
        "        html.Tbody([\r\n",
        "            html.Tr([\r\n",
        "                html.Td(dic_tables_2017.iloc[i][col]) for col in dic_tables_2017.columns\r\n",
        "            ]) for i in range(min(len(dic_tables_2017), max_rows))\r\n",
        "        ])\r\n",
        "    ])\r\n",
        "\r\n",
        "################################layout aplicación#############################\r\n",
        "\r\n",
        "app.layout =html.Div([\r\n",
        "    dcc.Tabs(id=\"tabs-styled-with-props\", value='tab-1', children=[\r\n",
        "                                                                   \r\n",
        "        dcc.Tab(label='Análisis general', value='tab-1'),                                                          \r\n",
        "        dcc.Tab(label='Fecha de cubo 2: 2016 y 2017', value='tab-2'),\r\n",
        "        dcc.Tab(label='Fecha de cubo 2: 2018', value='tab-3'),\r\n",
        "        dcc.Tab(label='Fecha de cubo 2: 2019', value='tab-4'),\r\n",
        "        dcc.Tab(label='Fecha de cubo 2: 2020', value='tab-5'),\r\n",
        "    ], colors={\r\n",
        "        \"border\": \"white\",\r\n",
        "        \"primary\": \"gold\",\r\n",
        "        \"background\": \"cornsilk\"\r\n",
        "    }),\r\n",
        "    html.Div(id='tabs-content-props')\r\n",
        "    \r\n",
        "  \r\n",
        "])\r\n",
        "####################################################################################################################\r\n",
        "\r\n",
        "# Define callback to update graph\r\n",
        "@app.callback(\r\n",
        "    Output('graph', 'figure'),\r\n",
        "    Input(\"colorscale-dropdown\", \"value\")\r\n",
        ")\r\n",
        "def update_figure(value):\r\n",
        "  if (value=='kmf_2017_1') | (value=='kmf_2017_2') | (value=='kmf_2017_3') | (value=='kmf_2017_4'): \r\n",
        "    return dic_fig_2017[value]\r\n",
        "\r\n",
        "  if (value=='kmf_2018_1') | (value=='kmf_2018_2') | (value=='kmf_2018_3'): \r\n",
        "    return dic_fig_2018[value]\r\n",
        "  \r\n",
        "  if (value=='kmf_2019_1') | (value=='kmf_2019_2'): \r\n",
        "    return dic_fig_2019[value]\r\n",
        "  \r\n",
        "  if (value=='kmf_2020_1'): \r\n",
        "    return dic_fig_2020[value]\r\n",
        "\r\n",
        "@app.callback(\r\n",
        "    Output('graph1', 'figure'),\r\n",
        "    Input(\"colorscale-dropdown\", \"value\")\r\n",
        ")\r\n",
        "def update_figure_1(value):\r\n",
        "  if (value=='kmf_2017_1') | (value=='kmf_2017_2') | (value=='kmf_2017_3') | (value=='kmf_2017_4'): \r\n",
        "    return dic_fig_2017_region[value]\r\n",
        "\r\n",
        "  if (value=='kmf_2018_1') | (value=='kmf_2018_2') | (value=='kmf_2018_3'): \r\n",
        "    return dic_fig_2018_region[value]\r\n",
        "\r\n",
        "  if (value=='kmf_2019_1') | (value=='kmf_2019_2'): \r\n",
        "    return dic_fig_2019_region[value]\r\n",
        "  \r\n",
        "  if (value=='kmf_2020_1'): \r\n",
        "    return dic_fig_2020_region[value]\r\n",
        "  \r\n",
        "  \r\n",
        "\r\n",
        "@app.callback(\r\n",
        "    Output('graph2', 'figure'),\r\n",
        "    Input(\"colorscale-dropdown\", \"value\")\r\n",
        ")\r\n",
        "def update_figure_2(value):\r\n",
        "  if (value=='kmf_2017_1') | (value=='kmf_2017_2') | (value=='kmf_2017_3') | (value=='kmf_2017_4'): \r\n",
        "    return dic_fig_2017_inmueble[value]\r\n",
        "  if (value=='kmf_2018_1') | (value=='kmf_2018_2') | (value=='kmf_2018_3'): \r\n",
        "    return dic_fig_2018_inmueble[value]\r\n",
        "\r\n",
        "  if (value=='kmf_2019_1') | (value=='kmf_2019_2'): \r\n",
        "    return dic_fig_2019_inmueble[value]   \r\n",
        "  if (value=='kmf_2020_1'): \r\n",
        "    return dic_fig_2020_inmueble[value]\r\n",
        "\r\n",
        "@app.callback(Output('table-container', 'children'), [Input('colorscale-dropdown', 'value')])\r\n",
        "\r\n",
        "def update_table(value):\r\n",
        "  if (value=='kmf_2017_1') | (value=='kmf_2017_2') | (value=='kmf_2017_3') | (value=='kmf_2017_4'): \r\n",
        "    dff = dic_tables_2017[value] # update with your own logic\r\n",
        "    return generate_table(dff)\r\n",
        "  \r\n",
        "  if (value=='kmf_2018_1') | (value=='kmf_2018_2') | (value=='kmf_2018_3'): \r\n",
        "    dff = dic_tables_2018[value] \r\n",
        "    return generate_table(dff)\r\n",
        "\r\n",
        "  if (value=='kmf_2019_1') | (value=='kmf_2019_2'): \r\n",
        "    dff = dic_tables_2019[value] \r\n",
        "    return generate_table(dff)\r\n",
        "\r\n",
        "  if (value=='kmf_2020_1'): \r\n",
        "    dff = dic_tables_2020[value] \r\n",
        "    return generate_table(dff)\r\n",
        "\r\n",
        "\r\n",
        "@app.callback(Output('tabs-content-props', 'children'),\r\n",
        "              Input('tabs-styled-with-props', 'value'))\r\n",
        "\r\n",
        "##########################################################################################\r\n",
        "\r\n",
        "def render_content(tab):\r\n",
        "\r\n",
        "##########################################################################################\r\n",
        "    \r\n",
        "    if tab == 'tab-1':\r\n",
        "        return html.Div([html.H1(\r\n",
        "        children='Dash: Davivienda',\r\n",
        "        style={\r\n",
        "            'textAlign': 'center',\r\n",
        "             'color': colors['text']\r\n",
        "        }\r\n",
        "    ),\r\n",
        "    html.Div(children='Análisis de supervivencia para los inmuebles ingresados al banco entre los años 2016 y 2020', style={\r\n",
        "        'textAlign': 'center',\r\n",
        "        'color': colors['subtext']\r\n",
        "    }),\r\n",
        "   \r\n",
        "\r\n",
        "    html.Div(children='Estimador de Kaplan-Meier:', style={\r\n",
        "        'textAlign': 'left',\r\n",
        "        'color':'black'\r\n",
        "    }),\r\n",
        "\r\n",
        "    html.Div(children='Para realizar los análisis de supervivencia usamos la teoría relacionada con los estimadores de Kaplan-Meier. La probabilidad de supervivencia, en este caso de un inmueble, en un tiempo t se denota como S(t) y se calcula a partir de la siguiente ecuación:', style={\r\n",
        "       'textAlign': 'left',\r\n",
        "        'color': colors['title']\r\n",
        "    }),\r\n",
        "    html.Div( dcc.Markdown(Markdown_text, dangerously_allow_html=True),style={'width': '100%', 'float': 'center', 'display': 'inline-block','textAlign': 'left',\r\n",
        "        'color': colors['title']}),\r\n",
        "    \r\n",
        "    html.Div(children='La anterior ecuación se puede reescribir de otra forma y así obtener una mejor interpretación:', style={\r\n",
        "        'textAlign': 'left',\r\n",
        "        'color': colors['title']\r\n",
        "    }),\r\n",
        "    html.Div( dcc.Markdown(Markdown_text1, dangerously_allow_html=True),style={'width': '100%', 'float': 'center', 'display': 'inline-block','textAlign': 'left',\r\n",
        "        'color': colors['title']}),\r\n",
        "\r\n",
        "    html.Div(children='A continuación presentamos los resultados del análisis de supervivencia para todos los inmuebles ingresados y vendidos entre los años 2016 y 2020:',style={'textAlign': 'center',\r\n",
        "        'color': colors['title']}),\r\n",
        "    dcc.Graph(\r\n",
        "        id='general_1',\r\n",
        "        figure=plotly_fig(kmf_general,'2016 y 2020',0,260,1)),\r\n",
        "    dcc.Graph(\r\n",
        "        id='general_1_regional',\r\n",
        "        figure=categoria_func('2016 y 2020',0,260,'Regional',df,2010)\r\n",
        "    ),\r\n",
        "    \r\n",
        "    dcc.Graph(\r\n",
        "        id='general_1_tipo_inm',\r\n",
        "        figure=categoria_func('2016 y 2020',0,260,'Tipificación',df,2010)\r\n",
        "    ),\r\n",
        "    html.Div(children='A continuación presentamos el efecto que tienen ciertas variables en el tiempo de supervivencia de un inmueble', style={'textAlign': 'center',\r\n",
        "        'color': colors['title']}),\r\n",
        "    html.Div(children='Modelo de riesgos proporcionales (Regresión de Cox):', style={\r\n",
        "        'textAlign': 'left',\r\n",
        "        'color':'black'\r\n",
        "    }),\r\n",
        "    html.Div( dcc.Markdown(Markdown_text2, dangerously_allow_html=True),style={'width': '100%', 'float': 'center', 'display': 'inline-block','textAlign': 'left',\r\n",
        "        'color': colors['title']}),\r\n",
        "    html.Div(children='Los resultados obtenidos para este análisis se muestran a continuación:', style={\r\n",
        "        'textAlign': 'left',\r\n",
        "        'color':colors['title']\r\n",
        "    }),\r\n",
        "    html.Embed(src='https://htmlpreview.github.io/?https://raw.githubusercontent.com/ancastillar/Aplicacion_deteccion_riesgo_inmuebles_Davivienda/main/cox_results_general', style={'width': '100%', 'float': 'center', 'display': 'inline-block'}),\r\n",
        "    html.Img(src='https://raw.githubusercontent.com/ancastillar/Aplicacion_deteccion_riesgo_inmuebles_Davivienda/main/coxe_results_general.png', style={'width': '60%', 'float': 'right', 'display': 'inline-block'}),\r\n",
        "    \r\n",
        "    html.Div(children='¿Cómo interpretar los resultados?', style={\r\n",
        "        'textAlign': 'left',\r\n",
        "        'color':'black'\r\n",
        "    }),\r\n",
        "    html.Div( dcc.Markdown(Markdown_text3, dangerously_allow_html=True),style={'width': '40%', 'float': 'left', 'display': 'inline-block','textAlign': 'left',\r\n",
        "        'color': colors['title']})\r\n",
        "    ])\r\n",
        " \r\n",
        "######################################################################################################################################        \r\n",
        "    if tab == 'tab-2':\r\n",
        "        return html.Div([html.H1(\r\n",
        "        children='Dash: Davivienda',\r\n",
        "        style={\r\n",
        "            'textAlign': 'center',\r\n",
        "             'color': colors['text']\r\n",
        "        }\r\n",
        "    ),\r\n",
        "\r\n",
        "    html.Div(children='Análisis de supervivencia para los inmuebles ingresados al banco entre los años 2016 y 2017', style={\r\n",
        "        'textAlign': 'center',\r\n",
        "        'color': colors['subtext']\r\n",
        "    }),\r\n",
        "    html.Div([\r\n",
        "      html.Label([\r\n",
        "          \"Selecciona el año de análisis de venta de los inmuebles\",\r\n",
        "          dcc.Dropdown(\r\n",
        "              id='colorscale-dropdown', \r\n",
        "              options=[{'label': '2017', 'value':'kmf_2017_1'},{'label': '2018', 'value': 'kmf_2017_2'},{'label': '2019', 'value': 'kmf_2017_3'},{'label': '2020', 'value': 'kmf_2017_4'}]               \r\n",
        "              ,value='kmf_2017_1')\r\n",
        "      ])]),\r\n",
        "\r\n",
        "\r\n",
        "    html.Div([html.Div(id='table-container', style={'width': '43%', 'float': 'right', 'display': 'inline-block'}),\r\n",
        "            \r\n",
        "    ]),\r\n",
        "    dcc.Graph(id='graph'),\r\n",
        "    dcc.Graph(id='graph1'),\r\n",
        "    dcc.Graph(id='graph2'),\r\n",
        "\r\n",
        "    ])\r\n",
        "        \r\n",
        "#########################################################################################################\r\n",
        "\r\n",
        "    elif tab == 'tab-3':\r\n",
        "        return html.Div([\r\n",
        "            html.H1(\r\n",
        "        children='Dash: Davivienda',\r\n",
        "        style={\r\n",
        "            'textAlign': 'center',\r\n",
        "             'color': colors['text']\r\n",
        "        }\r\n",
        "    ),\r\n",
        "\r\n",
        "    html.Div(children='Análisis de supervivencia para los inmuebles ingresados al banco en el año 2018', style={\r\n",
        "        'textAlign': 'center',\r\n",
        "        'color': colors['subtext']\r\n",
        "    }),\r\n",
        "    html.Div([\r\n",
        "      html.Label([\r\n",
        "          \"Selecciona el año de análisis de venta de los inmuebles\",\r\n",
        "          dcc.Dropdown(\r\n",
        "              id='colorscale-dropdown', \r\n",
        "              options=[{'label': '2018', 'value': 'kmf_2018_1'},{'label': '2019', 'value': 'kmf_2018_2'},{'label': '2020', 'value': 'kmf_2018_3'}]               \r\n",
        "              ,value='kmf_2018_1')\r\n",
        "      ])]),\r\n",
        "\r\n",
        "\r\n",
        "    html.Div([html.Div(id='table-container', style={'width': '43%', 'float': 'right', 'display': 'inline-block'}),\r\n",
        "    ]),\r\n",
        "    dcc.Graph(id='graph'),\r\n",
        "    dcc.Graph(id='graph1'),\r\n",
        "    dcc.Graph(id='graph2')\r\n",
        "  \r\n",
        "           \r\n",
        "        ])\r\n",
        "\r\n",
        "\r\n",
        "    elif tab == 'tab-4':\r\n",
        "        return html.Div([\r\n",
        "            html.H1(\r\n",
        "        children='Dash: Davivienda',\r\n",
        "        style={\r\n",
        "            'textAlign': 'center',\r\n",
        "             'color': colors['text']\r\n",
        "        }\r\n",
        "    ),\r\n",
        "\r\n",
        "    html.Div(children='Análisis de supervivencia para los inmuebles ingresados al banco en el año 2019', style={\r\n",
        "        'textAlign': 'center',\r\n",
        "        'color': colors['subtext']\r\n",
        "    }),\r\n",
        "    html.Div([\r\n",
        "      html.Label([\r\n",
        "          \"Selecciona el año de análisis de venta de los inmuebles\",\r\n",
        "          dcc.Dropdown(\r\n",
        "              id='colorscale-dropdown', \r\n",
        "              options=[{'label': '2019', 'value': 'kmf_2019_1'},{'label': '2020', 'value': 'kmf_2019_2'}]               \r\n",
        "              ,value='kmf_2019_1')\r\n",
        "      ])]),\r\n",
        "\r\n",
        "\r\n",
        "    html.Div([html.Div(id='table-container', style={'width': '43%', 'float': 'right', 'display': 'inline-block'}),\r\n",
        "             ]),\r\n",
        "    dcc.Graph(id='graph'),\r\n",
        "    dcc.Graph(id='graph1'),\r\n",
        "    dcc.Graph(id='graph2')\r\n",
        "  \r\n",
        "           \r\n",
        "        ])\r\n",
        "    elif tab == 'tab-5':\r\n",
        "        return html.Div([\r\n",
        "            html.H1(\r\n",
        "        children='Dash: Davivienda',\r\n",
        "        style={\r\n",
        "            'textAlign': 'center',\r\n",
        "             'color': colors['text']\r\n",
        "        }\r\n",
        "    ),\r\n",
        "\r\n",
        "    html.Div(children='Análisis de supervivencia para los inmuebles ingresados al banco en el año 2020', style={\r\n",
        "        'textAlign': 'center',\r\n",
        "        'color': colors['subtext']\r\n",
        "    }),\r\n",
        "    html.Div([\r\n",
        "      html.Label([\r\n",
        "          \"Selecciona el año de análisis de venta de los inmuebles\",\r\n",
        "          dcc.Dropdown(\r\n",
        "              id='colorscale-dropdown', \r\n",
        "              options=[{'label': '2020', 'value': 'kmf_2020_1'}]               \r\n",
        "              ,value='kmf_2020_1')\r\n",
        "      ])]),\r\n",
        "\r\n",
        "\r\n",
        "    html.Div([html.Div(id='table-container', style={'width': '43%', 'float': 'right', 'display': 'inline-block'}),\r\n",
        "             ]),\r\n",
        "    dcc.Graph(id='graph'),\r\n",
        "    dcc.Graph(id='graph1'),\r\n",
        "    dcc.Graph(id='graph2')\r\n",
        "  \r\n",
        "           \r\n",
        "        ])\r\n",
        "  \r\n",
        "####################run app\r\n",
        "app.run_server(mode='inline')\r\n",
        "\r\n",
        "\r\n",
        "\r\n"
      ],
      "execution_count": 171,
      "outputs": [
        {
          "output_type": "display_data",
          "data": {
            "application/javascript": [
              "(async (port, path, width, height, cache, element) => {\n",
              "    if (!google.colab.kernel.accessAllowed && !cache) {\n",
              "      return;\n",
              "    }\n",
              "    element.appendChild(document.createTextNode(''));\n",
              "    const url = await google.colab.kernel.proxyPort(port, {cache});\n",
              "    const iframe = document.createElement('iframe');\n",
              "    iframe.src = url + path;\n",
              "    iframe.height = height;\n",
              "    iframe.width = width;\n",
              "    iframe.style.border = 0;\n",
              "    element.appendChild(iframe);\n",
              "  })(8050, \"/\", \"100%\", 650, false, window.element)"
            ],
            "text/plain": [
              "<IPython.core.display.Javascript object>"
            ]
          },
          "metadata": {
            "tags": []
          }
        }
      ]
    },
    {
      "cell_type": "code",
      "metadata": {
        "id": "yRC2MMkFCGf3"
      },
      "source": [
        ""
      ],
      "execution_count": null,
      "outputs": []
    }
  ]
}